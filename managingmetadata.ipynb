{
 "cells": [
  {
   "cell_type": "code",
   "execution_count": 2,
   "id": "40e8234c-d23b-47eb-b28c-a35d63ec950f",
   "metadata": {},
   "outputs": [
    {
     "name": "stderr",
     "output_type": "stream",
     "text": [
      "/usr/lib/python3/dist-packages/scipy/__init__.py:146: UserWarning: A NumPy version >=1.17.3 and <1.25.0 is required for this version of SciPy (detected version 1.26.2\n",
      "  warnings.warn(f\"A NumPy version >={np_minversion} and <{np_maxversion}\"\n"
     ]
    }
   ],
   "source": [
    "from Data import metadata_pb2 as mpb\n",
    "from wordlexicon import lexicon_list"
   ]
  },
  {
   "cell_type": "code",
   "execution_count": 3,
   "id": "659972f0-0919-442d-b209-b83c3f1a3418",
   "metadata": {},
   "outputs": [
    {
     "data": {
      "text/plain": [
       "240956"
      ]
     },
     "execution_count": 3,
     "metadata": {},
     "output_type": "execute_result"
    }
   ],
   "source": [
    "len(lexicon_list)"
   ]
  },
  {
   "cell_type": "code",
   "execution_count": 10,
   "id": "416c8768-287b-4cbf-8333-32afaf580349",
   "metadata": {},
   "outputs": [
    {
     "data": {
      "text/plain": [
       "7"
      ]
     },
     "execution_count": 10,
     "metadata": {},
     "output_type": "execute_result"
    }
   ],
   "source": [
    "with open(\"Data/metadata.pb\", \"rb\") as f:\n",
    "    filecontent = f.read()\n",
    "\n",
    "metadata = mpb.MetaData()\n",
    "metadata.ParseFromString(filecontent)"
   ]
  },
  {
   "cell_type": "code",
   "execution_count": 15,
   "id": "f4ec8411-0c36-4740-8b30-3052d316118e",
   "metadata": {},
   "outputs": [],
   "source": [
    "metadata.lexiconheight  = len(lexicon_list)"
   ]
  },
  {
   "cell_type": "code",
   "execution_count": 16,
   "id": "3f93ce0e-441d-4562-a94b-77abbefcd4ed",
   "metadata": {},
   "outputs": [],
   "source": [
    "filecontent = metadata.SerializeToString()\n",
    "with open(\"Data/metadata.pb\", \"wb\") as f:\n",
    "    f.write(filecontent)"
   ]
  },
  {
   "cell_type": "code",
   "execution_count": null,
   "id": "58854ff7-8572-423e-9cda-cf7ad00a96ed",
   "metadata": {},
   "outputs": [],
   "source": []
  }
 ],
 "metadata": {
  "kernelspec": {
   "display_name": "Python 3 (ipykernel)",
   "language": "python",
   "name": "python3"
  },
  "language_info": {
   "codemirror_mode": {
    "name": "ipython",
    "version": 3
   },
   "file_extension": ".py",
   "mimetype": "text/x-python",
   "name": "python",
   "nbconvert_exporter": "python",
   "pygments_lexer": "ipython3",
   "version": "3.10.12"
  }
 },
 "nbformat": 4,
 "nbformat_minor": 5
}
