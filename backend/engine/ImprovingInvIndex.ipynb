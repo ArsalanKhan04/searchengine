{
 "cells": [
  {
   "cell_type": "markdown",
   "id": "bffbf822-2b04-4936-af4a-0070ea624e61",
   "metadata": {},
   "source": [
    "## Trying to solve a way to reduce where the max chunk of time is taken"
   ]
  },
  {
   "cell_type": "code",
   "execution_count": 8,
   "id": "c14b1bb7-aa58-4ac7-ae1b-dcf8e748a18c",
   "metadata": {},
   "outputs": [],
   "source": [
    "import os\n",
    "from engine.invertedindex import invDS"
   ]
  },
  {
   "cell_type": "code",
   "execution_count": 9,
   "id": "0473c8c7-5205-483a-98ef-424174095126",
   "metadata": {},
   "outputs": [
    {
     "data": {
      "text/plain": [
       "['invindex42.bin',\n",
       " 'invindex517.bin',\n",
       " 'invindex623.bin',\n",
       " 'invindex386.bin',\n",
       " 'invindex630.bin',\n",
       " 'invindex287.bin',\n",
       " 'invindex38.bin',\n",
       " 'invindex610.bin',\n",
       " 'invindex430.bin',\n",
       " 'invindex66.bin']"
      ]
     },
     "execution_count": 9,
     "metadata": {},
     "output_type": "execute_result"
    }
   ],
   "source": [
    "os.listdir(\"engine/invertedindex/data\")[:10]"
   ]
  },
  {
   "cell_type": "code",
   "execution_count": 16,
   "id": "20f21607-2978-4dca-b59f-c95269f0b6fc",
   "metadata": {},
   "outputs": [
    {
     "name": "stdout",
     "output_type": "stream",
     "text": [
      "CPU times: user 87.5 ms, sys: 7.95 ms, total: 95.5 ms\n",
      "Wall time: 93.6 ms\n"
     ]
    }
   ],
   "source": [
    "%%time\n",
    "invindex = invDS.load_from_binary_file(\"engine/invertedindex/data/invindex42.bin\")"
   ]
  },
  {
   "cell_type": "code",
   "execution_count": 11,
   "id": "c51ade91-d025-4368-be5f-1f29ef15852b",
   "metadata": {},
   "outputs": [],
   "source": [
    "storagedir = \"engine/invertedindex/data\""
   ]
  },
  {
   "cell_type": "code",
   "execution_count": 24,
   "id": "5efa1668-a66c-4cde-953b-f3780298777f",
   "metadata": {},
   "outputs": [],
   "source": [
    "import pickle\n",
    "with open(os.path.join(storagedir, \"check.pkl\"), \"wb\") as f:\n",
    "    pickle.dump(invindex, f, protocol=4)\n"
   ]
  },
  {
   "cell_type": "code",
   "execution_count": 25,
   "id": "e9bdf117-8e4e-41ca-bbf4-0516227f29c0",
   "metadata": {},
   "outputs": [
    {
     "name": "stdout",
     "output_type": "stream",
     "text": [
      "CPU times: user 139 ms, sys: 3.51 ms, total: 143 ms\n",
      "Wall time: 141 ms\n"
     ]
    }
   ],
   "source": [
    "%%time\n",
    "with open(os.path.join(storagedir, \"check.pkl\"), \"rb\") as f:\n",
    "    invindex2 = pickle.load(f)"
   ]
  },
  {
   "cell_type": "markdown",
   "id": "60935761-71ee-411c-9248-a47088fa21e9",
   "metadata": {},
   "source": [
    "Even though an attempt was made to use pickle format to reduce time, I do not think that is feasible and worth the time"
   ]
  },
  {
   "cell_type": "markdown",
   "id": "d6caf474-93ed-4a0a-8654-eb74e3bcb7ed",
   "metadata": {},
   "source": [
    "## We will use this notebook to add one document to the inverted index"
   ]
  },
  {
   "cell_type": "markdown",
   "id": "2ac97385-6be5-4651-9ac2-360f92572d8a",
   "metadata": {},
   "source": [
    "The few steps to take:\n",
    "\n",
    "- Check if it has already been parsed, if it has been then just return that it already exists (based on URL)\n",
    "- Appoint doc_id to it\n",
    "- Make a single forward index row for it\n",
    "- Make multiple inverted index rows for it\n",
    "- For each word_id, add the doc_id in its inverted index list :| :( ):\n",
    "- close it\n",
    "- Update metadata (add 1 doc)\n",
    "- Give confirmation"
   ]
  },
  {
   "cell_type": "code",
   "execution_count": 14,
   "id": "f0546782-5a41-4611-b638-df4740b59a1b",
   "metadata": {},
   "outputs": [],
   "source": [
    "# Checking to see if the url has already been parsed\n",
    "def check_if_exists(url):\n",
    "    currset = get_parsed_set()\n",
    "    if url in currset:\n",
    "        return True\n",
    "    return False"
   ]
  },
  {
   "cell_type": "code",
   "execution_count": 15,
   "id": "9b62ba10-ea32-4bbd-bced-5bde9e2165a8",
   "metadata": {},
   "outputs": [],
   "source": [
    "flush()"
   ]
  },
  {
   "cell_type": "code",
   "execution_count": null,
   "id": "eabd1f56-5dd7-431e-8665-4ee2241488fb",
   "metadata": {},
   "outputs": [],
   "source": []
  },
  {
   "cell_type": "markdown",
   "id": "d3c7f990-bfd0-4c8c-8df8-a12c00354cea",
   "metadata": {},
   "source": [
    "Now that we have the inverted index, we have to add it to the main inverted indexes"
   ]
  },
  {
   "cell_type": "code",
   "execution_count": null,
   "id": "9e122692-b9d3-4502-b7e2-8c8dd73e7b65",
   "metadata": {},
   "outputs": [],
   "source": []
  },
  {
   "cell_type": "code",
   "execution_count": 1,
   "id": "1fbacaa5-7a3a-4c0e-a157-2e5d3662133d",
   "metadata": {
    "scrolled": true
   },
   "outputs": [
    {
     "name": "stderr",
     "output_type": "stream",
     "text": [
      "/usr/lib/python3/dist-packages/scipy/__init__.py:146: UserWarning: A NumPy version >=1.17.3 and <1.25.0 is required for this version of SciPy (detected version 1.26.2\n",
      "  warnings.warn(f\"A NumPy version >={np_minversion} and <{np_maxversion}\"\n"
     ]
    }
   ],
   "source": [
    "from forwardindex.parsed_items.parsed import get_parsed_set, set_parsed_set\n",
    "import forwardindex.protobufs.forwardindex_file_pb2 as fpb\n",
    "from metadata.metadatafuncs import get_metadata, save_metadata # Getting the metadata\n",
    "import wordlexicon.wordlexicon as wl # Importing wordlexicon\n",
    "import os # Importing os to get directory data of each os file\n",
    "import sys\n",
    "sys.path.append(\"../\")\n",
    "from engine.forwardindex.parse_forward import parse\n",
    "from engine.invertedindex.parsing.parse import parse as invParse# Getting each document element from here\n",
    "from engine.invertedindex import invDS\n",
    "from engine.invertedindex.gettingWordLists import get_invIndex, open_invertedindex, save_flush, flush\n",
    "from engine.docdata.getdocdata.getjson import get_raw_docdata, save_flush as doc_flush\n",
    "from engine.docdata import save_docs"
   ]
  },
  {
   "cell_type": "code",
   "execution_count": 2,
   "id": "2bc852d5-eecf-4222-80b1-8d1a543f5a01",
   "metadata": {},
   "outputs": [
    {
     "name": "stdout",
     "output_type": "stream",
     "text": [
      "19285\n"
     ]
    }
   ],
   "source": [
    "from forwardindex.getjson import get_jsondata\n",
    "\n",
    "jsondata = get_jsondata(\"yahoonews.json\")\n",
    "\n",
    "onearticle = jsondata[19]"
   ]
  },
  {
   "cell_type": "code",
   "execution_count": 3,
   "id": "c22c6ea1-7176-4546-8225-d6d4612874ed",
   "metadata": {},
   "outputs": [],
   "source": [
    "def addtoinvIndex(invertedindex):\n",
    "    for index, wordelem in enumerate(invertedindex.wordelems):\n",
    "        if len(wordelem)==0:\n",
    "            \n",
    "            continue\n",
    "        for docelem in wordelem:\n",
    "            get_invIndex(index).insert(docelem, index%500)\n",
    "        "
   ]
  },
  {
   "cell_type": "markdown",
   "id": "2e6b94cc-51a3-401c-96bd-b42ca6aae002",
   "metadata": {},
   "source": [
    "Combining all of these now"
   ]
  },
  {
   "cell_type": "code",
   "execution_count": 4,
   "id": "bbb41597-291d-4583-b430-6e6051d1cb1b",
   "metadata": {},
   "outputs": [],
   "source": [
    "def appending_invIndex(article):\n",
    "    currset = get_parsed_set()\n",
    "    if article[\"url\"] in currset:\n",
    "        return \"The article already exists, URL has been matched\"\n",
    "    \n",
    "    total_words, total_docs, lexheight = get_metadata()\n",
    "    forwardindex = fpb.ForwardIndex()\n",
    "    forwardindex.docelement.append(parse(onearticle, total_docs))\n",
    "    print(\"forward index created\")\n",
    "    invertedindex = invDS.InvertedIndex(total_words)\n",
    "    print(\"inverted index empty\")\n",
    "    invParse(forwardindex, invertedindex)\n",
    "    print(\"inverted index parsed and now adding to storage\")\n",
    "    addtoinvIndex(invertedindex)\n",
    "\n",
    "    print(\"Working on doc data now\")\n",
    "    docdata = get_raw_docdata(total_docs)\n",
    "    docdata.eachdoc.append(save_docs.parse(article))\n",
    "    \n",
    "    save_flush()\n",
    "    doc_flush()\n",
    "    save_metadata(total_words, total_docs+1, lexheight)\n",
    "    currset.add(article[\"url\"])\n",
    "    return \"The article has been successfully added\"\n"
   ]
  },
  {
   "cell_type": "markdown",
   "id": "0c75a40d-a785-441c-aa59-c1ebd4eb8db9",
   "metadata": {},
   "source": [
    "We missed the docdata part doing that now"
   ]
  },
  {
   "cell_type": "code",
   "execution_count": 5,
   "id": "3e85a10d-71d4-4b40-bc81-8f36a14c0424",
   "metadata": {},
   "outputs": [
    {
     "name": "stdout",
     "output_type": "stream",
     "text": [
      "Current size of set:  4194520  bytes\n",
      "forward index created\n",
      "inverted index empty\n",
      "inverted index parsed and now adding to storage\n",
      "Working on doc data now\n",
      "CPU times: user 1min 18s, sys: 3.34 s, total: 1min 22s\n",
      "Wall time: 1min 22s\n"
     ]
    },
    {
     "data": {
      "text/plain": [
       "'The article has been successfully added'"
      ]
     },
     "execution_count": 5,
     "metadata": {},
     "output_type": "execute_result"
    }
   ],
   "source": [
    "%%time \n",
    "appending_invIndex(onearticle)"
   ]
  },
  {
   "cell_type": "code",
   "execution_count": 6,
   "id": "13409a1c-cba8-4ef3-9bfa-19bcf5e94855",
   "metadata": {},
   "outputs": [
    {
     "data": {
      "text/plain": [
       "(341310, 125008, 5000)"
      ]
     },
     "execution_count": 6,
     "metadata": {},
     "output_type": "execute_result"
    }
   ],
   "source": [
    "get_metadata()"
   ]
  },
  {
   "cell_type": "code",
   "execution_count": null,
   "id": "98ad05ba-fee5-4d8b-8d1f-b5f81ea9d18f",
   "metadata": {},
   "outputs": [],
   "source": []
  },
  {
   "cell_type": "code",
   "execution_count": null,
   "id": "df1bfe20-7099-4a42-a5d5-389dd1e16a44",
   "metadata": {},
   "outputs": [],
   "source": []
  },
  {
   "cell_type": "code",
   "execution_count": null,
   "id": "ab159f82-e7be-48d7-b637-d9e16834ae28",
   "metadata": {},
   "outputs": [],
   "source": []
  },
  {
   "cell_type": "code",
   "execution_count": null,
   "id": "b277c135-4f35-4cd2-877e-48469dcd61a1",
   "metadata": {},
   "outputs": [],
   "source": []
  },
  {
   "cell_type": "code",
   "execution_count": null,
   "id": "a60a24db-8701-4733-be9b-a819f17840f1",
   "metadata": {},
   "outputs": [],
   "source": []
  },
  {
   "cell_type": "code",
   "execution_count": null,
   "id": "ffa5e9db-01f4-4985-aff6-1110c17358be",
   "metadata": {},
   "outputs": [],
   "source": []
  },
  {
   "cell_type": "code",
   "execution_count": null,
   "id": "c35c1133-777b-45f4-96d9-fa7c133df6ca",
   "metadata": {},
   "outputs": [],
   "source": []
  },
  {
   "cell_type": "code",
   "execution_count": null,
   "id": "1c402e06-4ba6-4a52-a971-aa9c98a96433",
   "metadata": {},
   "outputs": [],
   "source": []
  },
  {
   "cell_type": "code",
   "execution_count": 10,
   "id": "95ff3217-68a8-4217-9b33-f8a817bdd080",
   "metadata": {},
   "outputs": [
    {
     "data": {
      "text/plain": [
       "['thesun.json',\n",
       " 'newsbusters.json',\n",
       " 'usnews.json',\n",
       " 'cnn.json',\n",
       " 'yahoonews.json',\n",
       " 'theindependent.json',\n",
       " 'theguardianuk.json',\n",
       " 'thenewyorktimes.json']"
      ]
     },
     "execution_count": 10,
     "metadata": {},
     "output_type": "execute_result"
    }
   ],
   "source": [
    "import os\n",
    "os.listdir(\"forwardindex/JSONFILES/dir\")"
   ]
  },
  {
   "cell_type": "code",
   "execution_count": 8,
   "id": "bb5e0842-ff3c-470f-8229-f95f9305aa9b",
   "metadata": {},
   "outputs": [
    {
     "data": {
      "text/plain": [
       "{'id': 'yahoonews--2022-01-02--Jan. 6 committee studying whether it can subpoena U.S. Republican lawmakers - chairman',\n",
       " 'date': '2022-01-02',\n",
       " 'source': 'yahoonews',\n",
       " 'title': 'Jan. 6 committee studying whether it can subpoena U.S. Republican lawmakers - chairman',\n",
       " 'content': \"( Reuters ) -The congressional committee investigating last year 's Jan. 6 attack on the U.S. Capitol is looking at issuing subpoenas to Republican members of Congress to force their cooperation , the panel 's chairman said on Sunday .\\nRepresentative Bennie Thompson , a Democrat , said on NBC 's `` Meet The Press '' that the committee is examining whether it can lawfully issue subpoenas to sitting members of Congress .\\n`` I think there are some questions of whether we have the authority to do it , '' Thompson said .\\n`` We 're looking at it @ @ @ @ @ @ @ there 'll be no reluctance on our part . ''\\nThompson chairs the House of Representatives Select Committee on Jan. 6 , which is expected to hold public hearings and issue reports in the coming months .\\nThe committee is trying to establish then-President Donald Trump 's actions while thousands of his supporters attacked police , vandalized the Capitol and sent members of Congress and then-Vice President Mike Pence running for their lives .\\nCongress had been meeting to count the electoral votes that gave Democrat Joe Biden victory in the November 2020 @ @ @ @ @ @ @ Trump , including conservative media TV hosts , urged him during the riot to make a televised speech telling his supporters to stop the attack .\\nTrump waited hours before releasing a prerecorded message .\\nRepresentative Liz Cheney , the panel 's Republican vice chair and a harsh critic of Trump , told ABC News he had committed `` dereliction of duty '' on Jan. 6 and the panel should consider `` enhanced penalties '' for that kind of action .\\nThe American people , she said , need to understand `` how @ @ @ @ @ @ @ committee sent a letter on Dec. 22 to Representative Jim Jordan , a Republican and ardent Trump ally , asking for testimony about his telephone conversations with Trump on Jan. 6 .\\nJordan said in a recent Fox News interview that he had `` real concerns '' about the committee 's credibility , but was reviewing its letter to him .\\nThe request came two days after a similar letter to Republican Representative Scott Perry .\\nThe committee requested Perry 's testimony about Trump 's attempts to oust Jeffrey Rosen , who was @ @ @ @ @ @ @ during the closing weeks of his presidency , and replace him with Jeffrey Clark , an official who at the time was trying to help Trump overturn his election defeat .\\nPerry declined to cooperate , posting on Twitter on Dec. 21 that the committee `` is illegitimate , and not duly constituted . ''\\nAn appeals court ruled earlier last month that the committee was legitimate and entitled to see White House records Trump has tried to shield from public view .\",\n",
       " 'author': '',\n",
       " 'url': 'https://news.yahoo.com/jan-6-committee-looking-subpoenas-140225421.html',\n",
       " 'published': '2022-01-02T14:02:25Z',\n",
       " 'published_utc': 1641150145,\n",
       " 'collection_utc': 1641170907}"
      ]
     },
     "execution_count": 8,
     "metadata": {},
     "output_type": "execute_result"
    }
   ],
   "source": [
    "onearticle"
   ]
  },
  {
   "cell_type": "code",
   "execution_count": null,
   "id": "0b59f853-e457-406d-b12d-c451a34816b1",
   "metadata": {},
   "outputs": [],
   "source": []
  }
 ],
 "metadata": {
  "kernelspec": {
   "display_name": "Python 3 (ipykernel)",
   "language": "python",
   "name": "python3"
  },
  "language_info": {
   "codemirror_mode": {
    "name": "ipython",
    "version": 3
   },
   "file_extension": ".py",
   "mimetype": "text/x-python",
   "name": "python",
   "nbconvert_exporter": "python",
   "pygments_lexer": "ipython3",
   "version": "3.10.12"
  }
 },
 "nbformat": 4,
 "nbformat_minor": 5
}
