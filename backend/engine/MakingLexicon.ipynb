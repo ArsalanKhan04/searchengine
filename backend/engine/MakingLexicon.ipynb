{
 "cells": [
  {
   "cell_type": "code",
   "execution_count": 5,
   "id": "9ec7121b-6620-4039-ad5f-5ced1726edb9",
   "metadata": {},
   "outputs": [],
   "source": [
    "from nltk.stem import WordNetLemmatizer\n",
    "from nltk.corpus import wordnet\n",
    "from nltk.corpus import stopwords\n",
    "from nltk.corpus import words as wordcorpus\n",
    "stop_words = set(stopwords.words('english'))\n",
    "import string"
   ]
  },
  {
   "cell_type": "code",
   "execution_count": 6,
   "id": "649c47eb-e197-41c2-8399-fbb9cebea66d",
   "metadata": {},
   "outputs": [
    {
     "name": "stdout",
     "output_type": "stream",
     "text": [
      "11517\n",
      "117751\n",
      "21443\n",
      "4442\n"
     ]
    }
   ],
   "source": [
    "def get_simple_forms(pos):\n",
    "    words = set()\n",
    "    for synset in list(wordnet.all_synsets(pos=pos)):\n",
    "        for lemma in synset.lemmas():\n",
    "            words.add(lemma.name().lower())\n",
    "    return list(words)\n",
    "\n",
    "# getting the 4 types of words\n",
    "simple_all = []\n",
    "for pos in ['v', 'n', 'a', 'r']:\n",
    "    # Getting a list of all types of words\n",
    "    word_list = get_simple_forms(pos)\n",
    "    # making sure all the stopwords are removed from here\n",
    "    word_list = [word for word in word_list if word not in stop_words]\n",
    "    # word_list = [lemmatizer.lemmatize(word, pos) for word in word_list]  || This is not needed as its already in simple form\n",
    "    simple_all.append(word_list)\n",
    "    print(len(word_list))\n",
    "\n",
    "\n"
   ]
  },
  {
   "cell_type": "code",
   "execution_count": 7,
   "id": "520c5045-ad05-4b12-857b-0788bfb840bb",
   "metadata": {},
   "outputs": [
    {
     "name": "stdout",
     "output_type": "stream",
     "text": [
      "['abstract', 'outrage', 'rescue', 'beeswax', 'devour']\n",
      "['attracter', 'biologist', 'credibleness', 'barbital', 'cardinal_vein']\n",
      "['panic-stricken', 'self-propelled', 'matriarchic', 'unliveable', 'yellowish-orange']\n",
      "['inventively', 'tearfully', 'animatedly', 'pacifistically', 'in_the_lurch']\n",
      "Size of words before removing duplicates:  155153\n",
      "Size of words after removing duplicates:  145345\n"
     ]
    }
   ],
   "source": [
    "all_words = []\n",
    "for i in range(4):\n",
    "    print(simple_all[i][:5])\n",
    "    all_words += simple_all[i]\n",
    "\n",
    "print(\"Size of words before removing duplicates: \", len(all_words))\n",
    "all_words = [word.translate(str.maketrans('', '', string.punctuation)) for word in all_words]\n",
    "all_words = list(set(all_words))\n",
    "print(\"Size of words after removing duplicates: \", len(all_words))\n"
   ]
  },
  {
   "cell_type": "code",
   "execution_count": 8,
   "id": "134362b3-8c71-4ffa-8873-3278fd6dd119",
   "metadata": {},
   "outputs": [],
   "source": [
    "stop_words = [word.translate(str.maketrans('', '', string.punctuation)) for word in stop_words]"
   ]
  },
  {
   "cell_type": "code",
   "execution_count": 9,
   "id": "9f4fe2ed-2c6f-4f59-9df7-d8b3aee83f71",
   "metadata": {},
   "outputs": [
    {
     "data": {
      "text/plain": [
       "179"
      ]
     },
     "execution_count": 9,
     "metadata": {},
     "output_type": "execute_result"
    }
   ],
   "source": [
    "len(stop_words)"
   ]
  },
  {
   "cell_type": "code",
   "execution_count": 16,
   "id": "0f804838-5a58-4245-92e4-aad9ba19907f",
   "metadata": {},
   "outputs": [
    {
     "data": {
      "text/plain": [
       "145524"
      ]
     },
     "execution_count": 16,
     "metadata": {},
     "output_type": "execute_result"
    }
   ],
   "source": [
    "all_words = list(stop_words) + all_words\n",
    "len(all_words)"
   ]
  },
  {
   "cell_type": "code",
   "execution_count": 17,
   "id": "d6221324-08e9-4b10-8d33-c852c8e6441a",
   "metadata": {},
   "outputs": [
    {
     "data": {
      "text/plain": [
       "['had',\n",
       " 'own',\n",
       " 'what',\n",
       " 'down',\n",
       " 'further',\n",
       " 'to',\n",
       " 'd',\n",
       " 'until',\n",
       " 'few',\n",
       " 'she',\n",
       " 'an',\n",
       " 'and',\n",
       " 'itself',\n",
       " 'doesn',\n",
       " 'them',\n",
       " 'of',\n",
       " 'shouldve',\n",
       " 'hasnt',\n",
       " 'her',\n",
       " 'out',\n",
       " 'then',\n",
       " 'by',\n",
       " 'below',\n",
       " 'do',\n",
       " 'again',\n",
       " 'weren',\n",
       " 'wouldnt',\n",
       " 'any',\n",
       " 'shouldn',\n",
       " 'before',\n",
       " 'each',\n",
       " 'wont',\n",
       " 'how',\n",
       " 'shan',\n",
       " 'which',\n",
       " 'your',\n",
       " 's',\n",
       " 'off',\n",
       " 'don',\n",
       " 'he',\n",
       " 'himself',\n",
       " 'is',\n",
       " 'youd',\n",
       " 'same',\n",
       " 'when',\n",
       " 'wasnt',\n",
       " 'into',\n",
       " 'under',\n",
       " 'where',\n",
       " 'about']"
      ]
     },
     "execution_count": 17,
     "metadata": {},
     "output_type": "execute_result"
    }
   ],
   "source": [
    "all_words[:50]"
   ]
  },
  {
   "cell_type": "code",
   "execution_count": 19,
   "id": "a96b067d-1f1b-44a7-ad46-7cf327ac09ca",
   "metadata": {},
   "outputs": [],
   "source": [
    "word_index_dict = {word:index for index, word in enumerate(all_words)}"
   ]
  },
  {
   "cell_type": "code",
   "execution_count": 20,
   "id": "6d9daacc-5db3-4135-8d1a-0fb40b22d8fa",
   "metadata": {},
   "outputs": [],
   "source": [
    "from wordlexicon.lexiconDS import NewLexicon\n",
    "newLex = NewLexicon()"
   ]
  },
  {
   "cell_type": "code",
   "execution_count": 21,
   "id": "6c931b38-133d-417b-b936-68294dd3a6b3",
   "metadata": {},
   "outputs": [],
   "source": [
    "newLex.wordlist = all_words\n",
    "newLex.worddict = word_index_dict\n",
    "newLex.size = len(all_words)"
   ]
  },
  {
   "cell_type": "code",
   "execution_count": 22,
   "id": "89869050-ca26-4f47-9a02-5c8785f81a11",
   "metadata": {},
   "outputs": [],
   "source": [
    "lexicon_path = \"wordlexicon/lexicondict.pkl\""
   ]
  },
  {
   "cell_type": "code",
   "execution_count": null,
   "id": "211ffe95-0caf-41d2-b576-1f7d5aa2f8d9",
   "metadata": {},
   "outputs": [],
   "source": []
  },
  {
   "cell_type": "code",
   "execution_count": 24,
   "id": "957ddec2-52cb-424f-88a9-93b27278cf09",
   "metadata": {},
   "outputs": [],
   "source": [
    "import pickle\n",
    "with open (lexicon_path, \"wb\") as f:\n",
    "    pickle.dump(newLex, f)"
   ]
  },
  {
   "cell_type": "code",
   "execution_count": 1,
   "id": "022901ac-2a76-40b3-bb1e-77b3459a31de",
   "metadata": {},
   "outputs": [
    {
     "name": "stderr",
     "output_type": "stream",
     "text": [
      "/usr/lib/python3/dist-packages/scipy/__init__.py:146: UserWarning: A NumPy version >=1.17.3 and <1.25.0 is required for this version of SciPy (detected version 1.26.2\n",
      "  warnings.warn(f\"A NumPy version >={np_minversion} and <{np_maxversion}\"\n"
     ]
    }
   ],
   "source": [
    "import wordlexicon.wordlexicon as wl"
   ]
  },
  {
   "cell_type": "code",
   "execution_count": 2,
   "id": "379629c5-8a29-4bee-9e43-3466d52c76b1",
   "metadata": {},
   "outputs": [
    {
     "name": "stdout",
     "output_type": "stream",
     "text": [
      "norberq\n"
     ]
    },
    {
     "data": {
      "text/plain": [
       "145524"
      ]
     },
     "execution_count": 2,
     "metadata": {},
     "output_type": "execute_result"
    }
   ],
   "source": [
    "wl.return_wordID(\"norberq\")"
   ]
  },
  {
   "cell_type": "code",
   "execution_count": null,
   "id": "7f0cb8c3-ba69-42f3-bff8-d9c5edf82f55",
   "metadata": {},
   "outputs": [],
   "source": []
  }
 ],
 "metadata": {
  "kernelspec": {
   "display_name": "Python 3 (ipykernel)",
   "language": "python",
   "name": "python3"
  },
  "language_info": {
   "codemirror_mode": {
    "name": "ipython",
    "version": 3
   },
   "file_extension": ".py",
   "mimetype": "text/x-python",
   "name": "python",
   "nbconvert_exporter": "python",
   "pygments_lexer": "ipython3",
   "version": "3.10.12"
  }
 },
 "nbformat": 4,
 "nbformat_minor": 5
}
