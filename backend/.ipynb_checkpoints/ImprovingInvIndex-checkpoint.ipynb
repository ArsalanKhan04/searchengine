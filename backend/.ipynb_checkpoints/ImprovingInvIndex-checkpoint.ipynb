{
 "cells": [
  {
   "cell_type": "markdown",
   "id": "bffbf822-2b04-4936-af4a-0070ea624e61",
   "metadata": {},
   "source": [
    "## Trying to solve a way to reduce where the max chunk of time is taken"
   ]
  },
  {
   "cell_type": "code",
   "execution_count": 8,
   "id": "c14b1bb7-aa58-4ac7-ae1b-dcf8e748a18c",
   "metadata": {},
   "outputs": [],
   "source": [
    "import os\n",
    "from engine.invertedindex import invDS"
   ]
  },
  {
   "cell_type": "code",
   "execution_count": 9,
   "id": "0473c8c7-5205-483a-98ef-424174095126",
   "metadata": {},
   "outputs": [
    {
     "data": {
      "text/plain": [
       "['invindex42.bin',\n",
       " 'invindex517.bin',\n",
       " 'invindex623.bin',\n",
       " 'invindex386.bin',\n",
       " 'invindex630.bin',\n",
       " 'invindex287.bin',\n",
       " 'invindex38.bin',\n",
       " 'invindex610.bin',\n",
       " 'invindex430.bin',\n",
       " 'invindex66.bin']"
      ]
     },
     "execution_count": 9,
     "metadata": {},
     "output_type": "execute_result"
    }
   ],
   "source": [
    "os.listdir(\"engine/invertedindex/data\")[:10]"
   ]
  },
  {
   "cell_type": "code",
   "execution_count": 16,
   "id": "20f21607-2978-4dca-b59f-c95269f0b6fc",
   "metadata": {},
   "outputs": [
    {
     "name": "stdout",
     "output_type": "stream",
     "text": [
      "CPU times: user 87.5 ms, sys: 7.95 ms, total: 95.5 ms\n",
      "Wall time: 93.6 ms\n"
     ]
    }
   ],
   "source": [
    "%%time\n",
    "invindex = invDS.load_from_binary_file(\"engine/invertedindex/data/invindex42.bin\")"
   ]
  },
  {
   "cell_type": "code",
   "execution_count": 11,
   "id": "c51ade91-d025-4368-be5f-1f29ef15852b",
   "metadata": {},
   "outputs": [],
   "source": [
    "storagedir = \"engine/invertedindex/data\""
   ]
  },
  {
   "cell_type": "code",
   "execution_count": 24,
   "id": "5efa1668-a66c-4cde-953b-f3780298777f",
   "metadata": {},
   "outputs": [],
   "source": [
    "import pickle\n",
    "with open(os.path.join(storagedir, \"check.pkl\"), \"wb\") as f:\n",
    "    pickle.dump(invindex, f, protocol=4)\n"
   ]
  },
  {
   "cell_type": "code",
   "execution_count": 25,
   "id": "e9bdf117-8e4e-41ca-bbf4-0516227f29c0",
   "metadata": {},
   "outputs": [
    {
     "name": "stdout",
     "output_type": "stream",
     "text": [
      "CPU times: user 139 ms, sys: 3.51 ms, total: 143 ms\n",
      "Wall time: 141 ms\n"
     ]
    }
   ],
   "source": [
    "%%time\n",
    "with open(os.path.join(storagedir, \"check.pkl\"), \"rb\") as f:\n",
    "    invindex2 = pickle.load(f)"
   ]
  },
  {
   "cell_type": "markdown",
   "id": "60935761-71ee-411c-9248-a47088fa21e9",
   "metadata": {},
   "source": [
    "Even though an attempt was made to use pickle format to reduce time, I do not think that is feasible and worth the time"
   ]
  },
  {
   "cell_type": "markdown",
   "id": "d6caf474-93ed-4a0a-8654-eb74e3bcb7ed",
   "metadata": {},
   "source": [
    "## We will use this notebook to add one document to the inverted index"
   ]
  },
  {
   "cell_type": "markdown",
   "id": "2ac97385-6be5-4651-9ac2-360f92572d8a",
   "metadata": {},
   "source": [
    "The few steps to take:\n",
    "\n",
    "- Check if it has already been parsed, if it has been then just return that it already exists (based on URL)\n",
    "- Appoint doc_id to it\n",
    "- Make a single forward index row for it\n",
    "- Make multiple inverted index rows for it\n",
    "- For each word_id, add the doc_id in its inverted index list :| :( ):\n",
    "- close it\n",
    "- Update metadata (add 1 doc)\n",
    "- Give confirmation"
   ]
  },
  {
   "cell_type": "code",
   "execution_count": 8,
   "id": "1fbacaa5-7a3a-4c0e-a157-2e5d3662133d",
   "metadata": {},
   "outputs": [
    {
     "ename": "ModuleNotFoundError",
     "evalue": "No module named 'wordlexicon'",
     "output_type": "error",
     "traceback": [
      "\u001b[0;31m---------------------------------------------------------------------------\u001b[0m",
      "\u001b[0;31mModuleNotFoundError\u001b[0m                       Traceback (most recent call last)",
      "\u001b[0;32m/tmp/ipykernel_8084/208667495.py\u001b[0m in \u001b[0;36m<module>\u001b[0;34m\u001b[0m\n\u001b[1;32m      1\u001b[0m \u001b[0;32mfrom\u001b[0m \u001b[0mengine\u001b[0m\u001b[0;34m.\u001b[0m\u001b[0mforwardindex\u001b[0m\u001b[0;34m.\u001b[0m\u001b[0mparsed_items\u001b[0m\u001b[0;34m.\u001b[0m\u001b[0mparsed\u001b[0m \u001b[0;32mimport\u001b[0m \u001b[0mget_parsed_set\u001b[0m\u001b[0;34m,\u001b[0m \u001b[0mset_parsed_set\u001b[0m\u001b[0;34m\u001b[0m\u001b[0;34m\u001b[0m\u001b[0m\n\u001b[1;32m      2\u001b[0m \u001b[0;32mfrom\u001b[0m \u001b[0mengine\u001b[0m\u001b[0;34m.\u001b[0m\u001b[0mmetadata\u001b[0m\u001b[0;34m.\u001b[0m\u001b[0mmetadatafuncs\u001b[0m \u001b[0;32mimport\u001b[0m \u001b[0mget_metadata\u001b[0m\u001b[0;34m,\u001b[0m \u001b[0msave_metadata\u001b[0m \u001b[0;31m# Getting the metadata\u001b[0m\u001b[0;34m\u001b[0m\u001b[0;34m\u001b[0m\u001b[0m\n\u001b[0;32m----> 3\u001b[0;31m \u001b[0;32mimport\u001b[0m \u001b[0mengine\u001b[0m\u001b[0;34m.\u001b[0m\u001b[0mwordlexicon\u001b[0m\u001b[0;34m.\u001b[0m\u001b[0mwordlexicon\u001b[0m \u001b[0;32mas\u001b[0m \u001b[0mwl\u001b[0m \u001b[0;31m# Importing wordlexicon\u001b[0m\u001b[0;34m\u001b[0m\u001b[0;34m\u001b[0m\u001b[0m\n\u001b[0m\u001b[1;32m      4\u001b[0m \u001b[0;32mimport\u001b[0m \u001b[0mos\u001b[0m \u001b[0;31m# Importing os to get directory data of each os file\u001b[0m\u001b[0;34m\u001b[0m\u001b[0;34m\u001b[0m\u001b[0m\n\u001b[1;32m      5\u001b[0m \u001b[0;32mimport\u001b[0m \u001b[0msys\u001b[0m\u001b[0;34m\u001b[0m\u001b[0;34m\u001b[0m\u001b[0m\n",
      "\u001b[0;32m~/Public/uni/sem3/dsa/project/searchengine2/backend/engine/wordlexicon/wordlexicon.py\u001b[0m in \u001b[0;36m<module>\u001b[0;34m\u001b[0m\n\u001b[1;32m     21\u001b[0m \u001b[0;32mfrom\u001b[0m \u001b[0mnltk\u001b[0m\u001b[0;34m.\u001b[0m\u001b[0mstem\u001b[0m \u001b[0;32mimport\u001b[0m \u001b[0mWordNetLemmatizer\u001b[0m\u001b[0;34m\u001b[0m\u001b[0;34m\u001b[0m\u001b[0m\n\u001b[1;32m     22\u001b[0m \u001b[0mlemmatizer\u001b[0m \u001b[0;34m=\u001b[0m \u001b[0mWordNetLemmatizer\u001b[0m\u001b[0;34m(\u001b[0m\u001b[0;34m)\u001b[0m\u001b[0;34m\u001b[0m\u001b[0;34m\u001b[0m\u001b[0m\n\u001b[0;32m---> 23\u001b[0;31m \u001b[0;32mfrom\u001b[0m \u001b[0mwordlexicon\u001b[0m\u001b[0;34m.\u001b[0m\u001b[0mlexiconDS\u001b[0m \u001b[0;32mimport\u001b[0m \u001b[0mNewLexicon\u001b[0m\u001b[0;34m\u001b[0m\u001b[0;34m\u001b[0m\u001b[0m\n\u001b[0m\u001b[1;32m     24\u001b[0m \u001b[0;32mimport\u001b[0m \u001b[0mstring\u001b[0m\u001b[0;34m\u001b[0m\u001b[0;34m\u001b[0m\u001b[0m\n\u001b[1;32m     25\u001b[0m \u001b[0;34m\u001b[0m\u001b[0m\n",
      "\u001b[0;31mModuleNotFoundError\u001b[0m: No module named 'wordlexicon'"
     ]
    }
   ],
   "source": [
    "from engine.forwardindex.parsed_items.parsed import get_parsed_set, set_parsed_set\n",
    "from engine.metadata.metadatafuncs import get_metadata, save_metadata # Getting the metadata\n",
    "import engine.wordlexicon.wordlexicon as wl # Importing wordlexicon\n",
    "import os # Importing os to get directory data of each os file\n",
    "import sys\n",
    "sys.path.append(\"../\")\n",
    "from engine.forwardindex.parse_forward import parse # Getting each document element from here"
   ]
  },
  {
   "cell_type": "code",
   "execution_count": 28,
   "id": "f0546782-5a41-4611-b638-df4740b59a1b",
   "metadata": {},
   "outputs": [],
   "source": [
    "# Checking to see if the url has already been parsed\n",
    "def check_if_exists(url):\n",
    "    currset = get_parsed_set()\n",
    "    if url in currset:\n",
    "        return True\n",
    "    return False"
   ]
  },
  {
   "cell_type": "code",
   "execution_count": null,
   "id": "9b62ba10-ea32-4bbd-bced-5bde9e2165a8",
   "metadata": {},
   "outputs": [],
   "source": []
  }
 ],
 "metadata": {
  "kernelspec": {
   "display_name": "Python 3 (ipykernel)",
   "language": "python",
   "name": "python3"
  },
  "language_info": {
   "codemirror_mode": {
    "name": "ipython",
    "version": 3
   },
   "file_extension": ".py",
   "mimetype": "text/x-python",
   "name": "python",
   "nbconvert_exporter": "python",
   "pygments_lexer": "ipython3",
   "version": "3.10.12"
  }
 },
 "nbformat": 4,
 "nbformat_minor": 5
}
