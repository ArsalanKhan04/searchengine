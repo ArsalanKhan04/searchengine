{
 "cells": [
  {
   "cell_type": "code",
   "execution_count": 14,
   "id": "43b62112-d064-4f38-80e6-86de8036bd1e",
   "metadata": {},
   "outputs": [],
   "source": [
    "from dataNodes import DocElement, WordElement\n",
    "\n",
    "import Data.saveFIndex.forwardindex_file_pb2 as fpb\n",
    "from wordlexicon import return_wordID"
   ]
  },
  {
   "cell_type": "markdown",
   "id": "a95b1523-4926-43df-8c0b-45c77f45a5a5",
   "metadata": {},
   "source": [
    "## Checking to see if final script works"
   ]
  },
  {
   "cell_type": "code",
   "execution_count": 2,
   "id": "a9d8c324-a495-4342-8fde-765a3e920e3a",
   "metadata": {},
   "outputs": [],
   "source": [
    "import json\n",
    "import parse_forward as pf"
   ]
  },
  {
   "cell_type": "code",
   "execution_count": 3,
   "id": "1db4937d-1263-4ca7-9442-56f2e24f0028",
   "metadata": {},
   "outputs": [
    {
     "name": "stdout",
     "output_type": "stream",
     "text": [
      "\u001b[0m\u001b[01;34mfile1\u001b[0m/\n",
      "\u001b[01;34mfile2\u001b[0m/\n",
      "\u001b[01;34mfile3\u001b[0m/\n",
      "nutritionfactsorg.json\n",
      "oann.json\n",
      "obamawatcher.json\n",
      "observer.json\n",
      "occupydemocrats.json\n",
      "offguardian.json\n",
      "osce.json\n",
      "palmerreport.json\n",
      "pamelagellerreport.json\n",
      "pbs.json\n",
      "petapeoplefortheethicaltreatmentofanimals.json\n",
      "physicsworld.json\n",
      "pinknewsuk.json\n",
      "politicalite.json\n",
      "politicalwire.json\n",
      "politico.json\n",
      "politicususa.json\n",
      "powerlineblog.json\n",
      "pravadareport.json\n",
      "prepareforchange.json\n",
      "presswatchers.json\n",
      "prntly.json\n",
      "rawstory.json\n",
      "realclearpolitics.json\n",
      "realclimatescience.json\n",
      "realjewnews.json\n",
      "realnewsrightnow.json\n",
      "realstrategy.json\n",
      "redoubtnews.json\n",
      "redstate.json\n",
      "remnantnewspaper.json\n",
      "renegadetribune.json\n",
      "returntonow.json\n",
      "reuters.json\n",
      "rferl.json\n",
      "rightwingwatch.json\n",
      "rollcall.json\n",
      "rt.json\n",
      "russia-insider.json\n",
      "saraacater.json\n",
      "savethemales.json\n",
      "scienceblogs.json\n",
      "scientificamerican.json\n",
      "sgtreport.json\n",
      "shadowproof.json\n",
      "shareblue.json\n",
      "shoebat.json\n",
      "shtfplan.json\n",
      "skeptiko.json\n",
      "skynewspolitics.json\n",
      "skynewsus.json\n",
      "slate.json\n",
      "sluggerotoole.json\n",
      "sottnet.json\n",
      "southfront.json\n",
      "spiegel.json\n",
      "sputnik.json\n",
      "stillnessinthestorm.json\n",
      "summitnews.json\n",
      "sustainablepulse.json\n",
      "talkingpointsmemo.json\n",
      "tass.json\n",
      "theamericanconservative.json\n",
      "theatlantic.json\n",
      "thebeaverton.json\n",
      "theblaze.json\n",
      "thebl.json\n",
      "theborowitzreport.json\n",
      "thebulwark.json\n",
      "thechaser.json\n",
      "thecollegefix.json\n",
      "theconservativetreehouse.json\n",
      "thecorbettreport.json\n",
      "thedailyblog.json\n",
      "thedailycaller.json\n",
      "thedailyecho.json\n",
      "thedailyexpress.json\n",
      "thedailymirror.json\n",
      "thedailyrecord.json\n",
      "thedcclothesline.json\n",
      "thedenverpost.json\n",
      "theduran.json\n",
      "theepochtimes.json\n",
      "thefiscaltimes.json\n",
      "thegatewaypundit.json\n",
      "theguardian.json\n",
      "theguardianuk.json\n",
      "theheartysoul.json\n",
      "thehill.json\n",
      "thehuffingtonpost.json\n",
      "thehuffingtonpostpoliticalsatire.json\n",
      "thehuffingtonpostuk.json\n",
      "theindependent.json\n",
      "theintercept.json\n",
      "theirishtimes.json\n",
      "thelibertybeacon.json\n",
      "thelibertydaily.json\n",
      "themanchestereveningnews.json\n",
      "themichellemalkinblog.json\n",
      "themillenniumreport.json\n",
      "themindunleashed.json\n",
      "themoscowtimes.json\n",
      "thenation.json\n",
      "thenewyorktimes.json\n",
      "theonion.json\n",
      "thepoke.json\n",
      "thepoliticalinsider.json\n",
      "therealnews.json\n",
      "therightscoop.json\n",
      "theroot.json\n",
      "therussophileorg.json\n",
      "thescientist.json\n",
      "theseattletimes.json\n",
      "theshovel.json\n",
      "thesmokinggun.json\n",
      "thespoof.json\n",
      "thestream.json\n",
      "thesun.json\n",
      "thetelegraph.json\n",
      "thetennesseestar.json\n",
      "thetruthaboutcancer.json\n",
      "thevaccinereaction.json\n",
      "theverge.json\n",
      "thewakingtimes.json\n",
      "thewashingtonexaminer.json\n",
      "thewashingtonstandard.json\n",
      "theweekuk.json\n",
      "thoughtcatalog.json\n",
      "thoughtcrimeradio.json\n",
      "trendingpolitics.json\n",
      "trueactivist.json\n",
      "trumptimes.json\n",
      "trunews.json\n",
      "truthdig.json\n",
      "truthout.json\n",
      "truththeory.json\n",
      "ukcolumn.json\n",
      "unian.json\n",
      "upi.json\n",
      "urbanintellectuals.json\n",
      "usahitman.json\n",
      "usatoday.json\n",
      "usnews.json\n",
      "vaxxter.json\n",
      "vdare.json\n",
      "veteranstoday.json\n",
      "vigilantcitizen.json\n",
      "viralnewsnetwork.json\n",
      "vox.json\n",
      "wakingtimes.json\n",
      "warroom.json\n",
      "washingtonmonthly.json\n",
      "washingtonpost.json\n",
      "washingtontimes.json\n",
      "wattsupwiththat.json\n",
      "weareanonymous.json\n",
      "wearechange.json\n",
      "welovetrump.json\n",
      "westernjournal.json\n",
      "whatfinger.json\n",
      "whatreallyhappened.json\n",
      "windowoneurasiablog.json\n",
      "wingsoverscotland.json\n",
      "wizbang.json\n",
      "wnd.json\n",
      "x22report.json\n",
      "yahoonews.json\n",
      "yna.json\n",
      "zerohedge.json\n"
     ]
    }
   ],
   "source": [
    "%ls JSONFILES"
   ]
  },
  {
   "cell_type": "code",
   "execution_count": 4,
   "id": "295403d3-5a2a-4d61-a975-02781688b2a2",
   "metadata": {},
   "outputs": [],
   "source": [
    "filepath = r\"JSONFILES/theindependent.json\"\n",
    "with open(filepath, 'r') as file:\n",
    "    data = json.load(file)"
   ]
  },
  {
   "cell_type": "code",
   "execution_count": 5,
   "id": "ed93f553-1c10-4843-ae34-4508b1680928",
   "metadata": {},
   "outputs": [
    {
     "data": {
      "text/plain": [
       "66301"
      ]
     },
     "execution_count": 5,
     "metadata": {},
     "output_type": "execute_result"
    }
   ],
   "source": [
    "len(data)"
   ]
  },
  {
   "cell_type": "code",
   "execution_count": 6,
   "id": "1752ce99-846a-4370-b9c9-736c5f1d8c3a",
   "metadata": {},
   "outputs": [],
   "source": [
    "data = data[:4]"
   ]
  },
  {
   "cell_type": "code",
   "execution_count": 7,
   "id": "98c487a9-53f1-4807-9474-03fb44aaa643",
   "metadata": {},
   "outputs": [
    {
     "name": "stdout",
     "output_type": "stream",
     "text": [
      "CPU times: user 2.12 s, sys: 25.9 ms, total: 2.15 s\n",
      "Wall time: 2.15 s\n"
     ]
    }
   ],
   "source": [
    "%%time\n",
    "fIndex = []\n",
    "for i, eachArticle in enumerate(data):\n",
    "    fIndex.append(pf.parse(eachArticle, i))"
   ]
  },
  {
   "cell_type": "code",
   "execution_count": 8,
   "id": "0ae6b27c-dd81-47d3-8671-7f16382c8b66",
   "metadata": {},
   "outputs": [
    {
     "data": {
      "text/plain": [
       "[<dataNodes.DocElement at 0x7f1f511178e0>,\n",
       " <dataNodes.DocElement at 0x7f1fb24691e0>,\n",
       " <dataNodes.DocElement at 0x7f1fb2474ca0>,\n",
       " <dataNodes.DocElement at 0x7f1fb2488b80>]"
      ]
     },
     "execution_count": 8,
     "metadata": {},
     "output_type": "execute_result"
    }
   ],
   "source": [
    "fIndex"
   ]
  },
  {
   "cell_type": "code",
   "execution_count": 12,
   "id": "cb5cff41-56fc-4c70-b96b-bfd94f745cda",
   "metadata": {},
   "outputs": [
    {
     "data": {
      "text/plain": [
       "495"
      ]
     },
     "execution_count": 12,
     "metadata": {},
     "output_type": "execute_result"
    }
   ],
   "source": [
    "len(fIndex[3].word_list)"
   ]
  },
  {
   "cell_type": "code",
   "execution_count": 13,
   "id": "cefa82fb-d214-4416-9481-bcf67af429fe",
   "metadata": {},
   "outputs": [
    {
     "data": {
      "text/plain": [
       "{'id': 'theindependent--2022-01-01--Will we be able to once again swim in the Seine?',\n",
       " 'date': '2022-01-01',\n",
       " 'source': 'theindependent',\n",
       " 'title': 'Will we be able to once again swim in the Seine?',\n",
       " 'content': 'For decades , the Seine was the smelly companion of the City of Lights .\\nDeclared biologically dead in the 1960s , the river only ever appeared to awaken when floods threatened to spill brown mud water onto the Parisian cobblestone pavements .\\nAdvances in wastewater treatment have helped .\\nBut swimming has been officially banned since 1923 .\\nMore than two-thirds of all French people have a negative perception of the river .\\nAnd yet when French officials unveiled their ambitions for the 2024 Summer Olympics in Paris this month , the Seine was treated like a resurrected national @ @ @ @ @ @ @ of the capital ” and a place of “ unlimited possibilities ” .\\nIn a break from tradition , the opening ceremonies won ’ t take place in a stadium .\\nInstead , Olympic athletes and officials will float down the river , waving from more than 160 boats , as an estimated 600,000 spectators watch from stands and streets between the Austerlitz bridge and the Eiffel Tower .\\nIn the following weeks , some athletes may not just float on the Seine , but also in it .\\nThe river is expected @ @ @ @ @ @ @ and the triathlons .\\nOnce the athletes are gone , officials want to open the river to everyone .\\nAccording to this vision , the Olympics would celebrate a turnaround in the river ’ s fortunes that has been decades in the making .\\nBut getting there will still require a final sprint .\\nTo date , the Seine ’ s cleanup has already meant that fish the length of dinghies have returned to the river .\\nAuthorities estimate more than £1 billion will be needed before people can safely follow .\\n“ @ @ @ @ @ @ @ their rivers , ” says Anne Hidalgo , the mayor of Paris and the Socialist Party ’ s presidential candidate .\\nThe Thames similarly has gone from having been declared biologically dead to welcoming sharks , seals and even sea horses .\\nIn Berlin , activists have called for parts of the Spree river to be made swimmable .\\nIn Paris , officials hope to cordon off areas of the Seine as river-water swimming pools , open to the public after the Olympics are over .\\nThese would include scenic spots near the @ @ @ @ @ @ @ Tower , but also in the less privileged suburbs , allowing Parisians to reclaim a long-lost but unforgotten tradition .\\nWhen Paris hosted its first Olympic Games in 1900 , the swimming competitions almost self-evidently took place in the Seine , said historian Laurence Lestel .\\nPhotos taken in the following years show cyclists propelling themselves into the river off diving platforms in front of the Eiffel Tower and swimmers floating down the river on old mattresses .\\nBut industrialisation , along with decades of rapid economic and population growth in the capital @ @ @ @ @ @ @ big-city equivalent of a smelly pond , whose only saving grace was that its toxic waters reflected the Eiffel Tower and Notre Dame Cathedral .\\nAlmost no fish could survive in the Seine for decades , Lestel said .\\nAs Paris mayor , Jacques Chirac repeatedly promised a cleanup , saying on television in 1990 : “ In three years , I will swim in the Seine , in front of witnesses , to show that the Seine has become a proper river.\\n” Three decades on , authorities say the proposition is @ @ @ @ @ @ @ on hidden , partially submerged containers that transmit real-time updates on what is flowing around them – and what isn ’ t .\\nIn a brick-and-stone building in a Paris suburb , the data collected by the sensors is displayed on a large screen day and night .\\nThey include measurements of the water ’ s CO and E coli bacteria levels .\\nThese days , the Seine ’ s high-tech barometer often flashes in green – a sign that the river is allowing species to breathe again .\\nOver the past 40 @ @ @ @ @ @ @ have proliferated more than tenfold .\\nThat ’ s partly the result of tightening European Union rules on water quality , but also local initiatives to reverse decades of environmental degradation .\\nOnly 4 per cent of Parisian wastewater was treated in 1970 .\\nAnd until the 1980s , wastewater treatment in the French capital – as in many big European cities – largely focused on human excrement .\\nChemical elements such as phosphorus , which can deprive rivers of their oxygen , were ignored .\\nBut the 1980s and 1990s saw the @ @ @ @ @ @ @ of novel treatment stations that filtered not only higher quantities of wastewater , but also a greater diversity of pollutants , explains Vincent Rocher , director of innovation with the capital city region ’ s sanitation service .\\nToday , about 99 per cent of capital region wastewater is treated .\\nOn many days , the Seine already falls below the safety alert levels for swimming , officials say .\\nAnd then there are days like in September 2020 , when hundreds of gallons of toxic wastewater leaked into the river from a @ @ @ @ @ @ @ Paris .\\nTo reduce how often the safety alert goes off , officials are focusing on improving the efficiency of existing treatment plants and have stepped up efforts to prevent boats from dumping their sewage into the Seine .\\nAuthorities are also constructing a storm water holding tank designed to capture more than 12 million gallons of water and limit polluted runoff .\\nBut by the time those measures start to have an effect , revised EU rules on water quality could once again move the Seine out of ordinary swimmers ’ reach @ @ @ @ @ @ @ city ’ s Olympic swimming plans by saying that the water quality requirement for competitions “ is not quite the same as that for daily swimming ” .\\nShe was referring to rules that tend to give competition organisers more leeway than officials in charge of public swimming venues .\\nThere were sewage and water pollution concerns at the Olympics in Rio de Janeiro in 2016 and in Tokyo this year , for example , but in both cases the competitions went ahead .\\nFrench officials insist that their ultimate goal remains to @ @ @ @ @ @ @ EU standards .\\nAbout an hour ’ s drive from the capital , along the banks of the Marne river that flows into the Seine , the future has already arrived .\\nIn the town of Meaux , swimming was legalised more than a decade ago .\\nThe river there attracts both elderly people who can still remember the old days and younger ones who are carefully wading , or bravely jumping , into the waters for the first time .\\n“ Often in the past , we turned our backs on the @ @ @ @ @ @ @ a mayor in the region who has campaigned for greater swimming access .\\n“ Now locals are taking it back.\\n” Downstream in Paris , people hope to do the same .\\nAmong those agitating for a return of swimming in the Seine is Arthur Germain , who got special permission to swim the 480 miles from the river ’ s source in northeast France to its mouth in the English Channel over 49 days last summer .\\nHe also happens to be the son of the Paris mayor , Anne Hidalgo .',\n",
       " 'author': 'Rick Noack',\n",
       " 'url': 'https://www.independent.co.uk/news/world/europe/swim-in-seine-paris-olympics-b1983810.html',\n",
       " 'published': 'Sat, 01 Jan 2022 00:01:00 GMT',\n",
       " 'published_utc': 1641013260,\n",
       " 'collection_utc': 1640996133}"
      ]
     },
     "execution_count": 13,
     "metadata": {},
     "output_type": "execute_result"
    }
   ],
   "source": [
    "data[3]"
   ]
  },
  {
   "cell_type": "markdown",
   "id": "3f916e8e-6dd8-4406-ae92-db4cb85a2bf7",
   "metadata": {},
   "source": [
    "### The Script Mostly work but...\n",
    "\n",
    "The only issue is that punctuation and additional data is being added over here. It can be wise to remove 1 letter words entirely :)"
   ]
  },
  {
   "cell_type": "code",
   "execution_count": 31,
   "id": "8c50b737-2bcf-4da0-99d6-239451968b6b",
   "metadata": {},
   "outputs": [
    {
     "data": {
      "text/plain": [
       "2"
      ]
     },
     "execution_count": 31,
     "metadata": {},
     "output_type": "execute_result"
    }
   ],
   "source": [
    "len(\"aa\")"
   ]
  },
  {
   "cell_type": "code",
   "execution_count": null,
   "id": "747fa353-319b-4a5e-9772-e94be46e82fa",
   "metadata": {},
   "outputs": [],
   "source": []
  },
  {
   "cell_type": "code",
   "execution_count": null,
   "id": "37734a8d-af63-4728-8c91-3408305c3f72",
   "metadata": {},
   "outputs": [],
   "source": []
  },
  {
   "cell_type": "code",
   "execution_count": null,
   "id": "e2ca4a4e-c762-4e91-b3bb-0a3d73078a53",
   "metadata": {},
   "outputs": [],
   "source": []
  },
  {
   "cell_type": "code",
   "execution_count": null,
   "id": "4393ac1f-9785-48a1-bfcd-5a4c95a9f7a4",
   "metadata": {},
   "outputs": [],
   "source": []
  },
  {
   "cell_type": "code",
   "execution_count": null,
   "id": "e252bb26-b481-43b2-b44d-459549f4b233",
   "metadata": {},
   "outputs": [],
   "source": []
  },
  {
   "cell_type": "code",
   "execution_count": null,
   "id": "289d165c-ecc1-4f00-a654-91966bcb6115",
   "metadata": {},
   "outputs": [],
   "source": []
  },
  {
   "cell_type": "code",
   "execution_count": null,
   "id": "7cb91ee2-ce40-4ccf-a3d1-b51eafc02a9c",
   "metadata": {},
   "outputs": [],
   "source": []
  },
  {
   "cell_type": "code",
   "execution_count": null,
   "id": "5c59178b-22b9-45ae-bfb6-fc283ad09eaa",
   "metadata": {},
   "outputs": [],
   "source": []
  },
  {
   "cell_type": "code",
   "execution_count": null,
   "id": "5fbf90e6-4714-4ba4-9cd7-567d73d499e8",
   "metadata": {},
   "outputs": [],
   "source": []
  },
  {
   "cell_type": "code",
   "execution_count": null,
   "id": "fa20090b-df10-4944-b46d-1e3a51edae2e",
   "metadata": {},
   "outputs": [],
   "source": []
  },
  {
   "cell_type": "code",
   "execution_count": 18,
   "id": "bf909b3a-8225-4ac6-beb6-e45c4eeca7de",
   "metadata": {},
   "outputs": [
    {
     "data": {
      "text/plain": [
       "66301"
      ]
     },
     "execution_count": 18,
     "metadata": {},
     "output_type": "execute_result"
    }
   ],
   "source": [
    "len(fIndex)"
   ]
  },
  {
   "cell_type": "code",
   "execution_count": 19,
   "id": "9a028b26-6754-4fd0-9313-4883176b2aee",
   "metadata": {},
   "outputs": [
    {
     "data": {
      "text/plain": [
       "66301"
      ]
     },
     "execution_count": 19,
     "metadata": {},
     "output_type": "execute_result"
    }
   ],
   "source": [
    "len(data)"
   ]
  },
  {
   "cell_type": "code",
   "execution_count": 15,
   "id": "65885d07-ee91-4d59-8eef-9c494590ec0c",
   "metadata": {},
   "outputs": [],
   "source": [
    "def makeElemList(titleList, wordList):\n",
    "    elemList = []\n",
    "    parsed_words = {}\n",
    "    for word in titleList:\n",
    "        if word in parsed_words.keys():\n",
    "            index = parsed_words[word]      \n",
    "            elemList[index].hits += 1\n",
    "        else: \n",
    "            word_node = fpb.WordElement()\n",
    "            word_node.word_id = return_wordID(word)\n",
    "            word_node.hits = 1\n",
    "            word_node.title = True\n",
    "            parsed_words[word] = len(elemList)\n",
    "            elemList.append(word_node)\n",
    "    for word in wordList:\n",
    "        if word in parsed_words.keys():\n",
    "            index = parsed_words[word]      \n",
    "            elemList[index].hits += 1\n",
    "        else: \n",
    "            word_node = fpb.WordElement()\n",
    "            word_node.word_id = return_wordID(word)\n",
    "            word_node.hits = 1\n",
    "            word_node.title = False\n",
    "            parsed_words[word] = len(elemList)\n",
    "            elemList.append(word_node)\n",
    "    return elemList"
   ]
  },
  {
   "cell_type": "code",
   "execution_count": 16,
   "id": "99755f9f-1ada-4616-8479-53e31c87930d",
   "metadata": {},
   "outputs": [],
   "source": [
    "def parse(article, doc_id):\n",
    "    titleList = article['title'].split()\n",
    "    wordList = article['content'].split()\n",
    "    doc_node = fpb.DocElement()\n",
    "    doc_node.doc_id = doc_id\n",
    "    doc_node.title = article['title']\n",
    "    doc_node.date = article['date']\n",
    "    doc_node.wordelement.extend(makeElemList(titleList, wordList))\n",
    "    doc_node.url = article['url']\n",
    "    return doc_node"
   ]
  },
  {
   "cell_type": "code",
   "execution_count": 22,
   "id": "a709b432-f9df-4ab9-8b52-fb27bade4bd0",
   "metadata": {},
   "outputs": [
    {
     "name": "stdout",
     "output_type": "stream",
     "text": [
      "CPU times: user 768 ms, sys: 0 ns, total: 768 ms\n",
      "Wall time: 768 ms\n"
     ]
    }
   ],
   "source": [
    "%%time\n",
    "fIndex = fpb.ForwardIndex()\n",
    "for i, eachArticle in enumerate(data):\n",
    "    fIndex.docelement.append(parse(eachArticle, i))"
   ]
  },
  {
   "cell_type": "code",
   "execution_count": 62,
   "id": "71bf780f-9825-4738-a481-355ff860023d",
   "metadata": {},
   "outputs": [],
   "source": [
    "\n",
    "import json"
   ]
  },
  {
   "cell_type": "code",
   "execution_count": 63,
   "id": "b79de3fd-ea27-47b6-8fa9-5153fa108310",
   "metadata": {
    "scrolled": true
   },
   "outputs": [
    {
     "name": "stdout",
     "output_type": "stream",
     "text": [
      "\u001b[0m\u001b[01;34mfile1\u001b[0m/\n",
      "\u001b[01;34mfile2\u001b[0m/\n",
      "\u001b[01;34mfile3\u001b[0m/\n",
      "nutritionfactsorg.json\n",
      "oann.json\n",
      "obamawatcher.json\n",
      "observer.json\n",
      "occupydemocrats.json\n",
      "offguardian.json\n",
      "osce.json\n",
      "palmerreport.json\n",
      "pamelagellerreport.json\n",
      "pbs.json\n",
      "petapeoplefortheethicaltreatmentofanimals.json\n",
      "physicsworld.json\n",
      "pinknewsuk.json\n",
      "politicalite.json\n",
      "politicalwire.json\n",
      "politico.json\n",
      "politicususa.json\n",
      "powerlineblog.json\n",
      "pravadareport.json\n",
      "prepareforchange.json\n",
      "presswatchers.json\n",
      "prntly.json\n",
      "rawstory.json\n",
      "realclearpolitics.json\n",
      "realclimatescience.json\n",
      "realjewnews.json\n",
      "realnewsrightnow.json\n",
      "realstrategy.json\n",
      "redoubtnews.json\n",
      "redstate.json\n",
      "remnantnewspaper.json\n",
      "renegadetribune.json\n",
      "returntonow.json\n",
      "reuters.json\n",
      "rferl.json\n",
      "rightwingwatch.json\n",
      "rollcall.json\n",
      "rt.json\n",
      "russia-insider.json\n",
      "saraacater.json\n",
      "savethemales.json\n",
      "scienceblogs.json\n",
      "scientificamerican.json\n",
      "sgtreport.json\n",
      "shadowproof.json\n",
      "shareblue.json\n",
      "shoebat.json\n",
      "shtfplan.json\n",
      "skeptiko.json\n",
      "skynewspolitics.json\n",
      "skynewsus.json\n",
      "slate.json\n",
      "sluggerotoole.json\n",
      "sottnet.json\n",
      "southfront.json\n",
      "spiegel.json\n",
      "sputnik.json\n",
      "stillnessinthestorm.json\n",
      "summitnews.json\n",
      "sustainablepulse.json\n",
      "talkingpointsmemo.json\n",
      "tass.json\n",
      "theamericanconservative.json\n",
      "theatlantic.json\n",
      "thebeaverton.json\n",
      "theblaze.json\n",
      "thebl.json\n",
      "theborowitzreport.json\n",
      "thebulwark.json\n",
      "thechaser.json\n",
      "thecollegefix.json\n",
      "theconservativetreehouse.json\n",
      "thecorbettreport.json\n",
      "thedailyblog.json\n",
      "thedailycaller.json\n",
      "thedailyecho.json\n",
      "thedailyexpress.json\n",
      "thedailymirror.json\n",
      "thedailyrecord.json\n",
      "thedcclothesline.json\n",
      "thedenverpost.json\n",
      "theduran.json\n",
      "theepochtimes.json\n",
      "thefiscaltimes.json\n",
      "thegatewaypundit.json\n",
      "theguardian.json\n",
      "theguardianuk.json\n",
      "theheartysoul.json\n",
      "thehill.json\n",
      "thehuffingtonpost.json\n",
      "thehuffingtonpostpoliticalsatire.json\n",
      "thehuffingtonpostuk.json\n",
      "theindependent.json\n",
      "theintercept.json\n",
      "theirishtimes.json\n",
      "thelibertybeacon.json\n",
      "thelibertydaily.json\n",
      "themanchestereveningnews.json\n",
      "themichellemalkinblog.json\n",
      "themillenniumreport.json\n",
      "themindunleashed.json\n",
      "themoscowtimes.json\n",
      "thenation.json\n",
      "thenewyorktimes.json\n",
      "theonion.json\n",
      "thepoke.json\n",
      "thepoliticalinsider.json\n",
      "therealnews.json\n",
      "therightscoop.json\n",
      "theroot.json\n",
      "therussophileorg.json\n",
      "thescientist.json\n",
      "theseattletimes.json\n",
      "theshovel.json\n",
      "thesmokinggun.json\n",
      "thespoof.json\n",
      "thestream.json\n",
      "thesun.json\n",
      "thetelegraph.json\n",
      "thetennesseestar.json\n",
      "thetruthaboutcancer.json\n",
      "thevaccinereaction.json\n",
      "theverge.json\n",
      "thewakingtimes.json\n",
      "thewashingtonexaminer.json\n",
      "thewashingtonstandard.json\n",
      "theweekuk.json\n",
      "thoughtcatalog.json\n",
      "thoughtcrimeradio.json\n",
      "trendingpolitics.json\n",
      "trueactivist.json\n",
      "trumptimes.json\n",
      "trunews.json\n",
      "truthdig.json\n",
      "truthout.json\n",
      "truththeory.json\n",
      "ukcolumn.json\n",
      "unian.json\n",
      "upi.json\n",
      "urbanintellectuals.json\n",
      "usahitman.json\n",
      "usatoday.json\n",
      "usnews.json\n",
      "vaxxter.json\n",
      "vdare.json\n",
      "veteranstoday.json\n",
      "vigilantcitizen.json\n",
      "viralnewsnetwork.json\n",
      "vox.json\n",
      "wakingtimes.json\n",
      "warroom.json\n",
      "washingtonmonthly.json\n",
      "washingtonpost.json\n",
      "washingtontimes.json\n",
      "wattsupwiththat.json\n",
      "weareanonymous.json\n",
      "wearechange.json\n",
      "welovetrump.json\n",
      "westernjournal.json\n",
      "whatfinger.json\n",
      "whatreallyhappened.json\n",
      "windowoneurasiablog.json\n",
      "wingsoverscotland.json\n",
      "wizbang.json\n",
      "wnd.json\n",
      "x22report.json\n",
      "yahoonews.json\n",
      "yna.json\n",
      "zerohedge.json\n"
     ]
    }
   ],
   "source": [
    "%ls JSONFILES"
   ]
  },
  {
   "cell_type": "code",
   "execution_count": 64,
   "id": "6ad21d78-34be-421b-8350-ef77f3d99ca4",
   "metadata": {},
   "outputs": [],
   "source": [
    "filepath = r\"JSONFILES/obamawatcher.json\"\n",
    "with open(filepath, 'r') as file:\n",
    "    data = json.load(file)"
   ]
  },
  {
   "cell_type": "code",
   "execution_count": 83,
   "id": "aee3717c-cc1d-4e46-bbdb-65bc3131eab0",
   "metadata": {},
   "outputs": [
    {
     "name": "stdout",
     "output_type": "stream",
     "text": [
      "Surprising precisely nobody , a mother still mourning the death of her son in Benghazi , Libya ten years hence , has filed a lawsuit naming the Defendants Barack Obama and Hillary Rodham Clinton in federal court today .\n",
      "She is seeking damages amounting to three billion dollars .\n",
      "Sandy Batt and her husband Lofat decided to bring about the suit after such an extraordinary amount of time because of the public ’ s deflation in outcry for the event , and the fact that neither named Defendant has ever been brought to justice .\n",
      "Joe Konders , leader of @ @ @ @ @ @ @ Horse Committee explained what he expected to happen in the case .\n",
      "“ This has been an awful decade for Mrs. Batt .\n",
      "Her son Matt wasn ’ t even mentioned in the news all year long .\n",
      "And he ’ s not one of the ‘ Big Four ’ that gets all the attention .\n",
      "During the attack , he was there as a private citizen simply vomiting on a child.\n",
      "” “ We ’ re not getting into why the child was there or the vomit .\n",
      "We expect what every @ @ @ @ @ @ @ Money from Obama for not flying over there immediately and from Hillary for…well , just because .\n",
      "Satisfaction .\n",
      "And cash.\n",
      "” The terrorist attack continues to push buttons in the psyches of Trump-demented mental midgets to this day .\n",
      "“ Never forget ” , they warble the second they see a capital “ B ” .\n",
      "Perhaps it wouldn ’ t have been as bad if the right hadn ’ t just cut security funding for the ambassador ’ s office , or had cartoonized the entire attack for political purposes .\n",
      "@ @ @ @ @ @ @ , dickheads .\n"
     ]
    }
   ],
   "source": [
    "print(data[0]['content'])"
   ]
  },
  {
   "cell_type": "code",
   "execution_count": 92,
   "id": "cf9cc788-c874-4460-a76d-e2b6bc1b14b4",
   "metadata": {},
   "outputs": [
    {
     "data": {
      "text/plain": [
       "10"
      ]
     },
     "execution_count": 92,
     "metadata": {},
     "output_type": "execute_result"
    }
   ],
   "source": [
    "parse(data[0], 3).word_list[10].hits"
   ]
  },
  {
   "cell_type": "code",
   "execution_count": null,
   "id": "146fe0fb-7011-4722-86d2-2d028e8c1ea2",
   "metadata": {},
   "outputs": [],
   "source": []
  }
 ],
 "metadata": {
  "kernelspec": {
   "display_name": "Python 3 (ipykernel)",
   "language": "python",
   "name": "python3"
  },
  "language_info": {
   "codemirror_mode": {
    "name": "ipython",
    "version": 3
   },
   "file_extension": ".py",
   "mimetype": "text/x-python",
   "name": "python",
   "nbconvert_exporter": "python",
   "pygments_lexer": "ipython3",
   "version": "3.10.12"
  }
 },
 "nbformat": 4,
 "nbformat_minor": 5
}
