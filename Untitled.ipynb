{
 "cells": [
  {
   "cell_type": "code",
   "execution_count": 2,
   "id": "9e9d642e-d8c5-4eac-958c-02bbbe2a363c",
   "metadata": {},
   "outputs": [],
   "source": [
    "import os\n",
    "import json"
   ]
  },
  {
   "cell_type": "code",
   "execution_count": 16,
   "id": "34566857-34fb-4304-9290-c9007eee005d",
   "metadata": {},
   "outputs": [],
   "source": [
    "with open(\"JSONFILES/all_jsons/newsbusters.json\", 'r') as f:\n",
    "   json_data = json.load(f)"
   ]
  },
  {
   "cell_type": "code",
   "execution_count": 17,
   "id": "fe8630bb-5f37-4d43-9c6e-c28e93dbd918",
   "metadata": {},
   "outputs": [
    {
     "data": {
      "text/plain": [
       "{'id': \"newsbusters--2022-01-01--Column: ABC Saves Biden's Bacon In Year-End Roundup\",\n",
       " 'date': '2022-01-01',\n",
       " 'source': 'newsbusters',\n",
       " 'title': \"Column: ABC Saves Biden's Bacon In Year-End Roundup\",\n",
       " 'content': \"One of the most disturbing concepts in politics is the media elite providing the “ first draft of history.\\n” You can test-drive this with a look at ABC ’ s two-hour year-end special on December 27 .\\nIt was mostly about celebrities and athletes and some natural disasters .\\nBut when President Biden came up , ABC was energetically playing defense .\\nIt began with Biden 's inauguration and Trump 's second impeachment proceeding , over the January 6 riot…when Trump was already replaced .\\nABC anchorman David Muir announced : “ Back at the White House -- A @ @ @ @ @ @ @ combat COVID , and the return of the White House briefing after its conspicuous absence.\\n” What ?\\nKayleigh McEnany wasn ’ t briefing the press in 2020 ?\\nABC somehow pretended Jen Psaki took over from Stephanie Grisham oddly never holding a briefing .\\nMuir proclaimed : “ On the world stage , Biden touted a return to diplomacy , resetting relationships with our allies , repositioning America in the fight against climate change.\\n” There was zero mention of a border crisis .\\nThe roughest minute or so was on the @ @ @ @ @ @ @ lost Marines and bungled drone strike killing ten civilians .\\nBut they re-ran Biden telling ABC there were no mistakes , that it was impossible to withdraw without chaos .\\nOn COVID , they re-ran Muir asking Biden “ We 're nearly two years into this pandemic .\\nYou 're a year into the presidency .\\nEmpty shelves and no test kits in some places , when it 's so important .\\nIs that good enough ?\\n” Biden said no , but he touted how many Americans were vaccinated .\\nABC never @ @ @ @ @ @ @ died , more than half of that since Biden 's inauguration , after vaccines were available .\\nThere was no clip of Biden boasting in 2020 he would “ shut down the virus.\\n” Muir shifted the tone : “ All the while , the signs of hope .\\nThe reunions and the bright spots.\\n” ABC touted passage of the “ bipartisan infrastructure bill , ” and then noted “ progressives ” held out for a much larger spending package .\\nThey inserted a bizarre soundbite from actress Ryan Michelle Bathe about @ @ @ @ @ @ @ a birthday cake for picky kids .\\nDemocrats were flustered by Sen. Manchin betraying the party by refusing to support the larger bill , but then those Republicans !\\nWhite House reporter Jonathan Karl jauntily declared “ Democrats have deep divisions , but the Republican party is a mess !\\n” George Stephanopoulos warned “ Republicans reckoned with the outsized influence of former President Trump… As an emboldened , often controversial wing of the party emerges ” ( picture of Rep. Marjorie Taylor Greene ) .\\nSo are the Republicans a “ mess @ @ @ @ @ @ @ thinking ?\\nThey want everything to be about Trump .\\nThey 're invested in his GOP-wrecking potential .\\nStephanopoulos continued : “ Even those who condemned Trump 's actions on January 6th…gravitated back to the former president…Largely refusing to publicly debunk Trump 's big election lie , ostracizing those who spoke out .\\nCongresswoman Liz Cheney is ousted from her leadership post.\\n” Notice that Joe Manchin betrayed his party , but Liz Cheney is a truth-telling hero .\\nThat sounds like a Stephanopoulos spin .\\nRecent polls show Republicans are strongly positioned @ @ @ @ @ @ @ as a “ pounce , ” as expected .\\n“ Ahead of next year 's midterms , Democrats on alert after suffering a stinging loss in Virginia 's gubernatorial race .\\nRepublicans ready to pounce as Biden 's popularity takes a perilous dive , setting up what promises to be another unpredictable , pivotal year in American politics.\\n” Terry McAuliffe lost in Virginia despite mentioning Trump incessantly , but the Democrats at ABC can only insist 2022 is going to be “ unpredictable.\\n” Sadly for them , they can ’ t @ @ @ @ @ @ @ vote for Democrats .\",\n",
       " 'author': 'Tim Graham',\n",
       " 'url': 'https://www.newsbusters.org/blogs/nb/tim-graham/2021/12/31/column-abc-saves-bidens-bacon-year-end-roundup',\n",
       " 'published': 'December 31st, 2021 5:55 AM',\n",
       " 'published_utc': 1641037909,\n",
       " 'collection_utc': 1641037909}"
      ]
     },
     "execution_count": 17,
     "metadata": {},
     "output_type": "execute_result"
    }
   ],
   "source": [
    "json_data[8]"
   ]
  },
  {
   "cell_type": "code",
   "execution_count": 18,
   "id": "454dd5bc-b60f-4d85-b491-2435a7a8e67e",
   "metadata": {},
   "outputs": [
    {
     "data": {
      "text/plain": [
       "32768"
      ]
     },
     "execution_count": 18,
     "metadata": {},
     "output_type": "execute_result"
    }
   ],
   "source": [
    "len(json_data)"
   ]
  },
  {
   "cell_type": "code",
   "execution_count": null,
   "id": "40e8234c-d23b-47eb-b28c-a35d63ec950f",
   "metadata": {},
   "outputs": [],
   "source": []
  }
 ],
 "metadata": {
  "kernelspec": {
   "display_name": "Python 3 (ipykernel)",
   "language": "python",
   "name": "python3"
  },
  "language_info": {
   "codemirror_mode": {
    "name": "ipython",
    "version": 3
   },
   "file_extension": ".py",
   "mimetype": "text/x-python",
   "name": "python",
   "nbconvert_exporter": "python",
   "pygments_lexer": "ipython3",
   "version": "3.10.12"
  }
 },
 "nbformat": 4,
 "nbformat_minor": 5
}
