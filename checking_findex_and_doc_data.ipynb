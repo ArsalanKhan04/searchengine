{
 "cells": [
  {
   "cell_type": "markdown",
   "id": "4ae56175-a54b-4717-af81-241b9a91652c",
   "metadata": {},
   "source": [
    "## Interpreting and checking the forwardindex stored"
   ]
  },
  {
   "cell_type": "markdown",
   "id": "8a2777bc-27c3-4b09-8532-3d9116b490b5",
   "metadata": {},
   "source": [
    "Importing the necessary libraries"
   ]
  },
  {
   "cell_type": "code",
   "execution_count": 4,
   "id": "ef568851-263d-48e6-83da-9bd60cf45c4c",
   "metadata": {},
   "outputs": [],
   "source": [
    "# The proto combiled library is used to define the forward index object\n",
    "from Data.saveFIndex import forwardindex_file_pb2 as fpb\n",
    "# To get the lexicon\n",
    "from wordlexicon import return_wordID, lexicon_list\n",
    "# Getting metadata\n",
    "from Data import metadata_pb2 as mpb\n",
    "import os\n",
    "import json"
   ]
  },
  {
   "cell_type": "code",
   "execution_count": 5,
   "id": "648ad658-7321-4e89-ab14-17ab917d498e",
   "metadata": {},
   "outputs": [
    {
     "data": {
      "text/plain": [
       "11"
      ]
     },
     "execution_count": 5,
     "metadata": {},
     "output_type": "execute_result"
    }
   ],
   "source": [
    "metadata = mpb.MetaData()\n",
    "with open(\"./Data/metadata.pb\", \"rb\") as f:\n",
    "    filecontent = f.read()\n",
    "metadata.ParseFromString(filecontent)"
   ]
  },
  {
   "cell_type": "code",
   "execution_count": 6,
   "id": "b7a79ace-a261-4e8e-8ef2-3b159a9ae6db",
   "metadata": {},
   "outputs": [
    {
     "data": {
      "text/plain": [
       "70000"
      ]
     },
     "execution_count": 6,
     "metadata": {},
     "output_type": "execute_result"
    }
   ],
   "source": [
    "# Printing the total docs we have\n",
    "metadata.totaldocs"
   ]
  },
  {
   "cell_type": "code",
   "execution_count": 7,
   "id": "e6601a76-4344-4755-b340-0ad22e69148a",
   "metadata": {},
   "outputs": [
    {
     "data": {
      "text/plain": [
       "10000"
      ]
     },
     "execution_count": 7,
     "metadata": {},
     "output_type": "execute_result"
    }
   ],
   "source": [
    "# Also showing the barrel size\n",
    "barrel_size = metadata.forwardindexlimit\n",
    "barrel_size"
   ]
  },
  {
   "cell_type": "code",
   "execution_count": 21,
   "id": "ffc8e1e9-5d94-4050-8f9d-a58f30142bbd",
   "metadata": {},
   "outputs": [
    {
     "data": {
      "text/plain": [
       "46341030"
      ]
     },
     "execution_count": 21,
     "metadata": {},
     "output_type": "execute_result"
    }
   ],
   "source": [
    "forwardindex = fpb.ForwardIndex()\n",
    "\n",
    "with open(\"./Data/forward_index/findex_0.pb\", 'rb') as f:\n",
    "    filecontent = f.read()\n",
    "\n",
    "forwardindex.ParseFromString(filecontent)"
   ]
  },
  {
   "cell_type": "code",
   "execution_count": 22,
   "id": "d683f640-9cfa-4f27-b0bb-145e0025317f",
   "metadata": {},
   "outputs": [
    {
     "data": {
      "text/plain": [
       "10000"
      ]
     },
     "execution_count": 22,
     "metadata": {},
     "output_type": "execute_result"
    }
   ],
   "source": [
    "# Getting the total number of docelements in a forward index\n",
    "len(forwardindex.docelement)"
   ]
  },
  {
   "cell_type": "code",
   "execution_count": 23,
   "id": "744bd95a-35f0-4950-bead-505b41b7acfb",
   "metadata": {},
   "outputs": [
    {
     "data": {
      "text/plain": [
       "word_id: 1003\n",
       "hits: 1\n",
       "title: true\n",
       "position: 0"
      ]
     },
     "execution_count": 23,
     "metadata": {},
     "output_type": "execute_result"
    }
   ],
   "source": [
    "# defining 1 word\n",
    "forwardindex.docelement[3].wordelement[0]"
   ]
  },
  {
   "cell_type": "markdown",
   "id": "fec2c692-1c95-4353-bc5f-a033fc4f2898",
   "metadata": {},
   "source": [
    "#### Here I will display the forward_index in a more human form"
   ]
  },
  {
   "cell_type": "code",
   "execution_count": 25,
   "id": "ec757d6a-eb55-4d42-b497-f7919b77682a",
   "metadata": {},
   "outputs": [
    {
     "name": "stdout",
     "output_type": "stream",
     "text": [
      "Doc_id:  7680 -- Words: (word=cnn | hits=2)  (word=look | hits=1)  (word=forward | hits=1)  (word=to | hits=29)  (word=possibility | hits=1)  \n",
      "Doc_id:  7681 -- Words: (word=help | hits=1)  (word=pick | hits=1)  (word=the | hits=13)  (word=mrc | hits=3)  (word=bulldog | hits=4)  \n",
      "Doc_id:  7682 -- Words: (word=univision | hits=2)  (word=push | hits=1)  (word=title | hits=6)  (word= | hits=6)  (word=repeal | hits=1)  \n",
      "Doc_id:  7683 -- Words: (word=twitter | hits=8)  (word=censor | hits=1)  (word=tpusa | hits=2)  (word=founder | hits=1)  (word=charlie | hits=3)  \n",
      "Doc_id:  7684 -- Words: (word=ap | hits=7)  (word=mock | hits=1)  (word=for | hits=9)  (word=saying | hits=1)  (word=gop | hits=2)  \n",
      "Doc_id:  7685 -- Words: (word=new | hits=5)  (word=york | hits=5)  (word=times | hits=19)  (word=systemic | hits=1)  (word=racism | hits=1)  \n",
      "Doc_id:  7686 -- Words: (word=capehart | hits=1)  (word=brooks | hits=1)  (word=republican | hits=7)  (word=put | hits=1)  (word=jackson | hits=10)  \n",
      "Doc_id:  7687 -- Words: (word=arrest | hits=1)  (word=development | hits=1)  (word=star | hits=1)  (word=david | hits=2)  (word=cross | hits=1)  \n",
      "Doc_id:  7688 -- Words: (word=cringe | hits=1)  (word=cbs | hits=2)  (word=compare | hits=1)  (word=ukraine | hits=1)  (word=independence | hits=1)  \n",
      "Doc_id:  7689 -- Words: (word=velshi | hits=4)  (word=wonder | hits=1)  (word=if | hits=2)  (word=ukrainian | hits=5)  (word=benefit | hits=1)  \n",
      "Doc_id:  7690 -- Words: (word=pelosi | hits=4)  (word=pac | hits=4)  (word=claim | hits=1)  (word=cnn | hits=1)  (word=just | hits=1)  \n",
      "Doc_id:  7691 -- Words: (word=ny | hits=1)  (word=times | hits=6)  (word=mad | hits=1)  (word=at | hits=2)  (word=gop | hits=1)  \n",
      "Doc_id:  7692 -- Words: (word=rogan | hits=6)  (word=say | hits=1)  (word=big | hits=4)  (word=tech | hits=1)  (word=activist | hits=1)  \n",
      "Doc_id:  7693 -- Words: (word=ap | hits=7)  (word=mock | hits=1)  (word=for | hits=9)  (word=saying | hits=1)  (word=gop | hits=2)  \n",
      "Doc_id:  7694 -- Words: (word=new | hits=5)  (word=york | hits=5)  (word=times | hits=19)  (word=systemic | hits=1)  (word=racism | hits=1)  \n",
      "Doc_id:  7695 -- Words: (word=capehart | hits=1)  (word=brooks | hits=1)  (word=republican | hits=7)  (word=put | hits=1)  (word=jackson | hits=10)  \n",
      "Doc_id:  7696 -- Words: (word=arrest | hits=1)  (word=development | hits=1)  (word=star | hits=1)  (word=david | hits=2)  (word=cross | hits=1)  \n",
      "Doc_id:  7697 -- Words: (word=cringe | hits=1)  (word=cbs | hits=2)  (word=compare | hits=1)  (word=ukraine | hits=1)  (word=independence | hits=1)  \n",
      "Doc_id:  7698 -- Words: (word=velshi | hits=4)  (word=wonder | hits=1)  (word=if | hits=2)  (word=ukrainian | hits=5)  (word=benefit | hits=1)  \n",
      "Doc_id:  7699 -- Words: (word=pelosi | hits=4)  (word=pac | hits=4)  (word=claim | hits=1)  (word=cnn | hits=1)  (word=just | hits=1)  \n"
     ]
    }
   ],
   "source": [
    "for eachdoc in forwardindex.docelement[7680:7700]:\n",
    "    print(\"Doc_id: \", eachdoc.doc_id, \"-- Words: \", end=\"\")\n",
    "    for eachword in eachdoc.wordelement[:5]:\n",
    "        print(f\"(word={lexicon_list[eachword.word_id]} | hits={eachword.hits})  \", end=\"\")\n",
    "    print()"
   ]
  },
  {
   "cell_type": "code",
   "execution_count": 26,
   "id": "1df8731c-84a1-40d0-bc94-8d50c2a00721",
   "metadata": {},
   "outputs": [],
   "source": [
    "import json"
   ]
  },
  {
   "cell_type": "code",
   "execution_count": 29,
   "id": "62a64b9d-d15c-433b-b948-9b1c03ddd33b",
   "metadata": {},
   "outputs": [],
   "source": [
    "with open(\"./JSONFILES/all_jsons/newsbusters.json\") as f:\n",
    "    data = json.load(f)"
   ]
  },
  {
   "cell_type": "code",
   "execution_count": 33,
   "id": "301cf3f7-f3dc-4e92-9de4-fa33bab2f2f6",
   "metadata": {},
   "outputs": [
    {
     "data": {
      "text/plain": [
       "{'id': \"newsbusters--2022-01-02--Joy's Year of Hate: Here's Reid's 20 WORST Moments From 2021\",\n",
       " 'date': '2022-01-02',\n",
       " 'source': 'newsbusters',\n",
       " 'title': \"Joy's Year of Hate: Here's Reid's 20 WORST Moments From 2021\",\n",
       " 'content': \"With a full year under her belt hosting MSNBC ’ s The ReidOut , far-left pundit and generally awful human being Joy Reid made her presence felt with a night-after-night hatefest against conservatives , Republicans , and anyone who stands in her way , painting them as enemies of the people .\\nAll in all , Reid ran a show with rhetoric bordering on incitement .\\nDespite that , Reid was flush with advertisers , including but not limited to : Cadillac , Discover , Ensure , Fidelity , HughesNet , Liberty Mutual , and SimpliSafe .\\nNewsBusters was there @ @ @ @ @ @ @ over 120 posts to The ReidOut 's tag with comments from Reid and guests ranging from the baffling to deranged to mind-numbing , to unstable .\\nFor the purposes of this NewsBusters recap , we ’ ll be focusing on things uttered by Reid .\\nHowever , for a sampling of things guests said in an attempt to one-up the woman who claimed her blog was hacked , check those out here , here , here , here , here , and here .\\nBelow represents the 20 worst moments from Reid on @ @ @ @ @ @ @ order with the date it aired and the original NewsBusters headline .\\nThis first entry might be one of the worst from this list and , sure enough , it served as a runner-up for the Chris Cuomo Memorial Award For Worst Quote of the Year .\\nFollowing the death of the great Rush Limbaugh , Reid tag-teamed with Washington Post columnist Dana Milbank and fake conservative ( read : progressive ) Charlie Sykes of The Bulwark to smear Limbaugh ’ s memory .\\nFor her part , Reid derided Limbaugh ’ s @ @ @ @ @ @ @ ed ] chaos and sexism , manipulation , racism , and dirty tricks directly into the artery of the Republican Party ” and Limbaugh himself as having “ harden [ ed ] rural white listeners and weaponiz [ ed ] white male grievance ” for those “ out there in the hinterlands.\\n” 2 .\\nMarch 3 — EVIL : Reid , Guests Accuse Red States of Hating Black People Unless They ’ re in Factories Reid had enough of red states allowing Americans to emerge from economically and mentally crippling Covid restrictions @ @ @ @ @ @ @ , which is essentially the politics of who gets to live and who gets to die ” with “ black and brown lives matter [ ing ] less.\\n” “ [ A ] ll that matters is that the black and brown people get their behinds into the factory and make me my steaks , make me my stuff .\\nGet there and do my nails .\\nWork .\\nGet back to work now and do things that I , the comfortable , affluent person need , ” she added .\\nWhile playing @ @ @ @ @ @ @ raging like a lunatic , Reid made a litany of false claims about conservatives , suggesting their obsessed with cancel culture , Mr .\\nPotato Head , Dr. Seuss while “ mak [ ing ] sure that Americans are a bit deaf , dumb , and blind to what government is supposed to do.\\n” Reid also left her sense of irony behind as she also accused the GOP of being “ purely performative ” and “ acting out the worst insecurities and fears and paranoids of the loudest parts of their voting @ @ @ @ @ @ @ following the deadly Colorado shooting at a King Soupers grocery story , demanding the permanent ban and erasure of the AR-15 and blamed shooting on Congresswoman Lauren Boebert ( R-CO ) because of her gun “ pornography.\\n” The next day , Reid furthered her campaign against anyone and everyone opposing the For the People Act and efforts like the voter integrity measures in states like Georgia .\\nReferring to the Peach State as a modern-day version of apartheid South Africa , Reid falsely claimed the state wants to keep African-Americans from exercising @ @ @ @ @ @ @ tortur [ ing ] , ” and “ starv [ ing ] ” them .\\nReid routinely talked about the supposed excellence of the factually-challenged 1619 Project by her friend Nikole Hannah-Jones , and it was just prior to Memorial Day when she argued Hannah-Jones was a victim of “ cancel culture ” and a “ chilling ” act of “ war ” when she was denied tenure by the University of North Carolina at Chapel Hill .\\nAs we wrote at the time , none of the major inaccuracies surrounding the 1619 @ @ @ @ @ @ @ that Republicans were the ones “ falsifying our nation 's history.\\n” 7 .\\nMay 27 — Evil Joy Reid , Guests : Conservatives Are Murderous Enemies of the People Reid didn ’ t try to find any elaborate way on May 27 of maligning those who don ’ t share her political views .\\nInstead , she accused the GOP of being “ extremists , ” “ sedition , violence , ” and “ white nationalism ” with Senator Joe Manchin ( D-WV ) embracing the “ Jim Crow-era rule ” known @ @ @ @ @ @ @ While she said there ’ s “ no ” point to “ bipartisanship , ” she remained silent when Jason Johnson claimed Manchin would have been fine if his fellow Senate Democrats were killed on January 6 .\\nIn a predictable move , Reid saw nothing but white people and terrorism in parents simply taking interest in what their children have been learning in school and pushing back when it ’ s divisive , lewd , and racist .\\nWith help from NBC reporter Ben Collins ( who ’ s like the History @ @ @ @ @ @ @ ) , Reid said the parents were an “ insidious underbelly of the GQP culture war.\\n” 9 .\\nAugust 5 — VENOM : Joy Reid Returns From Vacation as Only She Could ( With a Side of Cuomo Praise ) In her first show after vacation , Reid lept to the defense of disgraced former Governor Andrew Cuomo ( D-NY ) , claiming he was “ much better ... on the pandemic than Trump ” and insisted the GOP should “ fart off ” since Democrats were the party of moral authority @ @ @ @ @ @ @ and Supreme Court Justices Brett Kavanaugh and Clarence Thomas among their ranks .\\nReid did mention predatory liberals like Bill Clinton , Al Franken , and Matt Lauer , but maintained it was a right-wing problem as its behavior “ only one of our two political parties actually embraces.\\n” The MSNBC pundit repeatedly parroted the tiresome talking points about Governor Ron DeSantis ( R-FL ) as a mass murderer with this show serving as but one example when she said DeSantis doesn ’ t “ care ” “ about the well-being of @ @ @ @ @ @ @ for ” children to die of the coronavirus .\\n11 .\\nAugust 12 — Joy Reid : ‘ Homicidal ’ Republicans Don ’ t Believe in ‘ Staying Alive , ’ Don ’ t Want Citizens to Live Continuing on the theme of the right being not only wrong but almost genocidal , Reid proclaimed that the tens of millions of Americans that lean right lack “ a really strong feeling about staying alive…and keeping their kids alive ” when it comes to the coronavirus and hoped that vaccine mandates would “ save @ @ @ @ @ @ @ ” And to take a dig at DeSantis and fellow Governor Greg Abbott ( R-TX ) , Reid said they ’ ve taken the side “ in favor of death ” against their citizens .\\n12 .\\nAugust 18 — Kabul Karen : Joy Reid ’ s Three Nights of Sycophancy for Biden on Afghanistan The collapse of Afghanistan presented a strange , almost alternate reality for NewsBusters and conservatives as the liberal media hammered the Biden administration for the U.S. withdrawal from the Middle Eastern country after 20 years of war .\\n@ @ @ @ @ @ @ for Joy Reid as she fawned over the process and complained about media coverage over what many believed to have been “ Biden..screwing up the execution of an idea that everybody wants to do.\\n” 13 .\\nAugust 19 — Jalalabad Joy Reid Attacks the Media for Daring to Call Out Biden on Afghanistan A day later , Reid continued blabbering about the media deciding to actually do its job , accusing them of having their “ gaze ... fixed on Afghanistan ” and that they would dare to be “ pissed off @ @ @ @ @ @ @ t “ go smoothly.\\n” Reid ’ s other gripe ?\\nThat people spent too much time talking about Afghanistan and not enough on January 6 .\\n14 .\\nSeptember 3 — Joy ’ s Week of Hate : Fox Is al-Qaeda , GOPers Are the New Taliban , and TX Loves Rapists During a round-up of the worst of Reid from the week of August 29 , we found Reid had quite a show on September 3 as she claimed conservative Evangelical Christians are on par with the Taliban , Republicans don @ @ @ @ @ @ @ real ” human beings ( let alone worthy of voting ) , and deemed DeSantis supporters to be fans of seeing children die from Covid .\\n15 .\\nSeptember 15 — VENOMOUS Joy : GOPers ‘ Love Covid So Much ’ They Want to Kill You , ‘ Drink It ’ Like ‘ Kool-Aid ’ Rivaling the February 17 attacks on Limbaugh , Reid ’ s September 15 show offered a truly evil and incendiary series of attacks .\\nHere ’ s what we said at the time : Not surprisingly , Reid @ @ @ @ @ @ @ it again on October 13 .\\n16 .\\nSeptember 16 — Reid LIES About Ben Shapiro , Insists It Was GOOD to Be Anti-Vax Under Trump Though she didn ’ t accuse millions of wanting to drink Covid if it existed in liquid form , Reid lied the following night in asserting Ben Shapiro was an anti-vaxxer and white supremacist while offering an illuminating case of mental gymnastics as to why it was reasonable to be an anti-vaxxer under Donald Trump but not Joe Biden .\\n17 .\\nOctober 12 — Looney Tunes @ @ @ @ @ @ @ Rhetoric Against Conservatives This particular show summarized the sometimes tiresome yet odious nature of Reid ’ s show as she opened with a laborious and predictable commentary about how America was possibly in its “ waning years ... as a democracy ” because of the “ Jonestown ” -like Republican Party hellbent on achieving power through any means necessary .\\n18 .\\nNovember 18 — MELTDOWN : Hateful , Racist Joy Reid Freaks Over a GOP House as ONLY She Can Describing Republicans as “ the YOLO parent , ” Reid babbled almost @ @ @ @ @ @ @ ” and “ open-racism-embracing ” GOP “ whose answer to anything and everything is to scream about the border and , ‘ the scary Brown people are taking over America and meh , and history is mean.\\n’ ” Rhetorical question for this one : Have you ever seen a strawman as big as the one Reid constructed there ?\\n19 .\\nNovember 19 — Buckle Up : Here Are the BEST Rittenhouse Meltdowns from Joy Reid ’ s Show Joy Reid beamed in from a hotel room as a guest during her @ @ @ @ @ @ @ and compared the teenager to the newest incarnation of the “ slave catchers ” from before the Civil War who possessed the legal “ freedom ” to kill Black people as he sees fit .\\nWorst yet , Reid said there ’ s “ nothing ” that can now stop right-leaning Americans from committing mass murder and getting away with it .\\n20 .\\nDecember 21 — Ebenezer Joy Reid : ‘ God Bless Biden ’ Because Fox News Is Going to MURDER You !\\nLast week , Reid wrapped a segment with @ @ @ @ @ @ @ “ God bless ” President Biden for being “ a caring human being who does want the whole country to survive ” the coronavirus pandemic while Fox News wants to see “ fans ” and “ viewers ” “ die because they don ’ t give a damn ” and since it ’ d be “ fun.\\n” Following on the theme from the 15-spot on our list , Reid also claimed Fox News was a murderous regime on August 30 , but this time , she said they were just like Osama @ @ @ @ @ @ @ while he remained alive .\",\n",
       " 'author': 'Curtis Houck',\n",
       " 'url': 'https://www.newsbusters.org/blogs/nb/curtis-houck/2021/12/28/joys-year-hate-heres-reids-20-worst-moments-2021',\n",
       " 'published': 'December 28th, 2021 6:11 PM',\n",
       " 'published_utc': 1641124237,\n",
       " 'collection_utc': 1641124237}"
      ]
     },
     "execution_count": 33,
     "metadata": {},
     "output_type": "execute_result"
    }
   ],
   "source": [
    "data[133]"
   ]
  },
  {
   "cell_type": "code",
   "execution_count": 31,
   "id": "37cb27fd-c4ef-49a4-81db-103a1b488948",
   "metadata": {},
   "outputs": [
    {
     "data": {
      "text/plain": [
       "{'id': \"newsbusters--2022-03-27--AP Mocked for Saying GOP Thinks Ketanji 'Brings Too Much Empathy'\",\n",
       " 'date': '2022-03-27',\n",
       " 'source': 'newsbusters',\n",
       " 'title': \"AP Mocked for Saying GOP Thinks Ketanji 'Brings Too Much Empathy'\",\n",
       " 'content': \"The Associated Press ( AP ) was blasted by conservatives and Republicans on Friday for a story ( and tweet ) on Ketanji Brown Jackson claiming Democrats just want the Supreme Court to look `` more like America , '' while Republicans think `` Jackson brings too much empathy to the job . ''\\nThis was the tweet : Reporter Lisa Mascaro wrote a very tilted story headlined `` Supreme Court nominee ’ s ‘ empathy ’ is flashpoint for Senate . ''\\nWASHINGTON ( AP ) — Empathy is not a quality many Republican senators want to see in @ @ @ @ @ @ @ considered an admirable attribute , the ability to empathize with another ’ s plight has become a touchstone for GOP opposition to Judge Ketanji Brown Jackson .\\nThe first Black woman nominated to become a justice , Jackson brings a lifetime of experience never seen before on the high court , which has been filled almost exclusively by white men for most of its 233-year history .\\nDemocrats praise President Joe Biden ’ s choice of the Harvard-educated lawyer and appellate court judge as long overdue , making the judicial branch begin to @ @ @ @ @ @ @ on the other side of the Senate , Republicans lining up to oppose the historic nomination are warning that Jackson carries too much empathy to the job .\\nMascaro also tweeted out the liberal AP spin : Mascaro quoted a couple of Republicans , then doubled down : It ’ s not the first time the concept of empathy has been wielded as a disqualifying weapon against a nominee for the high court .\\nNor is it the only time the empathy standard was applied to the women tapped for the bench , @ @ @ @ @ @ @ men .\\nMore than a decade ago , Republicans lodged similar arguments against another trailblazing minority woman nominated by a Democrat to the Supreme Court — Sonia Sotomayor , the first Latina justice , a Puerto Rican-American who grew up in the Bronx .\\nShe preferred the word `` empathy '' to liberal .\\nThe L-word was only used as a Republican pounce : `` the 'empathy standard ' swiftly transformed into conservative legal catchphrase for liberal judges . ''\\nDrew Holden tweeted a dramatic contrast in AP coverage in comparison to Amy @ @ @ @ @ @ @ article on Barrett in this 2020 tweet also carried the byline of Lisa Mascaro ( and two others ) .\\nBack then , AP was alarmed at `` conservative '' and `` anti-abortion '' Barrett and her `` Catholic faith . ''\\nOur own Curtis Houck tweeted `` The AP thinks having 'too much empathy ' for child predators is a marvelous thing and not something to scoff at . ''\",\n",
       " 'author': 'Tim Graham',\n",
       " 'url': 'https://www.newsbusters.org/blogs/nb/tim-graham/2022/03/26/ap-mocked-saying-gop-thinks-ketanji-brings-too-much-empathy',\n",
       " 'published': 'March 26th, 2022 6:01 PM',\n",
       " 'published_utc': 1648377758,\n",
       " 'collection_utc': 1648377758}"
      ]
     },
     "execution_count": 31,
     "metadata": {},
     "output_type": "execute_result"
    }
   ],
   "source": [
    "data[7693]"
   ]
  },
  {
   "cell_type": "code",
   "execution_count": null,
   "id": "9b813842-52e0-4366-827b-9b84b441a874",
   "metadata": {},
   "outputs": [],
   "source": [
    "forwardindex.docelement[32768 % 10000].wordelement"
   ]
  },
  {
   "cell_type": "code",
   "execution_count": 7,
   "id": "410b00be-d186-49f0-afae-92975bcbf626",
   "metadata": {},
   "outputs": [],
   "source": [
    "dir_to_parse =  f\"./JSONFILES/dir_{1}\"\n",
    "list_of_jsons = os.listdir(dir_to_parse)"
   ]
  },
  {
   "cell_type": "code",
   "execution_count": 32,
   "id": "2cb6b377-685b-4bfd-a16f-cffd8a2d6ee9",
   "metadata": {},
   "outputs": [
    {
     "data": {
      "text/plain": [
       "'eveningstandard.json'"
      ]
     },
     "execution_count": 32,
     "metadata": {},
     "output_type": "execute_result"
    }
   ],
   "source": [
    "list_of_jsons[2]"
   ]
  },
  {
   "cell_type": "code",
   "execution_count": 33,
   "id": "26a456e1-12d0-4ac3-9ba9-9e8cbd85fac3",
   "metadata": {},
   "outputs": [
    {
     "ename": "UnicodeDecodeError",
     "evalue": "'utf-8' codec can't decode byte 0x91 in position 133029889: invalid start byte",
     "output_type": "error",
     "traceback": [
      "\u001b[0;31m---------------------------------------------------------------------------\u001b[0m",
      "\u001b[0;31mUnicodeDecodeError\u001b[0m                        Traceback (most recent call last)",
      "Cell \u001b[0;32mIn[33], line 2\u001b[0m\n\u001b[1;32m      1\u001b[0m \u001b[38;5;28;01mwith\u001b[39;00m \u001b[38;5;28mopen\u001b[39m(os\u001b[38;5;241m.\u001b[39mpath\u001b[38;5;241m.\u001b[39mjoin(dir_to_parse, list_of_jsons[\u001b[38;5;241m2\u001b[39m]), \u001b[38;5;124m\"\u001b[39m\u001b[38;5;124mr\u001b[39m\u001b[38;5;124m\"\u001b[39m) \u001b[38;5;28;01mas\u001b[39;00m f:\n\u001b[0;32m----> 2\u001b[0m     data \u001b[38;5;241m=\u001b[39m \u001b[43mjson\u001b[49m\u001b[38;5;241;43m.\u001b[39;49m\u001b[43mload\u001b[49m\u001b[43m(\u001b[49m\u001b[43mf\u001b[49m\u001b[43m)\u001b[49m\n",
      "File \u001b[0;32m/usr/lib/python3.10/json/__init__.py:293\u001b[0m, in \u001b[0;36mload\u001b[0;34m(fp, cls, object_hook, parse_float, parse_int, parse_constant, object_pairs_hook, **kw)\u001b[0m\n\u001b[1;32m    274\u001b[0m \u001b[38;5;28;01mdef\u001b[39;00m \u001b[38;5;21mload\u001b[39m(fp, \u001b[38;5;241m*\u001b[39m, \u001b[38;5;28mcls\u001b[39m\u001b[38;5;241m=\u001b[39m\u001b[38;5;28;01mNone\u001b[39;00m, object_hook\u001b[38;5;241m=\u001b[39m\u001b[38;5;28;01mNone\u001b[39;00m, parse_float\u001b[38;5;241m=\u001b[39m\u001b[38;5;28;01mNone\u001b[39;00m,\n\u001b[1;32m    275\u001b[0m         parse_int\u001b[38;5;241m=\u001b[39m\u001b[38;5;28;01mNone\u001b[39;00m, parse_constant\u001b[38;5;241m=\u001b[39m\u001b[38;5;28;01mNone\u001b[39;00m, object_pairs_hook\u001b[38;5;241m=\u001b[39m\u001b[38;5;28;01mNone\u001b[39;00m, \u001b[38;5;241m*\u001b[39m\u001b[38;5;241m*\u001b[39mkw):\n\u001b[1;32m    276\u001b[0m \u001b[38;5;250m    \u001b[39m\u001b[38;5;124;03m\"\"\"Deserialize ``fp`` (a ``.read()``-supporting file-like object containing\u001b[39;00m\n\u001b[1;32m    277\u001b[0m \u001b[38;5;124;03m    a JSON document) to a Python object.\u001b[39;00m\n\u001b[1;32m    278\u001b[0m \n\u001b[0;32m   (...)\u001b[0m\n\u001b[1;32m    291\u001b[0m \u001b[38;5;124;03m    kwarg; otherwise ``JSONDecoder`` is used.\u001b[39;00m\n\u001b[1;32m    292\u001b[0m \u001b[38;5;124;03m    \"\"\"\u001b[39;00m\n\u001b[0;32m--> 293\u001b[0m     \u001b[38;5;28;01mreturn\u001b[39;00m loads(\u001b[43mfp\u001b[49m\u001b[38;5;241;43m.\u001b[39;49m\u001b[43mread\u001b[49m\u001b[43m(\u001b[49m\u001b[43m)\u001b[49m,\n\u001b[1;32m    294\u001b[0m         \u001b[38;5;28mcls\u001b[39m\u001b[38;5;241m=\u001b[39m\u001b[38;5;28mcls\u001b[39m, object_hook\u001b[38;5;241m=\u001b[39mobject_hook,\n\u001b[1;32m    295\u001b[0m         parse_float\u001b[38;5;241m=\u001b[39mparse_float, parse_int\u001b[38;5;241m=\u001b[39mparse_int,\n\u001b[1;32m    296\u001b[0m         parse_constant\u001b[38;5;241m=\u001b[39mparse_constant, object_pairs_hook\u001b[38;5;241m=\u001b[39mobject_pairs_hook, \u001b[38;5;241m*\u001b[39m\u001b[38;5;241m*\u001b[39mkw)\n",
      "File \u001b[0;32m/usr/lib/python3.10/codecs.py:322\u001b[0m, in \u001b[0;36mBufferedIncrementalDecoder.decode\u001b[0;34m(self, input, final)\u001b[0m\n\u001b[1;32m    319\u001b[0m \u001b[38;5;28;01mdef\u001b[39;00m \u001b[38;5;21mdecode\u001b[39m(\u001b[38;5;28mself\u001b[39m, \u001b[38;5;28minput\u001b[39m, final\u001b[38;5;241m=\u001b[39m\u001b[38;5;28;01mFalse\u001b[39;00m):\n\u001b[1;32m    320\u001b[0m     \u001b[38;5;66;03m# decode input (taking the buffer into account)\u001b[39;00m\n\u001b[1;32m    321\u001b[0m     data \u001b[38;5;241m=\u001b[39m \u001b[38;5;28mself\u001b[39m\u001b[38;5;241m.\u001b[39mbuffer \u001b[38;5;241m+\u001b[39m \u001b[38;5;28minput\u001b[39m\n\u001b[0;32m--> 322\u001b[0m     (result, consumed) \u001b[38;5;241m=\u001b[39m \u001b[38;5;28;43mself\u001b[39;49m\u001b[38;5;241;43m.\u001b[39;49m\u001b[43m_buffer_decode\u001b[49m\u001b[43m(\u001b[49m\u001b[43mdata\u001b[49m\u001b[43m,\u001b[49m\u001b[43m \u001b[49m\u001b[38;5;28;43mself\u001b[39;49m\u001b[38;5;241;43m.\u001b[39;49m\u001b[43merrors\u001b[49m\u001b[43m,\u001b[49m\u001b[43m \u001b[49m\u001b[43mfinal\u001b[49m\u001b[43m)\u001b[49m\n\u001b[1;32m    323\u001b[0m     \u001b[38;5;66;03m# keep undecoded input until the next call\u001b[39;00m\n\u001b[1;32m    324\u001b[0m     \u001b[38;5;28mself\u001b[39m\u001b[38;5;241m.\u001b[39mbuffer \u001b[38;5;241m=\u001b[39m data[consumed:]\n",
      "\u001b[0;31mUnicodeDecodeError\u001b[0m: 'utf-8' codec can't decode byte 0x91 in position 133029889: invalid start byte"
     ]
    }
   ],
   "source": [
    "with open(os.path.join(dir_to_parse, list_of_jsons[2]), \"r\") as f:\n",
    "    data = json.load(f)"
   ]
  },
  {
   "cell_type": "code",
   "execution_count": 31,
   "id": "07e6d192-6e7f-410b-8c11-25b6b9044f73",
   "metadata": {},
   "outputs": [
    {
     "data": {
      "text/plain": [
       "{'id': \"cnn--2022-01-01--The virus is now 'extraordinarily contagious' and previous mitigation measures are 'out the window,'\",\n",
       " 'date': '2022-01-01',\n",
       " 'source': 'cnn',\n",
       " 'title': \"The virus is now 'extraordinarily contagious' and previous mitigation measures are 'out the window,' expert says\",\n",
       " 'content': \"( CNN ) The US is ringing in the new year amid a Covid-19 surge that experts warn is exploding at unprecedented speed and could alter daily life for many Americans during the first month of 2022 .\\n`` Omicron is truly everywhere , '' Dr. Megan Ranney , a professor of emergency medicine at Brown University 's School of Public Health , told CNN on Friday night .\\n`` What I am so worried about over the next month or so is that our economy is going to shut down , not because of policies from the federal government @ @ @ @ @ @ @ rather because so many of us are ill. '' The nation broke records twice this week for its seven-day average of new daily Covid-19 cases , reporting an all-time high average of roughly 355,990 new daily infections Thursday .\\nThe high case count is already causing disruptions in parts of the country .\\nIn New York City , the Metropolitan Transportation Authority ( MTA ) is plagued with staffing issues and announced three subway lines -- the B , Z and W -- which service various parts of the boroughs , have been @ @ @ @ @ @ @ York , we 've been affected by the COVID surge .\\nWe 're running as much train service as we can with the operators we have available , '' the MTA wrote on Twitter Thursday .\\nHealthcare services -- exhausted after several surges of the virus and now stretched thin again by a growing number of Covid-19 patients -- are also already feeling impacts .\\nThe University of Maryland Capital Region Health this week joined a growing list of medical centers in the state to activate emergency protocols after a sharp rise in @ @ @ @ @ @ @ departments .\\n`` The current demand for care is depleting our available resources , including staffing , '' UM Capital Region Health said in a statement on Friday .\\nIn Ohio , Gov .\\nMike DeWine on Wednesday announced the deployment of about 1,250 National Guard members as hospitals struggle with staffing shortages .\\n`` Get ready .\\nWe have to remember , in the next few weeks , there 's going to be an unprecedented number of social disruptions , '' Dr. Peter Hotez , dean of Baylor University 's National School @ @ @ @ @ @ @ Those include flight disruptions as well , he said , because of TSA agent and air crew absences .\\nPrevious rules of virus are 'out the window' The virus is now `` extraordinarily contagious '' and previous mitigation measures that used to help now may not be as helpful , CNN medical analyst Dr. Jonathan Reiner told CNN on Friday .\\n`` At the beginning of this pandemic ... we all were taught , you have a significant exposure if you 're within six feet of somebody and you 're in contact with @ @ @ @ @ @ @ All these rules are out the window , '' Reiner said .\\n`` This is a hyper-contagious virus . ''\\nNow , even a quick , transient encounter can lead to an infection , Reiner added , including if someone 's mask is loose , or a person quickly pulls their mask down , or an individual enters an elevator in which someone else has just coughed .\\n`` This is how you can contract this virus , '' Reiner said .\\nThe variant 's transmissibility helps explain the staggering number of infections @ @ @ @ @ @ @ .\\nin the past week , several states have reported new case and hospitalization highs , shattering previous records .\\n`` Our hospitals right now are at roughly the same numbers they were on the worst day of last winter 's surge , '' he added .\\n`` The problem is that right now we do n't see any sign of let up . ''\\nOther states , including Arkansas , Maryland and New York , also reported new records for case numbers .\\nAnd a sharp rise in infections -- especially in @ @ @ @ @ @ @ spike in hospital admissions , infectious diseases expert Dr. Jeanne Marrazzo said .\\n`` The explosive rise in cases is really fueling what normally might be a relatively small proportion ... of kids who are experiencing these severe outcomes , '' she told CNN 's Amara Walker on Friday .\\n`` But you put the gigantic numbers of cases together with the small number affected , plus the proportion of unvaccinated , and I 'm really worried that we 're going to be in for a tidal wave of admissions , particularly for @ @ @ @ @ @ @ With the virus spreading , some staff and experts are expressing concern about what school reopenings could mean .\\n`` There will be pediatric hospitalizations , '' Hotez said .\\n`` And what 's going to be the other tough piece in the next weeks , keeping the schools open , because of this high transmissibility -- especially if you start seeing absences of school teachers , bus drivers , cafeteria staff . ''\\nThe Massachusetts Teachers Association , New England 's largest public sector union , urged the state education commissioner this @ @ @ @ @ @ @ , except for staff Covid-19 testing .\\n`` Using Monday as a day for testing and analyzing data will allow our school districts to make prudent decisions around staffing needs so they can continue in-person learning for students if it is safe or develop contingency plans if a district deems it to be necessary , '' President Merrie Najimy , the association 's president , said in a statement .\\nThe state 's Executive Office of Education said Friday that schools will be open on Monday , despite the teacher union 's request @ @ @ @ @ @ @ Secondary Education worked hard this week to make at-home rapid tests available to all public school teachers and staff in light of the testing shortages being experienced around the country .\\nMassachusetts is one of only a handful of states supplying rapid tests to its teachers .\\nIt is a not a requirement for teachers to return to work , or necessary to reopen schools after the holiday break , '' Colleen Quinn , a spokesperson for the office , said in a statement .\\n`` It is disappointing , '' the statement @ @ @ @ @ @ @ MTA is trying to find a way to close schools , which we know is to the extreme detriment of our children . ''\\nMeanwhile , a growing number of colleges and universities across the country are making changes to the beginning of the 2022 spring semester as a result of the case surge .\\n`` I realize that students prefer to be in person , and so do I , '' Samuel L. Stanley Jr. , the university 's president , said in a statement .\\n`` But it is important that @ @ @ @ @ @ @ .\\nStarting the semester remotely and de-densifying campus in the coming weeks can be a solution to slowing the spread of the virus . ''\",\n",
       " 'author': '',\n",
       " 'url': 'https://www.cnn.com/2022/01/01/health/us-coronavirus-saturday/index.html',\n",
       " 'published': 'Sat, 01 Jan 2022 08:21:23 GMT',\n",
       " 'published_utc': 1641043283,\n",
       " 'collection_utc': 1641035983}"
      ]
     },
     "execution_count": 31,
     "metadata": {},
     "output_type": "execute_result"
    }
   ],
   "source": [
    "data[0]"
   ]
  },
  {
   "cell_type": "code",
   "execution_count": 30,
   "id": "114a5aed-7cc2-4f53-9654-f82a3ce2a66e",
   "metadata": {},
   "outputs": [
    {
     "data": {
      "text/plain": [
       "'virus'"
      ]
     },
     "execution_count": 30,
     "metadata": {},
     "output_type": "execute_result"
    }
   ],
   "source": [
    "lexicon_list[129933]"
   ]
  },
  {
   "cell_type": "code",
   "execution_count": 29,
   "id": "7062a725-166e-4216-9210-7891f14bde0b",
   "metadata": {},
   "outputs": [
    {
     "data": {
      "text/plain": [
       "45290"
      ]
     },
     "execution_count": 29,
     "metadata": {},
     "output_type": "execute_result"
    }
   ],
   "source": [
    "len(data)"
   ]
  },
  {
   "cell_type": "markdown",
   "id": "9e4fe011-7320-404a-98b0-22d2e28bc2a6",
   "metadata": {},
   "source": [
    "#### Lists of jsons from whom forward_index has been made in order:\n",
    "\n",
    "- newsbusters.json (32768 articles)\n",
    "- cnn.json (37232 articles)\n",
    "\n",
    "Covering from findex_0 to findex_6"
   ]
  },
  {
   "cell_type": "markdown",
   "id": "c62b4b01-23d1-466e-9b4e-332c19063636",
   "metadata": {},
   "source": [
    "We will now make docdata_0 to docdata_6\n"
   ]
  },
  {
   "cell_type": "code",
   "execution_count": 2,
   "id": "94d00666-77a6-445e-a1ef-2715fdab04c6",
   "metadata": {},
   "outputs": [],
   "source": [
    "import Data.doc_data.doc_file_pb2 as dpb\n",
    "import Data.doc_data.save_docs as dds"
   ]
  },
  {
   "cell_type": "code",
   "execution_count": 3,
   "id": "d8441b91-c427-4843-a3d4-306ff5c959d5",
   "metadata": {},
   "outputs": [],
   "source": [
    "def make_doc_data():\n",
    "    doc_data = dpb.DocData()\n",
    "    count = 0\n",
    "    for article in ['newsbusters.json', 'cnn.json']:\n",
    "        article_path = os.path.join(dir_to_parse, article)\n",
    "        with open(article_path, 'r') as f:\n",
    "            data = json.load(f)\n",
    "        for eacharticle in data:\n",
    "            doc_node = dpb.EachDocData()\n",
    "            doc_node = dds.parse(eacharticle)\n",
    "            doc_data.eachdoc.append(doc_node)\n",
    "            count+=1\n",
    "            \n",
    "            if count % barrel_size == 0:\n",
    "                curr_file_index = (count // barrel_size) - 1\n",
    "                filecontent = doc_data.SerializeToString()\n",
    "                with open(f\"./Data/doc_data/docdata_{curr_file_index}.pb\", \"wb\") as f:\n",
    "                    f.write(filecontent)\n",
    "                doc_data = dpb.DocData()\n",
    "                if curr_file_index == 6:\n",
    "                    return\n",
    "            "
   ]
  },
  {
   "cell_type": "code",
   "execution_count": 8,
   "id": "70a3e5d3-9deb-47fa-9b6b-799396215508",
   "metadata": {},
   "outputs": [
    {
     "name": "stdout",
     "output_type": "stream",
     "text": [
      "CPU times: user 1.26 s, sys: 630 ms, total: 1.89 s\n",
      "Wall time: 1.91 s\n"
     ]
    }
   ],
   "source": [
    "%%time\n",
    "make_doc_data()"
   ]
  },
  {
   "cell_type": "markdown",
   "id": "ddf47817-beb3-405b-82bb-64215eb07394",
   "metadata": {},
   "source": [
    "## Checking this Doc Data we stored"
   ]
  },
  {
   "cell_type": "code",
   "execution_count": 9,
   "id": "1100c01f-fcb0-45c1-a2ba-0f2cce396508",
   "metadata": {},
   "outputs": [],
   "source": [
    "doc_data = dpb.DocData()"
   ]
  },
  {
   "cell_type": "code",
   "execution_count": 10,
   "id": "ae7d2729-7909-4af6-8b32-4a9bdbcda25e",
   "metadata": {},
   "outputs": [
    {
     "data": {
      "text/plain": [
       "7335956"
      ]
     },
     "execution_count": 10,
     "metadata": {},
     "output_type": "execute_result"
    }
   ],
   "source": [
    "with open(\"./Data/doc_data/docdata_1.pb\", \"rb\") as f:\n",
    "    filecontent = f.read()\n",
    "doc_data.ParseFromString(filecontent)\n",
    "doc_data.ByteSize()"
   ]
  },
  {
   "cell_type": "code",
   "execution_count": 11,
   "id": "a93ebc43-4437-4b86-ae02-c9f7cb5436d2",
   "metadata": {},
   "outputs": [
    {
     "data": {
      "text/plain": [
       "url: \"https://www.newsbusters.org/blogs/nb/nicholas-fondacaro/2022/04/19/washpost-defends-doxxing-libsoftiktok-comports-professional\"\n",
       "title: \"WashPost Defends Doxxing Libs Of TikTok: \\'Comports\\' With \\'Professional Standards\\'\"\n",
       "date: \"2022-04-21\"\n",
       "chars500: \"In a statement penned Tuesday , Washington Post senior managing editor Cameron Barr stepped up to defend hypocritical malefactor Taylor Lorenz after she doxed the owner of the Libs of TikTok Twitter account , including her identity and address , all because she exposed the lunatics , groomers , and general extremists of the left .\\nAnd rightfully , there was a great public outcry against the paper .\\nLaughably calling Lorenz an “ accomplished and diligent journalist , ” Barr said her “ reporting m\"\n",
       "author: \"Nicholas Fondacaro\""
      ]
     },
     "execution_count": 11,
     "metadata": {},
     "output_type": "execute_result"
    }
   ],
   "source": [
    "doc_data.eachdoc[0]"
   ]
  },
  {
   "cell_type": "code",
   "execution_count": null,
   "id": "d2fe875e-a634-4f5c-aefa-5b9673a958b4",
   "metadata": {},
   "outputs": [],
   "source": []
  }
 ],
 "metadata": {
  "kernelspec": {
   "display_name": "Python 3 (ipykernel)",
   "language": "python",
   "name": "python3"
  },
  "language_info": {
   "codemirror_mode": {
    "name": "ipython",
    "version": 3
   },
   "file_extension": ".py",
   "mimetype": "text/x-python",
   "name": "python",
   "nbconvert_exporter": "python",
   "pygments_lexer": "ipython3",
   "version": "3.10.12"
  }
 },
 "nbformat": 4,
 "nbformat_minor": 5
}
