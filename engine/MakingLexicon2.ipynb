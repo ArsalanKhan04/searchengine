{
 "cells": [
  {
   "cell_type": "markdown",
   "id": "43f8c59e-abf7-4304-9d0e-cf86dae257cb",
   "metadata": {},
   "source": [
    "## Issues with the previous word lexicon\n",
    "\n",
    "**Too slow**\n",
    "- The previous word lexicon is a python list using the \"index\" function to locate words, hence very inefficient when it comes to locating each word, being a lot worse when having to do it multiple times in order to cater to adjectives, verbs, nouns and adverbs.\n",
    "- In order to have better implementation, we will be using both hash tables and tries, and check their memory consumption as well"
   ]
  },
  {
   "cell_type": "markdown",
   "id": "b0e0ec97-7315-4a9c-a3ef-a6c3b14157a2",
   "metadata": {},
   "source": [
    "#### Checking the previous implementation:"
   ]
  },
  {
   "cell_type": "code",
   "execution_count": 1,
   "id": "ee0f9359-2439-49d1-ab7f-edce70492034",
   "metadata": {},
   "outputs": [
    {
     "name": "stderr",
     "output_type": "stream",
     "text": [
      "/usr/lib/python3/dist-packages/scipy/__init__.py:146: UserWarning: A NumPy version >=1.17.3 and <1.25.0 is required for this version of SciPy (detected version 1.26.2\n",
      "  warnings.warn(f\"A NumPy version >={np_minversion} and <{np_maxversion}\"\n"
     ]
    }
   ],
   "source": [
    "from previousimplementation import wordlexicon as oldWL\n",
    "import time\n",
    "import sys"
   ]
  },
  {
   "cell_type": "code",
   "execution_count": 2,
   "id": "378e6f5b-75af-4dc2-8469-f75990c9253c",
   "metadata": {},
   "outputs": [],
   "source": [
    "def get_time(func, *args):\n",
    "    start_time = time.time()\n",
    "    func(*args)\n",
    "    end_time = time.time()\n",
    "    print(f\"Process took: {(end_time-start_time)*1000} ms\")"
   ]
  },
  {
   "cell_type": "code",
   "execution_count": 3,
   "id": "9969b28c-4dfb-4fc1-8c44-83696d6bc35b",
   "metadata": {},
   "outputs": [
    {
     "name": "stdout",
     "output_type": "stream",
     "text": [
      "hello\n",
      "Process took: 0.019073486328125 ms\n"
     ]
    }
   ],
   "source": [
    "get_time(print, \"hello\")"
   ]
  },
  {
   "cell_type": "code",
   "execution_count": 4,
   "id": "846ac749-d633-44f2-85f8-335a068850a4",
   "metadata": {},
   "outputs": [],
   "source": [
    "lexicon_list = oldWL.lexicon_list"
   ]
  },
  {
   "cell_type": "code",
   "execution_count": 5,
   "id": "7804bff3-8d79-4553-8664-0e641d0f9db8",
   "metadata": {},
   "outputs": [
    {
     "name": "stdout",
     "output_type": "stream",
     "text": [
      "['that', 'an', 'most', 'don', 'now', 'with', 'where', 'yourselves', 'how', 'few']\n",
      "['crested', 'openhanded', 'pursy', 'pulley', 'unbelt', 'dismantle', 'idolater', 'immunocompetence', 'iconolatry', 'disappoint']\n",
      "['microprobe', 'elaliite', 'elkinstantonite', 'tschauner', 'phosphides', 'gey', 'wdbj', 'whiteboyd', 'bechtel', 'skloot']\n",
      "240956\n"
     ]
    }
   ],
   "source": [
    "print(lexicon_list[:10])\n",
    "print(lexicon_list[400:410])\n",
    "print(lexicon_list[240000:240010])\n",
    "print(len(lexicon_list))"
   ]
  },
  {
   "cell_type": "code",
   "execution_count": 6,
   "id": "4236e90d-2d80-4590-8ff1-480644e03b9e",
   "metadata": {},
   "outputs": [
    {
     "name": "stdout",
     "output_type": "stream",
     "text": [
      "Process took: 2.5370121002197266 ms\n",
      "Process took: 0.5304813385009766 ms\n",
      "Process took: 0.0016689300537109375 ms\n"
     ]
    }
   ],
   "source": [
    "for word in [\"microprobe\", \"thought\", \"some\"]:\n",
    "    get_time(lexicon_list.index, word)"
   ]
  },
  {
   "cell_type": "markdown",
   "id": "16fd35b7-72af-4861-bcf8-66e955eb6211",
   "metadata": {},
   "source": [
    "**Clearly a linear time can be noticed from over here**"
   ]
  },
  {
   "cell_type": "code",
   "execution_count": 7,
   "id": "72581fad-59a1-449c-8e8f-73d16da75614",
   "metadata": {},
   "outputs": [],
   "source": [
    "from nltk.stem import WordNetLemmatizer\n",
    "lemmatizer = WordNetLemmatizer()"
   ]
  },
  {
   "cell_type": "code",
   "execution_count": 8,
   "id": "76365355-05e0-4260-b1cb-3821bbdf3226",
   "metadata": {},
   "outputs": [
    {
     "name": "stdout",
     "output_type": "stream",
     "text": [
      "Checking time constraint with word: thought and type: v\n",
      "Checking time constraint with word: thought and type: n\n",
      "Checking time constraint with word: thought and type: r\n",
      "Checking time constraint with word: thought and type: a\n",
      "Checking time constraint with word: think and type: v\n",
      "Checking time constraint with word: think and type: n\n",
      "Checking time constraint with word: think and type: r\n",
      "Checking time constraint with word: think and type: a\n"
     ]
    }
   ],
   "source": [
    "for word in [\"thought\", \"think\"]:\n",
    "    for type in [\"v\", \"n\", \"r\", \"a\"]:\n",
    "        print(f\"Checking time constraint with word: {word} and type: {type}\")\n",
    "        lemmatizer.lemmatize(word, type)"
   ]
  },
  {
   "cell_type": "markdown",
   "id": "a8ad6ee4-fb25-476c-9494-a5c860465b32",
   "metadata": {},
   "source": [
    "The lemmatizer does not take a lot of time, hence we can use it in our wordlexicon"
   ]
  },
  {
   "cell_type": "code",
   "execution_count": 9,
   "id": "cea07b43-b0b2-428c-a02e-6f07c2f7fac3",
   "metadata": {},
   "outputs": [],
   "source": [
    "lexicon_pb = oldWL.lexicon"
   ]
  },
  {
   "cell_type": "code",
   "execution_count": 10,
   "id": "43593b40-7310-48a4-aa7f-d121710db40d",
   "metadata": {
    "scrolled": true
   },
   "outputs": [
    {
     "name": "stdout",
     "output_type": "stream",
     "text": [
      "1927704\n",
      "80\n"
     ]
    }
   ],
   "source": [
    "print(sys.getsizeof(lexicon_list))\n",
    "print(sys.getsizeof(lexicon_pb))"
   ]
  },
  {
   "cell_type": "markdown",
   "id": "8e99adfa-7785-49cc-a7b7-f18762758b20",
   "metadata": {},
   "source": [
    "A python lexicon list takes about 2 MBs in memory "
   ]
  },
  {
   "cell_type": "markdown",
   "id": "a591c60a-53bc-4f7a-b8fa-6e4c91bcde9d",
   "metadata": {},
   "source": [
    "**Hence, currently memory is not an issue, but time efficiency is**\n",
    "\n",
    "We will implement two data structures to deal with this: \n",
    "- Hash Tables\n",
    "- A Trie"
   ]
  },
  {
   "cell_type": "code",
   "execution_count": 11,
   "id": "951ca5b8-01e6-4d70-b6c8-494389d88974",
   "metadata": {},
   "outputs": [],
   "source": [
    "class TrieNode:\n",
    "    def __init__(self):\n",
    "        self.children = {}\n",
    "        self.is_end_of_word = False\n",
    "        self.index = -1\n",
    "\n",
    "class Trie:\n",
    "    def __init__(self):\n",
    "        self.root = TrieNode()\n",
    "        self.size = 0\n",
    "\n",
    "    def insert(self, word, index):\n",
    "        node = self.root\n",
    "        for char in word:\n",
    "            if char not in node.children:\n",
    "                node.children[char] = TrieNode()\n",
    "            node = node.children[char]\n",
    "        node.is_end_of_word = True\n",
    "        node.index=index\n",
    "        self.size+=1\n",
    "\n",
    "    def get_index(self, word):\n",
    "        node = self.root\n",
    "        for char in word:\n",
    "            if char not in node.children:\n",
    "                return -1\n",
    "            node = node.children[char]\n",
    "        return node.index"
   ]
  },
  {
   "cell_type": "code",
   "execution_count": 12,
   "id": "ad00ce4a-a3c6-41cf-9cc2-78199f1c40ea",
   "metadata": {},
   "outputs": [],
   "source": [
    "demoTrie = Trie()"
   ]
  },
  {
   "cell_type": "code",
   "execution_count": 13,
   "id": "6e629ef9-608d-4732-b85c-e4a3cd0d9eaa",
   "metadata": {},
   "outputs": [
    {
     "data": {
      "text/plain": [
       "3"
      ]
     },
     "execution_count": 13,
     "metadata": {},
     "output_type": "execute_result"
    }
   ],
   "source": [
    "demoTrie.insert(\"word\", 3)\n",
    "demoTrie.insert(\"wording\", 4)\n",
    "demoTrie.get_index(\"word\")"
   ]
  },
  {
   "cell_type": "code",
   "execution_count": 20,
   "id": "1ca9ba91-04ab-4acb-a131-331693426054",
   "metadata": {},
   "outputs": [],
   "source": [
    "\n",
    "punc = '''!()-[]{};:'\"\\,<>./?@#$%^&*_~'''"
   ]
  },
  {
   "cell_type": "code",
   "execution_count": 14,
   "id": "0f9c2318-6fce-427e-a080-2f4263c4611e",
   "metadata": {},
   "outputs": [],
   "source": [
    "lexiconTrie = Trie()\n",
    "for index, word in enumerate(lexicon_list):\n",
    "    lexiconTrie.insert(word, index)"
   ]
  },
  {
   "cell_type": "code",
   "execution_count": 15,
   "id": "a3b5b7c9-6795-4615-b868-cb20c7310a3e",
   "metadata": {},
   "outputs": [
    {
     "name": "stdout",
     "output_type": "stream",
     "text": [
      "Process took: 2.8772354125976562 ms\n",
      "Process took: 0.8378028869628906 ms\n",
      "Process took: 0.0019073486328125 ms\n"
     ]
    }
   ],
   "source": [
    "for word in [\"microprobe\", \"thought\", \"some\"]:\n",
    "    get_time(lexicon_list.index, word)"
   ]
  },
  {
   "cell_type": "code",
   "execution_count": 21,
   "id": "8fcc90cc-a2bb-484a-b84e-855b877c4393",
   "metadata": {},
   "outputs": [
    {
     "data": {
      "text/plain": [
       "'!\"#$%&\\'()*+,-./:;<=>?@[\\\\]^_`{|}~'"
      ]
     },
     "execution_count": 21,
     "metadata": {},
     "output_type": "execute_result"
    }
   ],
   "source": [
    "import string\n",
    "string.punctuation"
   ]
  },
  {
   "cell_type": "code",
   "execution_count": 23,
   "id": "432b0d95-c581-4ef1-8d94-8dd8d403670f",
   "metadata": {},
   "outputs": [
    {
     "data": {
      "text/plain": [
       "'microprobe'"
      ]
     },
     "execution_count": 23,
     "metadata": {},
     "output_type": "execute_result"
    }
   ],
   "source": [
    "\"microp*robe\".translate(str.maketrans('', '', string.punctuation))"
   ]
  },
  {
   "cell_type": "code",
   "execution_count": 27,
   "id": "eb343b3a-6149-439b-a866-5c31465320d7",
   "metadata": {},
   "outputs": [],
   "source": [
    "removed_punctuations = [word.translate(str.maketrans('', '', string.punctuation)) for word in lexicon_list]"
   ]
  },
  {
   "cell_type": "code",
   "execution_count": 28,
   "id": "a211619c-befa-4aa1-8570-e2d86d7e1bad",
   "metadata": {},
   "outputs": [
    {
     "data": {
      "text/plain": [
       "240956"
      ]
     },
     "execution_count": 28,
     "metadata": {},
     "output_type": "execute_result"
    }
   ],
   "source": [
    "len(removed_punctuations)"
   ]
  },
  {
   "cell_type": "code",
   "execution_count": 29,
   "id": "34b17553-bff0-488a-ae0a-953a1b337e28",
   "metadata": {},
   "outputs": [
    {
     "data": {
      "text/plain": [
       "236102"
      ]
     },
     "execution_count": 29,
     "metadata": {},
     "output_type": "execute_result"
    }
   ],
   "source": [
    "len(list(set(removed_punctuations)))"
   ]
  },
  {
   "cell_type": "code",
   "execution_count": 16,
   "id": "72dcfc79-32f8-4d8e-9533-427649891066",
   "metadata": {},
   "outputs": [
    {
     "name": "stdout",
     "output_type": "stream",
     "text": [
      "Process took: 0.00667572021484375 ms\n",
      "Process took: 0.00286102294921875 ms\n",
      "Process took: 0.0019073486328125 ms\n"
     ]
    }
   ],
   "source": [
    "for word in [\"microprobe\", \"thought\", \"some\"]:\n",
    "    get_time(lexiconTrie.get_index, word)"
   ]
  },
  {
   "cell_type": "markdown",
   "id": "c82effce-353c-4e85-93b0-095611954974",
   "metadata": {},
   "source": [
    "**Huge huge win :)**"
   ]
  },
  {
   "cell_type": "code",
   "execution_count": 17,
   "id": "a30f09db-86f3-44c2-808e-9b1dd27d7e5c",
   "metadata": {},
   "outputs": [
    {
     "data": {
      "text/plain": [
       "48"
      ]
     },
     "execution_count": 17,
     "metadata": {},
     "output_type": "execute_result"
    }
   ],
   "source": [
    "sys.getsizeof(lexiconTrie)"
   ]
  },
  {
   "cell_type": "code",
   "execution_count": null,
   "id": "cd344e2c-6345-4ad5-937e-b7f8d0783d3e",
   "metadata": {},
   "outputs": [],
   "source": []
  },
  {
   "cell_type": "code",
   "execution_count": 18,
   "id": "179330e3-e7b5-42ab-a0bb-9780ae0a2f11",
   "metadata": {},
   "outputs": [],
   "source": [
    "import pickle"
   ]
  },
  {
   "cell_type": "code",
   "execution_count": 19,
   "id": "700f9cc4-eb53-46c0-9b20-132be58d4d7f",
   "metadata": {},
   "outputs": [],
   "source": [
    "with open(\"lexiconTrie.pkl\", \"wb\") as file:\n",
    "    pickle.dump(lexiconTrie, file)"
   ]
  },
  {
   "cell_type": "markdown",
   "id": "0153dea6-e007-4f49-bc83-623d3e0cceb0",
   "metadata": {},
   "source": [
    "**It is 30Mbs now**"
   ]
  },
  {
   "cell_type": "markdown",
   "id": "acfae766-d7d2-4691-8a50-9d9d55c92e74",
   "metadata": {},
   "source": [
    "We will skip making the hashfunction coz boo"
   ]
  },
  {
   "cell_type": "markdown",
   "id": "9b5459a6-1ef0-408c-8c07-f3cd7236062d",
   "metadata": {},
   "source": [
    "### Making a function to lemmatize each word and get the word ID afterwards\n",
    "We will copy the previous function"
   ]
  },
  {
   "cell_type": "code",
   "execution_count": 76,
   "id": "be2371d5-e156-4a47-ab91-a218efc2773f",
   "metadata": {},
   "outputs": [
    {
     "name": "stdout",
     "output_type": "stream",
     "text": [
      "CPU times: user 4.59 s, sys: 26.2 ms, total: 4.62 s\n",
      "Wall time: 4.58 s\n"
     ]
    }
   ],
   "source": [
    "%%time\n",
    "with open(\"lexiconTrie.pkl\", \"rb\") as file:\n",
    "    lexTrie = pickle.load(file)"
   ]
  },
  {
   "cell_type": "code",
   "execution_count": 81,
   "id": "60ca1f8b-7a19-4de5-b56c-98c7feed4d29",
   "metadata": {},
   "outputs": [
    {
     "name": "stdout",
     "output_type": "stream",
     "text": [
      "CPU times: user 253 ms, sys: 0 ns, total: 253 ms\n",
      "Wall time: 252 ms\n"
     ]
    }
   ],
   "source": [
    "%%time\n",
    "for i in range(1000000):\n",
    "    lexTrie.get_index(\"check\")"
   ]
  },
  {
   "cell_type": "code",
   "execution_count": 3,
   "id": "e35baf34-ff8c-47fa-abbf-d465c6b2e81c",
   "metadata": {},
   "outputs": [],
   "source": [
    "from wordlexicon.trie import Trie, TrieNode"
   ]
  },
  {
   "cell_type": "code",
   "execution_count": 5,
   "id": "46cff339-1d8d-4b14-997b-8b6342fc75d0",
   "metadata": {},
   "outputs": [
    {
     "name": "stdout",
     "output_type": "stream",
     "text": [
      "CPU times: user 13 µs, sys: 5 µs, total: 18 µs\n",
      "Wall time: 23.4 µs\n"
     ]
    }
   ],
   "source": [
    "%%time\n",
    "from wordlexicon.wordlexicon import GetLexiconSize, return_wordID, lexTrie"
   ]
  },
  {
   "cell_type": "code",
   "execution_count": 9,
   "id": "a44d245f-f122-4bd5-8376-12344eec5f01",
   "metadata": {},
   "outputs": [],
   "source": [
    "def get_word_from_key(root, key):\n",
    "    current = root\n",
    "    word = []\n",
    "\n",
    "    while key:\n",
    "        found = False\n",
    "        for child in current.children.values():\n",
    "            if child.is_end_of_word and key == child.index:\n",
    "                word.append(chr(child.index + ord('a')))\n",
    "                return ''.join(reversed(word))\n",
    "            elif child.is_end_of_word and key > child.index:\n",
    "                key -= child.index\n",
    "                current = child\n",
    "                found = True\n",
    "                break\n",
    "            elif not child.is_end_of_word:\n",
    "                key -= 1\n",
    "\n",
    "        if not found:\n",
    "            return None\n",
    "\n",
    "    return None"
   ]
  },
  {
   "cell_type": "code",
   "execution_count": 12,
   "id": "5e63aaa7-4d14-4035-b44b-d809db3ea7d3",
   "metadata": {},
   "outputs": [
    {
     "name": "stdout",
     "output_type": "stream",
     "text": [
      "None\n"
     ]
    }
   ],
   "source": [
    "print(get_word_from_key(lexTrie.root, 6))"
   ]
  },
  {
   "cell_type": "code",
   "execution_count": 6,
   "id": "86c0dd94-98ea-4df4-8b52-f907f30d936f",
   "metadata": {},
   "outputs": [
    {
     "name": "stdout",
     "output_type": "stream",
     "text": [
      "Process took: 0.010728836059570312 ms\n"
     ]
    }
   ],
   "source": [
    "get_time(return_wordID, \"runner\")"
   ]
  },
  {
   "cell_type": "code",
   "execution_count": 10,
   "id": "5c9ce67b-d38d-40b9-86ae-e97072a91df4",
   "metadata": {},
   "outputs": [
    {
     "name": "stdout",
     "output_type": "stream",
     "text": [
      "172\n",
      "43379\n",
      "48510\n",
      "117019\n",
      "117019\n",
      "24242\n",
      "99721\n",
      "147351\n",
      "CPU times: user 57 µs, sys: 32 µs, total: 89 µs\n",
      "Wall time: 89.9 µs\n"
     ]
    }
   ],
   "source": [
    "%%time\n",
    "for word in [\"each\", \"thing\", \"thought\", \"brothers\", \"brother\", \"good\", \"better\", \"best\"]:\n",
    "    print(return_wordID(word))"
   ]
  },
  {
   "cell_type": "code",
   "execution_count": 8,
   "id": "ffcc685a-d66f-4c91-9b08-beec0b1eafaa",
   "metadata": {
    "scrolled": true
   },
   "outputs": [
    {
     "name": "stdout",
     "output_type": "stream",
     "text": [
      "CPU times: user 19 µs, sys: 10 µs, total: 29 µs\n",
      "Wall time: 31.5 µs\n"
     ]
    },
    {
     "data": {
      "text/plain": [
       "117019"
      ]
     },
     "execution_count": 8,
     "metadata": {},
     "output_type": "execute_result"
    }
   ],
   "source": [
    "%%time\n",
    "return_wordID(\"brothers\")"
   ]
  },
  {
   "cell_type": "code",
   "execution_count": 12,
   "id": "f61b7427-02dc-4970-94d0-70bd6bed7fcd",
   "metadata": {},
   "outputs": [],
   "source": [
    "\n",
    "from nltk.stem import WordNetLemmatizer\n",
    "lemmatizer = WordNetLemmatizer()"
   ]
  },
  {
   "cell_type": "code",
   "execution_count": 14,
   "id": "cc1f46c1-b539-4c21-b3d5-7c98a87f5be9",
   "metadata": {},
   "outputs": [
    {
     "data": {
      "text/plain": [
       "'good'"
      ]
     },
     "execution_count": 14,
     "metadata": {},
     "output_type": "execute_result"
    }
   ],
   "source": [
    "lemmatizer.lemmatize(\"better\", \"a\")"
   ]
  },
  {
   "cell_type": "code",
   "execution_count": 15,
   "id": "0ff81341-ca7b-47e0-aa5b-005d4d43ff74",
   "metadata": {},
   "outputs": [],
   "source": [
    "lex_list = [-1 for _ in range(GetLexiconSize())]"
   ]
  },
  {
   "cell_type": "code",
   "execution_count": 16,
   "id": "c0b6d9ea-5df5-4124-82d3-aa6103adb324",
   "metadata": {},
   "outputs": [
    {
     "data": {
      "text/plain": [
       "301647"
      ]
     },
     "execution_count": 16,
     "metadata": {},
     "output_type": "execute_result"
    }
   ],
   "source": [
    "len(lex_list)"
   ]
  },
  {
   "cell_type": "code",
   "execution_count": 2,
   "id": "321ff41c-e8a9-4a8e-a090-55012cd0c7c1",
   "metadata": {},
   "outputs": [
    {
     "name": "stderr",
     "output_type": "stream",
     "text": [
      "/usr/lib/python3/dist-packages/scipy/__init__.py:146: UserWarning: A NumPy version >=1.17.3 and <1.25.0 is required for this version of SciPy (detected version 1.26.2\n",
      "  warnings.warn(f\"A NumPy version >={np_minversion} and <{np_maxversion}\"\n"
     ]
    }
   ],
   "source": [
    "from wordlexicon.trie import Trie, TrieNode\n",
    "from wordlexicon.wordlexicon import GetLexiconSize, return_wordID, lexTrie"
   ]
  },
  {
   "cell_type": "code",
   "execution_count": 4,
   "id": "8333a5b7-1093-4839-9f35-c3b4c0432e2d",
   "metadata": {},
   "outputs": [],
   "source": [
    "total_list = lexTrie.get_all_words()"
   ]
  },
  {
   "cell_type": "code",
   "execution_count": 11,
   "id": "9fac9764-21c3-45c9-b3d9-15c7326833c5",
   "metadata": {},
   "outputs": [
    {
     "data": {
      "text/plain": [
       "{'t': <wordlexicon.trie.TrieNode at 0x7f51baf89210>,\n",
       " 'a': <wordlexicon.trie.TrieNode at 0x7f51b6f82fe0>,\n",
       " 'm': <wordlexicon.trie.TrieNode at 0x7f51b28069e0>,\n",
       " 'd': <wordlexicon.trie.TrieNode at 0x7f51ae312d40>,\n",
       " 'n': <wordlexicon.trie.TrieNode at 0x7f51aac1d900>,\n",
       " 'w': <wordlexicon.trie.TrieNode at 0x7f51a861b040>,\n",
       " 'y': <wordlexicon.trie.TrieNode at 0x7f51a6278d00>,\n",
       " 'h': <wordlexicon.trie.TrieNode at 0x7f51a5ca73a0>,\n",
       " 'f': <wordlexicon.trie.TrieNode at 0x7f51a2e58ca0>,\n",
       " 'o': <wordlexicon.trie.TrieNode at 0x7f51ad640220>,\n",
       " 'b': <wordlexicon.trie.TrieNode at 0x7f519cf4cca0>,\n",
       " 's': <wordlexicon.trie.TrieNode at 0x7f5198e4e680>,\n",
       " 'v': <wordlexicon.trie.TrieNode at 0x7f5191c47280>,\n",
       " 'u': <wordlexicon.trie.TrieNode at 0x7f5190a481c0>,\n",
       " 'i': <wordlexicon.trie.TrieNode at 0x7f518f37da80>,\n",
       " 'c': <wordlexicon.trie.TrieNode at 0x7f518d8e53c0>,\n",
       " 'l': <wordlexicon.trie.TrieNode at 0x7f5187c6c9a0>,\n",
       " 'r': <wordlexicon.trie.TrieNode at 0x7f5185196f80>,\n",
       " 'j': <wordlexicon.trie.TrieNode at 0x7f518038c7c0>,\n",
       " 'e': <wordlexicon.trie.TrieNode at 0x7f517f4e1060>,\n",
       " 'g': <wordlexicon.trie.TrieNode at 0x7f517cef1600>,\n",
       " 'p': <wordlexicon.trie.TrieNode at 0x7f5179bcdc60>,\n",
       " 'k': <wordlexicon.trie.TrieNode at 0x7f5174e74ca0>,\n",
       " 'q': <wordlexicon.trie.TrieNode at 0x7f5173862f80>,\n",
       " 'z': <wordlexicon.trie.TrieNode at 0x7f517354fac0>,\n",
       " '8': <wordlexicon.trie.TrieNode at 0x7f5172edd720>,\n",
       " 'x': <wordlexicon.trie.TrieNode at 0x7f5172ede7a0>,\n",
       " '5': <wordlexicon.trie.TrieNode at 0x7f5172e3c340>,\n",
       " '4': <wordlexicon.trie.TrieNode at 0x7f5172e3e4a0>,\n",
       " '2': <wordlexicon.trie.TrieNode at 0x7f5172c542e0>,\n",
       " '1': <wordlexicon.trie.TrieNode at 0x7f5172c70700>,\n",
       " '6': <wordlexicon.trie.TrieNode at 0x7f5172ca2f20>,\n",
       " '3': <wordlexicon.trie.TrieNode at 0x7f5172cc00a0>,\n",
       " '7': <wordlexicon.trie.TrieNode at 0x7f5172cc2aa0>,\n",
       " '9': <wordlexicon.trie.TrieNode at 0x7f5172cc3460>,\n",
       " '.': <wordlexicon.trie.TrieNode at 0x7f5172cd8040>,\n",
       " \"'\": <wordlexicon.trie.TrieNode at 0x7f5172cd9960>,\n",
       " '0': <wordlexicon.trie.TrieNode at 0x7f5172cda3e0>,\n",
       " 'é': <wordlexicon.trie.TrieNode at 0x7f5172cda440>,\n",
       " 'ú': <wordlexicon.trie.TrieNode at 0x7f5172d0ba00>,\n",
       " 'á': <wordlexicon.trie.TrieNode at 0x7f5172d24880>,\n",
       " 'í': <wordlexicon.trie.TrieNode at 0x7f5172d3c160>,\n",
       " 'ñ': <wordlexicon.trie.TrieNode at 0x7f5172d3cc40>,\n",
       " 'ö': <wordlexicon.trie.TrieNode at 0x7f5172d3d240>,\n",
       " 'à': <wordlexicon.trie.TrieNode at 0x7f5172b553c0>,\n",
       " 'ü': <wordlexicon.trie.TrieNode at 0x7f5172b55420>,\n",
       " 'ó': <wordlexicon.trie.TrieNode at 0x7f5172b572e0>,\n",
       " 'ø': <wordlexicon.trie.TrieNode at 0x7f5172b57ca0>,\n",
       " 'ﬁ': <wordlexicon.trie.TrieNode at 0x7f5172b6d7e0>,\n",
       " 'ー': <wordlexicon.trie.TrieNode at 0x7f5172b6e6e0>,\n",
       " 'č': <wordlexicon.trie.TrieNode at 0x7f5172b6e8c0>,\n",
       " 'ツ': <wordlexicon.trie.TrieNode at 0x7f5172b88040>,\n",
       " 'μ': <wordlexicon.trie.TrieNode at 0x7f5172b880a0>,\n",
       " 'å': <wordlexicon.trie.TrieNode at 0x7f5172b881c0>,\n",
       " 'т': <wordlexicon.trie.TrieNode at 0x7f5172b89cc0>,\n",
       " 'ụ': <wordlexicon.trie.TrieNode at 0x7f5172b8a200>,\n",
       " 'д': <wordlexicon.trie.TrieNode at 0x7f5172b8a560>,\n",
       " 'м': <wordlexicon.trie.TrieNode at 0x7f5172b8a7a0>,\n",
       " 'ẹ': <wordlexicon.trie.TrieNode at 0x7f5172b8b220>,\n",
       " 'º': <wordlexicon.trie.TrieNode at 0x7f5172b8b460>,\n",
       " 'î': <wordlexicon.trie.TrieNode at 0x7f5172b8b520>,\n",
       " 'о': <wordlexicon.trie.TrieNode at 0x7f5172ba03a0>,\n",
       " 'š': <wordlexicon.trie.TrieNode at 0x7f5172ba0700>,\n",
       " 'н': <wordlexicon.trie.TrieNode at 0x7f5172bb8820>,\n",
       " 'þ': <wordlexicon.trie.TrieNode at 0x7f5172bb8b20>,\n",
       " 'ç': <wordlexicon.trie.TrieNode at 0x7f5172bb9720>,\n",
       " 'ä': <wordlexicon.trie.TrieNode at 0x7f5172bbb9a0>,\n",
       " 'ò': <wordlexicon.trie.TrieNode at 0x7f5172bd8940>,\n",
       " 'ş': <wordlexicon.trie.TrieNode at 0x7f5172bd9060>,\n",
       " 'ε': <wordlexicon.trie.TrieNode at 0x7f5172bda140>,\n",
       " 'æ': <wordlexicon.trie.TrieNode at 0x7f5172bda1a0>,\n",
       " 'đ': <wordlexicon.trie.TrieNode at 0x7f5172bdac20>,\n",
       " 'ć': <wordlexicon.trie.TrieNode at 0x7f5172bdb760>,\n",
       " 'ō': <wordlexicon.trie.TrieNode at 0x7f5172bdbac0>,\n",
       " 'ł': <wordlexicon.trie.TrieNode at 0x7f5172bf0fa0>,\n",
       " 'ق': <wordlexicon.trie.TrieNode at 0x7f5172bf1840>,\n",
       " 'ṭ': <wordlexicon.trie.TrieNode at 0x7f5172bf1960>,\n",
       " 'ā': <wordlexicon.trie.TrieNode at 0x7f5172bf1a20>,\n",
       " 'ʻ': <wordlexicon.trie.TrieNode at 0x7f5172bf2020>,\n",
       " 'β': <wordlexicon.trie.TrieNode at 0x7f5172bf27a0>,\n",
       " 'κ': <wordlexicon.trie.TrieNode at 0x7f5172bf2f20>,\n",
       " 'π': <wordlexicon.trie.TrieNode at 0x7f5172bf31c0>,\n",
       " 'â': <wordlexicon.trie.TrieNode at 0x7f5172bf36a0>,\n",
       " 'ś': <wordlexicon.trie.TrieNode at 0x7f5172bf3dc0>,\n",
       " 'ì': <wordlexicon.trie.TrieNode at 0x7f5172c0d0c0>,\n",
       " 'è': <wordlexicon.trie.TrieNode at 0x7f5172c0d420>,\n",
       " 'ù': <wordlexicon.trie.TrieNode at 0x7f5172c0d900>,\n",
       " 'œ': <wordlexicon.trie.TrieNode at 0x7f5172c0dae0>,\n",
       " 'п': <wordlexicon.trie.TrieNode at 0x7f5172c0dc00>,\n",
       " 'ê': <wordlexicon.trie.TrieNode at 0x7f5172c0e620>,\n",
       " 'ž': <wordlexicon.trie.TrieNode at 0x7f5172c0e9e0>,\n",
       " 'к': <wordlexicon.trie.TrieNode at 0x7f5172c0f640>,\n",
       " 'ї': <wordlexicon.trie.TrieNode at 0x7f5172c0fca0>,\n",
       " 'в': <wordlexicon.trie.TrieNode at 0x7f5172c0fd00>,\n",
       " 'ț': <wordlexicon.trie.TrieNode at 0x7f5172c0fee0>,\n",
       " 'ș': <wordlexicon.trie.TrieNode at 0x7f5172c282e0>,\n",
       " 'ż': <wordlexicon.trie.TrieNode at 0x7f5172c28a00>,\n",
       " 'µ': <wordlexicon.trie.TrieNode at 0x7f5172c293c0>,\n",
       " 'ß': <wordlexicon.trie.TrieNode at 0x7f5172c29780>,\n",
       " 'б': <wordlexicon.trie.TrieNode at 0x7f5172c29900>,\n",
       " 'ḥ': <wordlexicon.trie.TrieNode at 0x7f5172c29c60>,\n",
       " '蓝': <wordlexicon.trie.TrieNode at 0x7f5172c29fc0>,\n",
       " '团': <wordlexicon.trie.TrieNode at 0x7f5172c2a020>,\n",
       " '方': <wordlexicon.trie.TrieNode at 0x7f5172c2a0e0>,\n",
       " 'с': <wordlexicon.trie.TrieNode at 0x7f5172c2a1a0>,\n",
       " 'ã': <wordlexicon.trie.TrieNode at 0x7f5172c2abc0>,\n",
       " 'р': <wordlexicon.trie.TrieNode at 0x7f5172c2ae00>,\n",
       " '渡': <wordlexicon.trie.TrieNode at 0x7f5172c2b6a0>,\n",
       " '摆': <wordlexicon.trie.TrieNode at 0x7f5172c2b820>,\n",
       " '躺': <wordlexicon.trie.TrieNode at 0x7f5172c2b8e0>,\n",
       " '破': <wordlexicon.trie.TrieNode at 0x7f5172c2b9a0>,\n",
       " '死': <wordlexicon.trie.TrieNode at 0x7f5172c2bb20>,\n",
       " '万': <wordlexicon.trie.TrieNode at 0x7f5172c2bdc0>,\n",
       " 'ꉺ': <wordlexicon.trie.TrieNode at 0x7f5172c2bee0>,\n",
       " 'ф': <wordlexicon.trie.TrieNode at 0x7f5172c40040>,\n",
       " 'а': <wordlexicon.trie.TrieNode at 0x7f5172c40460>,\n",
       " 'τ': <wordlexicon.trie.TrieNode at 0x7f5172c406a0>,\n",
       " 'ﬂ': <wordlexicon.trie.TrieNode at 0x7f5172c40a00>,\n",
       " 'δ': <wordlexicon.trie.TrieNode at 0x7f5172c40e20>,\n",
       " 'ë': <wordlexicon.trie.TrieNode at 0x7f5172c41360>,\n",
       " 'ь': <wordlexicon.trie.TrieNode at 0x7f5172c414e0>,\n",
       " 'ľ': <wordlexicon.trie.TrieNode at 0x7f5172c41540>,\n",
       " 'ζ': <wordlexicon.trie.TrieNode at 0x7f5172c417e0>,\n",
       " 'ÿ': <wordlexicon.trie.TrieNode at 0x7f5172c41a20>,\n",
       " 'і': <wordlexicon.trie.TrieNode at 0x7f5172c41c60>,\n",
       " 'ṣ': <wordlexicon.trie.TrieNode at 0x7f5172c41d20>,\n",
       " '漫': <wordlexicon.trie.TrieNode at 0x7f5172c41ea0>,\n",
       " '画': <wordlexicon.trie.TrieNode at 0x7f5172c41f00>,\n",
       " 'ď': <wordlexicon.trie.TrieNode at 0x7f5172c41f60>,\n",
       " 'ا': <wordlexicon.trie.TrieNode at 0x7f5172c422c0>,\n",
       " 'ي': <wordlexicon.trie.TrieNode at 0x7f5172c423e0>,\n",
       " 'е': <wordlexicon.trie.TrieNode at 0x7f5172c42560>,\n",
       " '中': <wordlexicon.trie.TrieNode at 0x7f5172c42740>,\n",
       " '美': <wordlexicon.trie.TrieNode at 0x7f5172a5c160>,\n",
       " '华': <wordlexicon.trie.TrieNode at 0x7f5172a5cca0>,\n",
       " '不': <wordlexicon.trie.TrieNode at 0x7f5172a5d240>,\n",
       " '谁': <wordlexicon.trie.TrieNode at 0x7f5172a5d6c0>,\n",
       " '谷': <wordlexicon.trie.TrieNode at 0x7f5172a5dd80>,\n",
       " '丰': <wordlexicon.trie.TrieNode at 0x7f5172a5e380>,\n",
       " '今': <wordlexicon.trie.TrieNode at 0x7f5172a5e860>,\n",
       " '如': <wordlexicon.trie.TrieNode at 0x7f5172a5ebc0>,\n",
       " '上': <wordlexicon.trie.TrieNode at 0x7f5172a5f880>,\n",
       " '当': <wordlexicon.trie.TrieNode at 0x7f5172a7c520>,\n",
       " '防': <wordlexicon.trie.TrieNode at 0x7f5172a7ce80>,\n",
       " '从': <wordlexicon.trie.TrieNode at 0x7f5172a7d7e0>,\n",
       " '那': <wordlexicon.trie.TrieNode at 0x7f5172a7df00>,\n",
       " '又': <wordlexicon.trie.TrieNode at 0x7f5172a7e2c0>,\n",
       " '人': <wordlexicon.trie.TrieNode at 0x7f5172a7eb60>,\n",
       " '告': <wordlexicon.trie.TrieNode at 0x7f5172a7efe0>,\n",
       " '罗': <wordlexicon.trie.TrieNode at 0x7f5172a7f6a0>,\n",
       " '有': <wordlexicon.trie.TrieNode at 0x7f5172a7fdc0>,\n",
       " '哈': <wordlexicon.trie.TrieNode at 0x7f5172a984c0>,\n",
       " '佩': <wordlexicon.trie.TrieNode at 0x7f5172a98940>,\n",
       " '为': <wordlexicon.trie.TrieNode at 0x7f5172a99000>,\n",
       " '超': <wordlexicon.trie.TrieNode at 0x7f5172a994e0>,\n",
       " 'ė': <wordlexicon.trie.TrieNode at 0x7f5172a99c60>,\n",
       " '樹': <wordlexicon.trie.TrieNode at 0x7f5172a99e40>,\n",
       " 'ï': <wordlexicon.trie.TrieNode at 0x7f5172a99ea0>,\n",
       " 'ʔ': <wordlexicon.trie.TrieNode at 0x7f5172a99f00>,\n",
       " 'α': <wordlexicon.trie.TrieNode at 0x7f5172a9a200>}"
      ]
     },
     "execution_count": 11,
     "metadata": {},
     "output_type": "execute_result"
    }
   ],
   "source": [
    "lexTrie.root.children"
   ]
  },
  {
   "cell_type": "code",
   "execution_count": 13,
   "id": "daa6b894-34b5-4cee-bd3f-33f4448d1f18",
   "metadata": {},
   "outputs": [
    {
     "data": {
      "text/plain": [
       "[('appmonitored', 240956),\n",
       " ('appdictated', 240956),\n",
       " ('appy', 240956),\n",
       " ('appétit', 240956),\n",
       " ('apphappy', 240956),\n",
       " ('appharvest', 259642),\n",
       " ('appplicator', 285030),\n",
       " ('apa', 179791),\n",
       " ('apatosaur', 8329),\n",
       " ('apatosaurus', 119484),\n",
       " ('apatosaurus_excelsus', 96972),\n",
       " ('apatow', 151119),\n",
       " ('apatowproduced', 240956),\n",
       " ('apatetic_coloration', 17849),\n",
       " ('apatura', 127874),\n",
       " ('apatura_iris', 66296),\n",
       " ('apathy', 74796),\n",
       " ('apathetic', 122350),\n",
       " ('apathetically', 133030),\n",
       " ('apatite', 90575),\n",
       " ('apatchenko', 240956),\n",
       " ('apata', 240956),\n",
       " ('apalachicola', 109645),\n",
       " ('apalachicola_rosemary', 64432),\n",
       " ('apalachicola_river', 138213),\n",
       " ('apac', 199835),\n",
       " ('apache', 97046),\n",
       " ('apache_dance', 68563),\n",
       " ('apache_devil_dance', 92366),\n",
       " ('apace', 125428),\n",
       " ('apact', 240956),\n",
       " ('apar', 120413),\n",
       " ('apart', 90536),\n",
       " ('apartment', 138440),\n",
       " ('apartment_house', 101174),\n",
       " ('apartment_building', 113410),\n",
       " ('apartmentfriendly', 184392),\n",
       " ('apartmentsharing', 204039),\n",
       " ('apartmentshouses', 226289),\n",
       " ('apartmentstyle', 240956),\n",
       " ('apartmentsrooms', 273221),\n",
       " ('apartmentdwellers', 206425),\n",
       " ('apartmentdwelling', 240956),\n",
       " ('apartmentdestroying', 261124),\n",
       " ('apartmentcumart', 240956),\n",
       " ('apartmentbound', 240956),\n",
       " ('apartmentbuildingfire', 264666),\n",
       " ('apartmenthunters', 240956),\n",
       " ('apartmenthouse', 270326),\n",
       " ('apartheid', 130723),\n",
       " ('apartheidera', 181264),\n",
       " ('apartheidstyle', 240956),\n",
       " ('apartheidlike', 259048),\n",
       " ('aparthed', 224419),\n",
       " ('aparthotel', 240956),\n",
       " ('aparthotels', 240956),\n",
       " ('aparttogether', 171538),\n",
       " ('apartness', 240956),\n",
       " ('apartadó', 240956),\n",
       " ('apartamentos', 240956),\n",
       " ('apareció', 155270),\n",
       " ('aparecida', 219811),\n",
       " ('aparece', 286774),\n",
       " ('aparecer', 294800),\n",
       " ('aparentemente', 168640),\n",
       " ('aparna', 163923),\n",
       " ('aparima', 240956),\n",
       " ('aparicio', 240956),\n",
       " ('apariencia', 288679),\n",
       " ('apariagraha', 291063),\n",
       " ('aparadh', 240956),\n",
       " ('aparajita', 240956),\n",
       " ('aparato', 291667),\n",
       " ('aparo', 240956),\n",
       " ('apanage', 98800),\n",
       " ('apanasenko', 240956),\n",
       " ('apantenco', 236304),\n",
       " ('apadana', 104164),\n",
       " ('apai', 203475),\n",
       " ('apaics', 245956),\n",
       " ('apagón', 220134),\n",
       " ('apas', 240956),\n",
       " ('apassioni', 222525),\n",
       " ('apash', 240956),\n",
       " ('apay', 274404),\n",
       " ('apayauq', 240956),\n",
       " ('apausupo', 240956),\n",
       " ('apax', 240956),\n",
       " ('apap', 279941),\n",
       " ('api', 152472),\n",
       " ('apivorous', 13177),\n",
       " ('apium', 44232),\n",
       " ('apium_graveolens', 30824),\n",
       " ('apium_graveolens_dulce', 14494),\n",
       " ('apium_graveolens_rapaceum', 136834),\n",
       " ('apiculture', 22402),\n",
       " ('apicultural', 25858),\n",
       " ('apiculturist', 110850),\n",
       " ('apiculate', 61823),\n",
       " ('apical', 135258),\n",
       " ('apical_placentation', 60347),\n",
       " ('apichatpong', 240956),\n",
       " ('apice', 240956),\n",
       " ('apicella', 240956),\n",
       " ('apicture', 240956),\n",
       " ('apid', 200889),\n",
       " ('apidae', 29963),\n",
       " ('apido', 240956),\n",
       " ('apidura', 285177),\n",
       " ('apiece', 31774),\n",
       " ('apis', 41447),\n",
       " ('apish', 32323),\n",
       " ('apishamore', 48527),\n",
       " ('apis_mellifera', 43705),\n",
       " ('apis_mellifera_adansonii', 90400),\n",
       " ('apis_mellifera_scutellata', 125277),\n",
       " ('apia', 146275),\n",
       " ('apiaceae', 59703),\n",
       " ('apiarian', 81143),\n",
       " ('apiarist', 88059),\n",
       " ('apiary', 95674),\n",
       " ('apian', 95492),\n",
       " ('apiavote', 200948),\n",
       " ('apiate', 240956),\n",
       " ('apio', 294877),\n",
       " ('apios', 145408),\n",
       " ('apios_tuberosa', 67565),\n",
       " ('apios_americana', 78312),\n",
       " ('apioneering', 211380),\n",
       " ('apit', 173932),\n",
       " ('apib', 240956),\n",
       " ('apibéricos', 240956),\n",
       " ('apibased', 269055),\n",
       " ('apinelu', 240956),\n",
       " ('apint', 298857),\n",
       " ('apii', 240956),\n",
       " ('apixaban', 240956),\n",
       " ('apilot', 300812),\n",
       " ('aps', 162999),\n",
       " ('apsu', 19003),\n",
       " ('apsupportive', 164772),\n",
       " ('apsis', 42043),\n",
       " ('apsidal', 105032),\n",
       " ('apse', 111308),\n",
       " ('apsvirginia', 150661),\n",
       " ('apsara', 240956),\n",
       " ('apsaras', 183192),\n",
       " ('apsana', 240956),\n",
       " ('apsáalooke', 205347),\n",
       " ('apso', 240956),\n",
       " ('apsley', 240956),\n",
       " ('apr', 29289),\n",
       " ('apraxia', 25636),\n",
       " ('apraxic', 86471),\n",
       " ('apractic', 33165),\n",
       " ('aprahamian', 240956),\n",
       " ('aprajita', 273126),\n",
       " ('april', 61593),\n",
       " ('april_14', 34435),\n",
       " ('april_fool', 110217),\n",
       " (\"april_fools'\", 113229),\n",
       " (\"april_fools'_day\", 77312),\n",
       " ('apriljune', 158738),\n",
       " ('aprildecember', 196052),\n",
       " ('aprilwas', 201690),\n",
       " ('apriltojune', 215388),\n",
       " ('apriltoseptember', 240956),\n",
       " ('aprilsept', 240956),\n",
       " ('aprilseptember', 240956),\n",
       " ('aprilmay', 240956),\n",
       " ('aprilaugust', 240956),\n",
       " ('aprilas', 281364),\n",
       " ('aprile', 240956),\n",
       " ('aprilearly', 240956),\n",
       " ('apriloctober', 240956),\n",
       " ('aprillike', 240956),\n",
       " ('aprilia', 240956),\n",
       " ('aprilflowering', 269236),\n",
       " ('aprilhe', 281599),\n",
       " ('apricot', 126590),\n",
       " ('apricot_sauce', 80897),\n",
       " ('apricot_bar', 86613),\n",
       " ('apricot_tree', 121715),\n",
       " ('apricotorange', 240956),\n",
       " ('apricothued', 240956),\n",
       " ('apricotcoloured', 240956),\n",
       " ('apricotcolored', 256721),\n",
       " ('apricity', 240956),\n",
       " ('aprica', 240956),\n",
       " ('apriamova', 240956),\n",
       " ('apriscatole', 240956),\n",
       " ('apres', 210082),\n",
       " ('apresoline', 79422),\n",
       " ('apresures', 169670),\n",
       " ('apresski', 233848),\n",
       " ('apreza', 191254),\n",
       " ('aprehensión', 212984),\n",
       " ('aprehended', 247406),\n",
       " ('apretude', 240956),\n",
       " ('apremont', 255286),\n",
       " ('aprendido', 286695),\n",
       " ('apropos', 79913),\n",
       " ('apron', 131187),\n",
       " ('apron_string', 94723),\n",
       " ('apronce', 221789),\n",
       " ('apronclad', 269494),\n",
       " ('aproned', 240205),\n",
       " ('apronload', 240956),\n",
       " ('apronskirt', 240956),\n",
       " ('apronstrings', 240956),\n",
       " ('aprobó', 156528),\n",
       " ('aprobada', 156549),\n",
       " ('aprobado', 156595),\n",
       " ('aprobación', 157615),\n",
       " ('aprox', 169362),\n",
       " ('aproximadamente', 284610),\n",
       " ('aprofessor', 240956),\n",
       " ('aprovechó', 259548),\n",
       " ('aprovecha', 288638),\n",
       " ('aprovechar', 284702),\n",
       " ('aprueba', 168636),\n",
       " ('aprueban', 161485),\n",
       " ('apruebe', 167316),\n",
       " ('apruebo', 240956),\n",
       " ('après', 215835),\n",
       " ('aprèsswim', 192384),\n",
       " ('aprèsski', 229936),\n",
       " ('aprèsskiing', 230491),\n",
       " ('aprn', 247448),\n",
       " ('apc', 59666),\n",
       " ('apcia', 189075),\n",
       " ('apco', 240956),\n",
       " ('apcustomersupport', 263262),\n",
       " ('apy', 178207),\n",
       " ('apyretic_tetanus', 72892),\n",
       " ('apyterewa', 240956),\n",
       " ('apn', 240956),\n",
       " ('apneic', 75374),\n",
       " ('apnea', 94599),\n",
       " ('apnewscom', 285552),\n",
       " ('apnewscomhubnfl', 262173),\n",
       " ('apnewscomhubncaamensbracket', 277932),\n",
       " ('apnewscomhubpro', 262174),\n",
       " ('apnewscomhubphilanthropy', 267770),\n",
       " ('apnewscomhubpatricklyoya', 281278),\n",
       " ('apnewscomhubcoronaviruspandemic', 262807),\n",
       " ('apnewscomhubcoronavirusvaccine', 270833),\n",
       " ('apnewscomhubcollegebasketball', 276815),\n",
       " ('apnewscomhubclimate', 269287),\n",
       " ('apnewscomhubclimateandenvironment', 292576),\n",
       " ('apnewscomhubcapitolsiege', 295483),\n",
       " ('apnewscomhubdeathofgeorgefloyd', 263150),\n",
       " ('apnewscomhubdeathofdauntewright', 270909),\n",
       " ('apnewscomhubrobertanderson', 265350),\n",
       " ('apnewscomhubrussiaukraine', 268058),\n",
       " ('apnewscomhubtechnology', 265413),\n",
       " ('apnewscomhubtennis', 292736),\n",
       " ('apnewscomhubtitleix', 290709),\n",
       " ('apnewscomhubbreonnataylor', 268226),\n",
       " ('apnewscomhubbrittneygriner', 293646),\n",
       " ('apnewscomhubborisjohnson', 294581),\n",
       " ('apnewscomhubbusiness', 295496),\n",
       " ('apnewscomhublaquanmcdonald', 269066),\n",
       " ('apnewscomhubastroworldfestivaldeaths', 269314),\n",
       " ('apnewscomhubamirlocke', 270948),\n",
       " ('apnewscomhubacademyawards', 275848),\n",
       " ('apnewscomhubabortion', 292099),\n",
       " ('apnewscomhubalexjones', 299372),\n",
       " ('apnewscomhubwintergames', 269937),\n",
       " ('apnewscomhubwimbledon', 292735),\n",
       " ('apnewscomhubwhitmerkidnapplottrial', 278869),\n",
       " ('apnewscomhubqueenelizabethii', 271793),\n",
       " ('apnewscomhubmarchmadness', 275974),\n",
       " ('apnewscomhubmigration', 276072),\n",
       " ('apnewscomhubmidtermelections', 283034),\n",
       " ('apnewscomhubfrenchelection', 280590),\n",
       " ('apnewscomhubschoolshootings', 287020),\n",
       " ('apnewscomhubsrilanka', 295301),\n",
       " ('apnewscomhubuvaldeschoolshooting', 287115),\n",
       " ('apnewscomhubgsummit', 292622),\n",
       " ('apnewscomhubenvironment', 293759),\n",
       " ('apnewscomhubhiphopandrap', 298535),\n",
       " ('apnewscomapfentertainment', 267052),\n",
       " ('apnewscomarticleabortionussupremecourtbusinesshealthraceandethnicityfffcceefdffea',\n",
       "  282258),\n",
       " ('apnewscomclimateandenvironment', 300468),\n",
       " ('apnewsroom', 271907),\n",
       " ('apnewshubrussiaukraine', 288171),\n",
       " ('apnoeic', 127075),\n",
       " ('apnoea', 240956),\n",
       " ('apnoeahypopnoea', 240956),\n",
       " ('apnoeas', 240956),\n",
       " ('apnorc', 151996),\n",
       " ('apnorcusafacts', 267170),\n",
       " ('apna', 240956),\n",
       " ('apu', 162398),\n",
       " ('apus', 95619),\n",
       " ('apus_apus', 88677),\n",
       " ('apushing', 240956),\n",
       " ('apulia', 127164),\n",
       " ('apulian', 232078),\n",
       " ('apuldram', 286411),\n",
       " ('apunte', 159250),\n",
       " ('apunta', 284669),\n",
       " ('apuntalar', 257906),\n",
       " ('apunditing', 240956),\n",
       " ('apublike', 240956),\n",
       " ('apurimac', 240956),\n",
       " ('apurte', 240956),\n",
       " ('apurímac', 240956),\n",
       " ('apurados', 284662),\n",
       " ('apui', 240956),\n",
       " ('apud', 240956),\n",
       " ('apuje', 290718),\n",
       " ('apga', 244650),\n",
       " ('apgar', 234456),\n",
       " ('apgar_score', 136765),\n",
       " ('apb', 147518),\n",
       " ('apba', 240956),\n",
       " ('apm', 240956),\n",
       " ('apma', 184720),\n",
       " ('apmetrics', 240956),\n",
       " ('apd', 193438),\n",
       " ('apda', 240956),\n",
       " ('apdigitalsales', 281421),\n",
       " ('apf', 240956),\n",
       " ('apfa', 224983),\n",
       " ('apfel', 232709),\n",
       " ('apfelkuchen', 240956),\n",
       " ('apfreely', 240956),\n",
       " ('apkarian', 240956),\n",
       " ('apéro', 240956),\n",
       " ('apéritif', 240956),\n",
       " ('apéritifs', 240956),\n",
       " ('apvma', 240956),\n",
       " ('ax', 143818),\n",
       " ('axseed', 2373),\n",
       " ('axial', 10454),\n",
       " ('axial_skeleton', 10748),\n",
       " ('axial_motion', 11550),\n",
       " ('axial_muscle', 28813),\n",
       " ('axial_rotation', 17507),\n",
       " ('axially', 87292),\n",
       " ('axiald', 240956),\n",
       " ('axil', 137991),\n",
       " ('axilla', 18621),\n",
       " ('axillary', 15584),\n",
       " ('axillary_fossa', 44959),\n",
       " ('axillary_cavity', 54271),\n",
       " ('axillary_node', 116070),\n",
       " ('axillary_vein', 125755),\n",
       " ('axillary_artery', 136671),\n",
       " ('axile', 63529),\n",
       " ('axile_placentation', 21007),\n",
       " ('axiom', 83354),\n",
       " ('axioma', 218272),\n",
       " ('axiomatic', 31165),\n",
       " ('axiomatical', 72724),\n",
       " ('axiomatically', 114182),\n",
       " ('axiological', 59683),\n",
       " ('axiology', 98868),\n",
       " ('axios', 147890),\n",
       " ('axiosipsos', 174077),\n",
       " ('axiosipsostelemundo', 147892),\n",
       " ('axioscom', 151741),\n",
       " ('axioss', 170015),\n",
       " ('axiosmomentive', 240956),\n",
       " ('axion', 228278),\n",
       " ('axions', 240956),\n",
       " ('axis', 50787),\n",
       " ('axis_vertebra', 82468),\n",
       " ('axis_of_rotation', 102225),\n",
       " ('axie', 193895),\n",
       " ('axies', 193898),\n",
       " ('axii', 240956),\n",
       " ('axid', 240956),\n",
       " ('axe', 11989),\n",
       " ('axe_handle', 18323),\n",
       " ('axe_head', 135411),\n",
       " ('axen', 297385),\n",
       " ('axenic', 42110),\n",
       " ('axerophthol', 77667),\n",
       " ('axel', 167063),\n",
       " ('axelrod', 152303),\n",
       " ('axels', 240956),\n",
       " ('axelsson', 240956),\n",
       " ('axelburger', 255593),\n",
       " ('axegrinding', 203053),\n",
       " ('axehead', 240956),\n",
       " ('axewielding', 240956),\n",
       " ('axeadze', 240956),\n",
       " ('axeattack', 240956),\n",
       " ('axethrowing', 240956),\n",
       " ('axeblow', 240956),\n",
       " ('axemurder', 240956),\n",
       " ('axemurderer', 251722),\n",
       " ('axemen', 240956),\n",
       " ('axeswinging', 240956),\n",
       " ('axl', 240956),\n",
       " ('axle', 74184),\n",
       " ('axle_grease', 22897),\n",
       " ('axle_bar', 131403),\n",
       " ('axletree', 87158),\n",
       " ('axlr', 175373),\n",
       " ('axlike', 222374),\n",
       " ('axon', 97060),\n",
       " ('axonal', 27356),\n",
       " ('axone', 51395),\n",
       " ('axolemma', 48236),\n",
       " ('axolotl', 112772),\n",
       " ('axos', 189920),\n",
       " ('axor', 240956),\n",
       " ('ax_handle', 50273),\n",
       " ('ax_head', 73942),\n",
       " ('axne', 158008),\n",
       " ('axnes', 261128),\n",
       " ('axp', 204424),\n",
       " ('axa', 223285),\n",
       " ('axar', 240956),\n",
       " ('axarquía', 240956),\n",
       " ('axw', 231527),\n",
       " ('axwell', 240956),\n",
       " ('axcis', 240956),\n",
       " ('axcella', 240956),\n",
       " ('axb', 240956),\n",
       " ('axminster', 240956),\n",
       " ('axum', 240956),\n",
       " ('axford', 240956),\n",
       " ('axthelm', 240956),\n",
       " ('axtell', 244384),\n",
       " ('axton', 271853),\n",
       " ('ak', 94958),\n",
       " ('akhenaten', 3029),\n",
       " ('akhenaton', 30044),\n",
       " ('akha', 90678),\n",
       " ('akhalgori', 192665),\n",
       " ('akhand', 211296),\n",
       " ('akhannouch', 240956),\n",
       " ('akhat', 240956),\n",
       " ('akhavan', 240956),\n",
       " ('akhbar', 240956),\n",
       " ('akhbari', 131055),\n",
       " ('akhi', 240956),\n",
       " ('akhil', 240956),\n",
       " ('akhilesh', 190077),\n",
       " ('akhila', 272931),\n",
       " ('akhmetov', 197518),\n",
       " ('akhmat', 229785),\n",
       " ('akhmatov', 198299),\n",
       " ('akhmatova', 240956),\n",
       " ('akhmad', 240956),\n",
       " ('akhtar', 208608),\n",
       " ('akhtaruzzaman', 288560),\n",
       " ('akhtari', 292763),\n",
       " ('akhter', 240956),\n",
       " ('akhterkhan', 240956),\n",
       " ('akhund', 240956),\n",
       " ('akhundzada', 213332),\n",
       " ('akhunds', 240956),\n",
       " ('akhona', 240956),\n",
       " ('akhondi', 240956),\n",
       " ('akholt', 273051),\n",
       " ('akhnaten', 240956),\n",
       " ('akhror', 246494),\n",
       " ('akhshata', 278376),\n",
       " ('akhgar', 279808),\n",
       " ('akhdar', 285484),\n",
       " ('aki', 147540),\n",
       " ('akim', 149585),\n",
       " ('akimbo', 4261),\n",
       " ('akima', 274638),\n",
       " ('akimat', 174228),\n",
       " ('akimasa', 240956),\n",
       " ('akimenko', 240956),\n",
       " ('akimoto', 240956),\n",
       " ('akin', 141009),\n",
       " ('akinesis', 26620),\n",
       " ('akinesia', 109333),\n",
       " ('akinetic_epilepsy', 53724),\n",
       " ('akinfe', 255199),\n",
       " ('akinfenwa', 240956),\n",
       " ('akino', 240956),\n",
       " ('akinola', 240956),\n",
       " ('akinyi', 240956),\n",
       " ('akina', 240956),\n",
       " ('akinade', 240956),\n",
       " ('akintola', 240956),\n",
       " ('akintunde', 240956),\n",
       " ('akinmade', 240956),\n",
       " ('akinmowo', 240956),\n",
       " ('akinmoladun', 243558),\n",
       " ('akins', 240956),\n",
       " ('akinsha', 240956),\n",
       " ('akinsulire', 240956),\n",
       " ('akinnola', 240956),\n",
       " ('akinnawonu', 240956),\n",
       " ('akinnuoyeagbaje', 240956),\n",
       " ('akinjirin', 240956),\n",
       " ('akinwotu', 240956),\n",
       " ('akinbusoye', 240956),\n",
       " ('akingbola', 240956),\n",
       " ('akira', 187278),\n",
       " ('akira_kurosawa', 88451),\n",
       " ('akid', 240956),\n",
       " ('akidscocom', 161304),\n",
       " ('akil', 208555),\n",
       " ('akila', 240956),\n",
       " ('akilah', 182343),\n",
       " ('akili', 216107),\n",
       " ('akile', 240956),\n",
       " ('akiva', 200951),\n",
       " ('akiba', 211198),\n",
       " ('akit', 287743),\n",
       " ('akita', 211802),\n",
       " ('akitas', 240956),\n",
       " ('akito', 240956),\n",
       " ('akie', 214137),\n",
       " ('akisawyerr', 219926),\n",
       " ('akishino', 240956),\n",
       " ('akisser', 283071),\n",
       " ('akister', 287028),\n",
       " ('akihiro', 222639),\n",
       " ('akihito', 225553),\n",
       " ('akihiko', 240956),\n",
       " ('akihabara', 240956),\n",
       " ('akiyoshi', 240956),\n",
       " ('akiya', 240956),\n",
       " ('akiko', 240956),\n",
       " ('akikiki', 243980),\n",
       " ('akiwowo', 240956),\n",
       " ('akif', 240956),\n",
       " ('akio', 246376),\n",
       " ('akia', 273000),\n",
       " ('ake', 160001),\n",
       " ('akee', 9190),\n",
       " ('akee_tree', 24541),\n",
       " ('akeem', 184282),\n",
       " ('akeel', 234223),\n",
       " ('akeelah', 240606),\n",
       " ('aker', 240956),\n",
       " ('akeridae', 43532),\n",
       " ('akers', 198389),\n",
       " ('akersberga', 240956),\n",
       " ('akerselva', 240956),\n",
       " ('akerstrom', 273272),\n",
       " ('akeredolu', 208319),\n",
       " ('akerman', 219934),\n",
       " ('akeroyd', 240956),\n",
       " ('akerboom', 240956),\n",
       " ('akerfedt', 263827),\n",
       " ('aken', 87177),\n",
       " ('akes', 155874),\n",
       " ('akesson', 224626),\n",
       " ('akec', 286083),\n",
       " ('akech', 178532),\n",
       " ('akeal', 240956),\n",
       " ('akeam', 251838),\n",
       " ('aked', 240956),\n",
       " ('akekawat', 240956),\n",
       " ('akeke', 243981),\n",
       " ('akef', 240956),\n",
       " ('akefi', 240956),\n",
       " ('akehurst', 240956),\n",
       " ('akeim', 240956),\n",
       " ('akel', 240956),\n",
       " ('akele', 240956),\n",
       " ('akeley', 261319),\n",
       " ('akem', 269920),\n",
       " ('aku', 9716),\n",
       " ('akua', 178542),\n",
       " ('akuaba', 232366),\n",
       " ('akunjee', 223134),\n",
       " ('akunin', 240956),\n",
       " ('akufoaddo', 240956),\n",
       " ('akuch', 240956),\n",
       " ('akub', 240956),\n",
       " ('akubra', 240956),\n",
       " ('akumu', 240956),\n",
       " ('akumal', 240956),\n",
       " ('akureyri', 240956),\n",
       " ('akr', 206919),\n",
       " ('akron', 12983),\n",
       " ('akroncanton', 272417),\n",
       " ('akroyiali', 240956),\n",
       " ('akrotiri', 265451),\n",
       " ('akram', 150506),\n",
       " ('akrams', 241425),\n",
       " ('akrasia', 240956),\n",
       " ('akranes', 240956),\n",
       " ('akrini', 217899),\n",
       " ('akrikez', 240956),\n",
       " ('akris', 240956),\n",
       " ('akruti', 229947),\n",
       " ('akm', 291093),\n",
       " ('akmola', 40826),\n",
       " ('akmann', 240956),\n",
       " ('akmad', 242780),\n",
       " ('akka', 137019),\n",
       " ('akkad', 156878),\n",
       " ('akkadian', 41174),\n",
       " ('akkar', 240956),\n",
       " ('akko', 132969),\n",
       " ('akku', 240956),\n",
       " ('akkuyu', 240956),\n",
       " ('akker', 240956),\n",
       " ('akkio', 254958),\n",
       " ('aka', 149401),\n",
       " ('akar', 216644),\n",
       " ('akaryote', 50593),\n",
       " ('akaryocyte', 52912),\n",
       " ('akari', 240956),\n",
       " ('akarina', 240956),\n",
       " ('akarca', 240956),\n",
       " ('akarsh', 240956),\n",
       " ('akab', 240956),\n",
       " ('akaba', 84729),\n",
       " ('akabusi', 240956),\n",
       " ('akan', 121072),\n",
       " ('akande', 173343),\n",
       " ('akanksha', 204769),\n",
       " ('akani', 240956),\n",
       " ('akanji', 240956),\n",
       " ('akanbi', 240956),\n",
       " ('akana', 250217),\n",
       " ('akad', 151899),\n",
       " ('akademi', 265204),\n",
       " ('akademiks', 224883),\n",
       " ('akademisk', 240956),\n",
       " ('akademgorodok', 245045),\n",
       " ('akadimia', 240956),\n",
       " ('akadiri', 240956),\n",
       " ('akas', 240956),\n",
       " ('akash', 165453),\n",
       " ('akashitai', 240956),\n",
       " ('akashiwo', 240956),\n",
       " ('akashic', 258913),\n",
       " ('akasa', 300568),\n",
       " ('akasaka', 205774),\n",
       " ('akali', 173700),\n",
       " ('akala', 240956),\n",
       " ('akalas', 240956),\n",
       " ('akau', 178543),\n",
       " ('akauola', 240956),\n",
       " ('akacia', 189805),\n",
       " ('akai', 240956),\n",
       " ('akagera', 240956),\n",
       " ('akamas', 240956),\n",
       " ('akamai', 274545),\n",
       " ('akayed', 240956),\n",
       " ('akayesu', 279603),\n",
       " ('akaya', 252809),\n",
       " ('akatas', 240956),\n",
       " ('akateva', 271121),\n",
       " ('akaash', 254328),\n",
       " ('akapo', 267370),\n",
       " ('akwa', 240956),\n",
       " (\"akwa'ala\", 59150),\n",
       " ('akway', 178537),\n",
       " ('akwaeke', 240956),\n",
       " ('akwasi', 240956),\n",
       " ('akwaaba', 240956),\n",
       " ('akwafo', 240956),\n",
       " ('akwx', 225370),\n",
       " ('akwete', 240956),\n",
       " ('aksa_martyrs_brigades', 109303),\n",
       " ('aksai', 182156),\n",
       " ('aksakal', 256651),\n",
       " ('aksar', 278398),\n",
       " ('akshat', 231772),\n",
       " ('akshata', 169425),\n",
       " ('akshay', 183939),\n",
       " ('akshaya', 240956),\n",
       " ('akshar', 248455),\n",
       " ('akshardham', 299016),\n",
       " ('akstyle', 218060),\n",
       " ('akse', 240956),\n",
       " ('aksenov', 219468),\n",
       " ('aksenyia', 240956),\n",
       " ('aksentijevic', 240956),\n",
       " ('aksener', 265886),\n",
       " ('aksel', 240956),\n",
       " ('aksyonov', 228993),\n",
       " ('aksu', 240956),\n",
       " ('akvavit', 128741),\n",
       " ('aknockin', 167670),\n",
       " ('akna', 267799),\n",
       " ('aké', 172987),\n",
       " ('akqa', 177669),\n",
       " ('ako', 240956),\n",
       " ('akoya', 178455),\n",
       " ('akos', 240956),\n",
       " ('akosua', 238516),\n",
       " ('akom', 297143),\n",
       " ('akomfrah', 240870),\n",
       " ('akon', 244453),\n",
       " ('akonne', 240956),\n",
       " ('akonnor', 240956),\n",
       " ('akonwi', 240956),\n",
       " ('akoud', 240956),\n",
       " ('akoum', 240956),\n",
       " ('akoustic', 240956),\n",
       " ('akouokou', 280174),\n",
       " ('akoo', 240956),\n",
       " ('akoth', 240956),\n",
       " ('akoko', 240956),\n",
       " ('akopov', 277818),\n",
       " ('akorn', 295490),\n",
       " ('akbar', 182563),\n",
       " ('akbari', 197070),\n",
       " ('akbayan', 245105),\n",
       " ('akbulut', 213578),\n",
       " ('akboga', 240956),\n",
       " ('akc', 192053),\n",
       " ('akchin', 248184),\n",
       " ('akcay', 276079),\n",
       " ('akcan', 276089),\n",
       " ('akcept', 283968),\n",
       " ('akyroyd', 192113),\n",
       " ('akyacht', 227675),\n",
       " ('akyavaş', 240956),\n",
       " ('akylbekov', 240956),\n",
       " ('akyol', 240956),\n",
       " ('akt', 237709),\n",
       " ('akti', 240956),\n",
       " ('aktinson', 194175),\n",
       " ('aktion', 240956),\n",
       " ('aktiviteter', 240956),\n",
       " ('aktii', 240956),\n",
       " ('aktsionernoe', 218286),\n",
       " ('aktobe', 240956),\n",
       " ('akte', 240956),\n",
       " ('akter', 276269),\n",
       " ('akthar', 240956),\n",
       " ('akturk', 264389),\n",
       " ('akturkoglu', 274005),\n",
       " ('aklima', 198074),\n",
       " ('aklilu', 240956),\n",
       " ('akle', 240956),\n",
       " ('akleh', 202982),\n",
       " ('aklehs', 204357),\n",
       " ('aklen', 240956),\n",
       " ('aklan', 240956),\n",
       " ('akgun', 205767),\n",
       " ('akgraph', 240956),\n",
       " ('akp', 209005),\n",
       " ('akpo', 240956),\n",
       " ('akpoghene', 234212),\n",
       " ('akpom', 240956),\n",
       " ('akpomedaye', 285288),\n",
       " ('akpobome', 240956),\n",
       " ('akpinar', 240956),\n",
       " ('akpinarelci', 240956),\n",
       " ('akpan', 240956),\n",
       " ('akparanta', 260496),\n",
       " ('akpamagbo', 267174),\n",
       " ('akfc', 240956),\n",
       " ('akın', 240956),\n",
       " ('akdeniz', 240956),\n",
       " ('akjemal', 240956),\n",
       " ('akjol', 272527),\n",
       " ('akçay', 240956),\n",
       " ('az', 50988),\n",
       " ('azo', 110832),\n",
       " ('azonal', 3452),\n",
       " ('azonic', 67210),\n",
       " ('azot', 210671),\n",
       " ('azotaemia', 20606),\n",
       " ('azote', 52195),\n",
       " ('azotemic', 51720),\n",
       " ('azotemia', 78749),\n",
       " ('azotic', 104274),\n",
       " ('azoturia', 145723),\n",
       " ('azolla', 58849),\n",
       " ('azolla_caroliniana', 41186),\n",
       " ('azollaceae', 90751),\n",
       " ('azoic', 46745),\n",
       " ('azoimide', 79721),\n",
       " ('azoia', 298381),\n",
       " ('azo_radical', 88176),\n",
       " ('azo_dye', 96949),\n",
       " ('azo_group', 128968),\n",
       " ('azor', 240956),\n",
       " ('azores', 115966),\n",
       " ('azorean', 240956),\n",
       " ('azorian', 226783),\n",
       " ('azov', 154777),\n",
       " ('azovstal', 197207),\n",
       " ('azovstali', 282113),\n",
       " ('azovites', 240956),\n",
       " ('azovmash', 240956),\n",
       " ('azovtal', 280810),\n",
       " ('azour', 201433),\n",
       " ('azoulay', 236648),\n",
       " ('azouz', 240956),\n",
       " ('azoun', 244490),\n",
       " ('azodicarbonamide', 240956),\n",
       " ('azodyes', 262239),\n",
       " ('azoff', 240956),\n",
       " ('azostal', 282025),\n",
       " ('aza', 214431),\n",
       " ('azalea', 5840),\n",
       " ('azaleastrum', 23528),\n",
       " ('azalia', 235731),\n",
       " ('azaliya', 254039),\n",
       " ('azalaic', 240956),\n",
       " ('azalée', 240956),\n",
       " ('azad', 181071),\n",
       " ('azadi', 166533),\n",
       " ('azadirachta', 34449),\n",
       " ('azadirachta_indica', 14233),\n",
       " ('azadirachtin', 52971),\n",
       " ('azadeh', 240956),\n",
       " ('azadarmaki', 240956),\n",
       " ('azathioprine', 104432),\n",
       " ('azatbek', 238470),\n",
       " ('azattyq', 240956),\n",
       " ('azactam', 129811),\n",
       " ('azacarate', 240956),\n",
       " ('azar', 240956),\n",
       " ('azarenka', 159513),\n",
       " ('azarenak', 159518),\n",
       " ('azarov', 178991),\n",
       " ('azari', 240956),\n",
       " ('azaria', 240956),\n",
       " ('azara', 240956),\n",
       " ('azaryonok', 268827),\n",
       " ('azam', 220832),\n",
       " ('azamat', 240956),\n",
       " ('azamatov', 202825),\n",
       " ('azamgarh', 240956),\n",
       " ('azams', 240956),\n",
       " ('azaz', 240956),\n",
       " ('azazi', 280687),\n",
       " ('azazie', 204429),\n",
       " ('azab', 280686),\n",
       " ('azabu', 221400),\n",
       " ('azais', 240956),\n",
       " ('azaiez', 241157),\n",
       " ('azahar', 240956),\n",
       " ('azaylia', 262323),\n",
       " ('azakaria', 265076),\n",
       " ('azerbaijan', 11142),\n",
       " ('azerbaijani', 89272),\n",
       " ('azerbaijani_republic', 102857),\n",
       " ('azerbaijani_monetary_unit', 107823),\n",
       " ('azerbaijanborn', 174248),\n",
       " ('azerbaijantied', 241506),\n",
       " ('azerbaijaini', 240956),\n",
       " ('azerbajdzhan', 114788),\n",
       " ('azerbajdzhan_republic', 139316),\n",
       " ('azeri', 58243),\n",
       " ('azeroth', 282167),\n",
       " ('azera', 285630),\n",
       " ('azederach', 66840),\n",
       " ('azedarach', 95084),\n",
       " ('azeez', 240956),\n",
       " ('azeeza', 204011),\n",
       " ('azeem', 206472),\n",
       " ('azeen', 251003),\n",
       " ('azevedo', 217430),\n",
       " ('azelaic', 219126),\n",
       " ('azelle', 240956),\n",
       " ('azeneth', 230395),\n",
       " ('azea', 235512),\n",
       " ('azealia', 240956),\n",
       " ('azet', 240956),\n",
       " ('azets', 266881),\n",
       " ('azem', 240956),\n",
       " ('azeglio', 240956),\n",
       " ('azu', 240956),\n",
       " ('azur', 173545),\n",
       " ('azurite', 20244),\n",
       " ('azurin', 240956),\n",
       " ('azure', 29844),\n",
       " ('azure_aster', 132894),\n",
       " ('azureblue', 213573),\n",
       " ('azuree', 244860),\n",
       " ('azurepainted', 294104),\n",
       " ('azuradee', 212243),\n",
       " ('azul', 176140),\n",
       " ('azulejo', 240956),\n",
       " ('azulejos', 186512),\n",
       " ('azulik', 240956),\n",
       " ('azusa', 231907),\n",
       " ('azuse', 261926),\n",
       " ('azucena', 235633),\n",
       " ('azucaradas', 284852),\n",
       " ('azuma', 240956),\n",
       " ('azumah', 240956),\n",
       " ('azumi', 240956),\n",
       " ('azuzar', 260112),\n",
       " ('azuquita', 273937),\n",
       " ('azuébar', 290288),\n",
       " ('azygous', 125517),\n",
       " ('azygous_vein', 22700),\n",
       " ('azygos', 51752),\n",
       " ('azygos_vein', 39544),\n",
       " ('azymia', 98513),\n",
       " ('azymuth', 240956),\n",
       " ('azt', 24084),\n",
       " ('aztec', 58882),\n",
       " ('aztec_lily', 42709),\n",
       " ('aztec_marigold', 118229),\n",
       " ('azteca', 240956),\n",
       " ('aztecan', 107569),\n",
       " ('aztecthemed', 240590),\n",
       " ('aztreonam', 43846),\n",
       " ('aztv', 230862),\n",
       " ('azti', 240956),\n",
       " ('aztone', 240956),\n",
       " ('aztalan', 240956),\n",
       " ('azithromycin', 41292),\n",
       " ('azim', 240956),\n",
       " ('azimut', 249697),\n",
       " ('azimuth', 69108),\n",
       " ('azimuthal', 71252),\n",
       " ('azimeraw', 279867),\n",
       " ('azido', 96430),\n",
       " ('azido_radical', 79524),\n",
       " ('azido_group', 147011),\n",
       " ('azide', 80886),\n",
       " ('aziz', 161511),\n",
       " ('aziza', 218550),\n",
       " ('azizatunnisa', 240956),\n",
       " ('azizan', 249746),\n",
       " ('azizi', 240956),\n",
       " ('azizullah', 240956),\n",
       " ('azirbek', 174571),\n",
       " ('aziraphale', 301637),\n",
       " ('azibun', 240956),\n",
       " ('azione', 240956),\n",
       " ('azilal', 240956),\n",
       " ('azienda', 248657),\n",
       " ('azikiwe', 252993),\n",
       " ('azinger', 256206),\n",
       " ('az_zarqa', 64981),\n",
       " ('azp', 240956),\n",
       " ('azpi', 240956),\n",
       " ('azpilicueta', 155531),\n",
       " ('azpilicuetas', 269914),\n",
       " ('azpiroz', 240956),\n",
       " ('azplicueta', 262291),\n",
       " ('azplicaceuta', 271564),\n",
       " ('azfree', 162027),\n",
       " ('azfamily', 240956),\n",
       " ('azfamilycom', 289041),\n",
       " ('azmi', 173195),\n",
       " ('azmina', 240956),\n",
       " ('azmil', 240956),\n",
       " ('azmoun', 234284),\n",
       " ('azmat', 240956),\n",
       " ('azmatullah', 251762),\n",
       " ('azman', 279665),\n",
       " ('azz', 267164),\n",
       " ('azzopardi', 173718),\n",
       " ('azzour', 240956),\n",
       " ('azzouz', 240956),\n",
       " ('azzeddine', 173838),\n",
       " ('azzedine', 230451),\n",
       " ('azza', 211729),\n",
       " ('azzam', 173839),\n",
       " ('azzaline', 191339),\n",
       " ('azzazy', 191668),\n",
       " ('azzarello', 240956),\n",
       " ('azzariti', 240956),\n",
       " ('azzi', 194934),\n",
       " ('azzun', 201160),\n",
       " ('azzurra', 236437),\n",
       " ('azzurri', 240956),\n",
       " ('azzurre', 240956),\n",
       " ('azc', 179117),\n",
       " ('azca', 240956),\n",
       " ('azcarate', 201304),\n",
       " ('azcarte', 245331),\n",
       " ('azcapotzalco', 240956),\n",
       " ('azcentral', 240956),\n",
       " ('azcentralcom', 240956),\n",
       " ('azcuba', 290209),\n",
       " ('azénabor', 189822),\n",
       " ('azénaborgrembowski', 189821),\n",
       " ('azd', 240956),\n",
       " ('azdore', 199919),\n",
       " ('azdli', 240956),\n",
       " ('azdak', 240956),\n",
       " ('azhdarchidae', 206892),\n",
       " ('azhin', 228767),\n",
       " ('azhimukham', 240956),\n",
       " ('azhar', 240956),\n",
       " ('azhari', 240956),\n",
       " ('azhani', 240956),\n",
       " ('azhnyuk', 240956),\n",
       " ('azra', 240956),\n",
       " ('azrak', 210579),\n",
       " ('azrael', 240956),\n",
       " ('azrin', 254580),\n",
       " ('azsia', 212895),\n",
       " ('azvudine', 240068),\n",
       " ('azvedo', 273325),\n",
       " ('aznavour', 240956),\n",
       " ('aznar', 240956),\n",
       " ('aznarez', 240956)]"
      ]
     },
     "execution_count": 13,
     "metadata": {},
     "output_type": "execute_result"
    }
   ],
   "source": [
    "total_list[50000:51000]"
   ]
  },
  {
   "cell_type": "code",
   "execution_count": 9,
   "id": "ec18dde5-bf26-4a3d-90dd-898fa3c24948",
   "metadata": {},
   "outputs": [
    {
     "data": {
      "text/plain": [
       "92133"
      ]
     },
     "execution_count": 9,
     "metadata": {},
     "output_type": "execute_result"
    }
   ],
   "source": [
    "return_wordID(\"help\")"
   ]
  },
  {
   "cell_type": "markdown",
   "id": "e7ce261b-6309-4564-8f68-8c56f25339ba",
   "metadata": {},
   "source": [
    "## There were some errors with the trie implementation so we will be using a dictionary instead"
   ]
  },
  {
   "cell_type": "code",
   "execution_count": 21,
   "id": "02e5456c-361c-4beb-a8bb-fe450d911ae2",
   "metadata": {},
   "outputs": [],
   "source": [
    "from wordlexicon.previousimplementation import wordlexicon as oldWL\n",
    "import time\n",
    "import sys\n",
    "import string"
   ]
  },
  {
   "cell_type": "code",
   "execution_count": 22,
   "id": "99fde8a9-4b2a-4a84-be0e-67cb719f4e60",
   "metadata": {},
   "outputs": [],
   "source": [
    "lexicon_list = oldWL.lexicon_list"
   ]
  },
  {
   "cell_type": "code",
   "execution_count": 23,
   "id": "e3ea2b5e-b0a3-45c4-83ab-c31695c809ed",
   "metadata": {},
   "outputs": [
    {
     "data": {
      "text/plain": [
       "['that',\n",
       " 'an',\n",
       " 'most',\n",
       " 'don',\n",
       " 'now',\n",
       " 'with',\n",
       " 'where',\n",
       " 'yourselves',\n",
       " 'how',\n",
       " 'few',\n",
       " 'did',\n",
       " 'other',\n",
       " 'ma',\n",
       " 'than',\n",
       " 'above',\n",
       " 'be',\n",
       " 'or',\n",
       " 'haven',\n",
       " 'wouldn',\n",
       " 'am',\n",
       " 'needn',\n",
       " 'she',\n",
       " 'aren',\n",
       " 'their',\n",
       " 'through',\n",
       " 'by',\n",
       " 'y',\n",
       " \"mightn't\",\n",
       " 'these',\n",
       " 'very']"
      ]
     },
     "execution_count": 23,
     "metadata": {},
     "output_type": "execute_result"
    }
   ],
   "source": [
    "lexicon_list[:30]"
   ]
  },
  {
   "cell_type": "code",
   "execution_count": 24,
   "id": "656fa1c7-8f25-4a52-bf29-d9bbaafd35e9",
   "metadata": {},
   "outputs": [],
   "source": [
    "removed_punctuations = [word.translate(str.maketrans('', '', string.punctuation)) for word in lexicon_list]"
   ]
  },
  {
   "cell_type": "code",
   "execution_count": 25,
   "id": "a56365d7-a2a3-4063-965f-dcd6f79268f2",
   "metadata": {},
   "outputs": [],
   "source": [
    "removed_punctuations = list(set(removed_punctuations))"
   ]
  },
  {
   "cell_type": "code",
   "execution_count": 26,
   "id": "5a9ade1b-6469-45f2-abda-8390da76e8a3",
   "metadata": {},
   "outputs": [
    {
     "data": {
      "text/plain": [
       "236102"
      ]
     },
     "execution_count": 26,
     "metadata": {},
     "output_type": "execute_result"
    }
   ],
   "source": [
    "len(removed_punctuations)"
   ]
  },
  {
   "cell_type": "code",
   "execution_count": 27,
   "id": "38410f23-3893-4b14-b0da-145c839ea3df",
   "metadata": {},
   "outputs": [],
   "source": [
    "word_index_dict = {word:index for index, word in enumerate(removed_punctuations)}"
   ]
  },
  {
   "cell_type": "code",
   "execution_count": 29,
   "id": "ceceb1b5-9e9d-4b69-b74d-73bf411b8f44",
   "metadata": {},
   "outputs": [
    {
     "name": "stdout",
     "output_type": "stream",
     "text": [
      "CPU times: user 4 µs, sys: 1e+03 ns, total: 5 µs\n",
      "Wall time: 6.68 µs\n"
     ]
    },
    {
     "data": {
      "text/plain": [
       "51272"
      ]
     },
     "execution_count": 29,
     "metadata": {},
     "output_type": "execute_result"
    }
   ],
   "source": [
    "%%time\n",
    "word_index_dict['these']"
   ]
  },
  {
   "cell_type": "code",
   "execution_count": null,
   "id": "13541972-cd3e-4aa9-a22b-af452eae22d7",
   "metadata": {},
   "outputs": [],
   "source": []
  }
 ],
 "metadata": {
  "kernelspec": {
   "display_name": "Python 3 (ipykernel)",
   "language": "python",
   "name": "python3"
  },
  "language_info": {
   "codemirror_mode": {
    "name": "ipython",
    "version": 3
   },
   "file_extension": ".py",
   "mimetype": "text/x-python",
   "name": "python",
   "nbconvert_exporter": "python",
   "pygments_lexer": "ipython3",
   "version": "3.10.12"
  }
 },
 "nbformat": 4,
 "nbformat_minor": 5
}
