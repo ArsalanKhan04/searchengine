{
 "cells": [
  {
   "cell_type": "markdown",
   "id": "5928971c-dae7-44d8-832b-50f38d1515fc",
   "metadata": {},
   "source": [
    "## We will implement a new forward index and save them in barrels"
   ]
  },
  {
   "cell_type": "code",
   "execution_count": 1,
   "id": "5241bbe7-4525-4074-8b7f-1482e09ed666",
   "metadata": {},
   "outputs": [
    {
     "name": "stderr",
     "output_type": "stream",
     "text": [
      "/usr/lib/python3/dist-packages/scipy/__init__.py:146: UserWarning: A NumPy version >=1.17.3 and <1.25.0 is required for this version of SciPy (detected version 1.26.2\n",
      "  warnings.warn(f\"A NumPy version >={np_minversion} and <{np_maxversion}\"\n"
     ]
    }
   ],
   "source": [
    "import docdata.protobufs.doc_file_pb2 as dpb # Importing docdata protobuf data\n",
    "import forwardindex.protobufs.forwardindex_file_pb2 as fpb # Importing forwardindex protobuf data\n",
    "from metadata.metadatafuncs import get_metadata, save_metadata # Getting the metadata\n",
    "from wordlexicon.trie import Trie, TrieNode\n",
    "import wordlexicon.wordlexicon as wl # Importing wordlexicon\n",
    "import os # Importing os to get directory data of each os file\n",
    "from forwardindex.parse_forward import parse # Getting each document element from here\n",
    "from docdata import save_docs # Importing doc_data to save document data\n",
    "from forwardindex.getjson import get_jsondata # Getting the json data\n",
    "import time\n",
    "import sys\n",
    "import pickle\n",
    "from forwardindex.parsed_items.parsed import get_parsed_set, set_parsed_set"
   ]
  },
  {
   "cell_type": "markdown",
   "id": "efb2ea84-5370-4f6a-851b-6ec11a52560e",
   "metadata": {},
   "source": [
    "## We will implement both docdata and forwardindex here"
   ]
  },
  {
   "cell_type": "code",
   "execution_count": 2,
   "id": "1700b07f-f46e-4ede-ba11-1393c8871c89",
   "metadata": {},
   "outputs": [
    {
     "data": {
      "text/plain": [
       "['thesun.json',\n",
       " 'newsbusters.json',\n",
       " 'usnews.json',\n",
       " 'cnn.json',\n",
       " 'yahoonews.json',\n",
       " 'theindependent.json',\n",
       " 'theguardianuk.json',\n",
       " 'thenewyorktimes.json']"
      ]
     },
     "execution_count": 2,
     "metadata": {},
     "output_type": "execute_result"
    }
   ],
   "source": [
    "os.listdir(\"forwardindex/JSONFILES/dir\")"
   ]
  },
  {
   "cell_type": "code",
   "execution_count": null,
   "id": "265f05ed-1fa8-4202-b8e2-3a24531a580c",
   "metadata": {},
   "outputs": [],
   "source": []
  },
  {
   "cell_type": "code",
   "execution_count": 13,
   "id": "9cdf58c4-79bc-4a7a-9fff-047c86080458",
   "metadata": {},
   "outputs": [
    {
     "name": "stdout",
     "output_type": "stream",
     "text": [
      "45290\n"
     ]
    }
   ],
   "source": [
    "json_data = get_jsondata(\"cnn.json\")"
   ]
  },
  {
   "cell_type": "code",
   "execution_count": 9,
   "id": "d4c851a2-10ab-4e00-87d4-d2e63ddfe782",
   "metadata": {},
   "outputs": [
    {
     "name": "stdout",
     "output_type": "stream",
     "text": [
      "239077\n",
      "5000\n"
     ]
    }
   ],
   "source": [
    "# set_parsed_set(set())\n",
    "lexicon_height, totaldocs, forwardindexlimit = get_metadata()\n",
    "# save_metadata(lexicon_height, 0, forwardindexlimit)\n",
    "print(lexicon_height)\n",
    "print(forwardindexlimit)"
   ]
  },
  {
   "cell_type": "code",
   "execution_count": 11,
   "id": "8717d3ae-cf80-4115-8ff0-d3a8311561b0",
   "metadata": {},
   "outputs": [],
   "source": [
    "# This function will basically add the forward index from jsonfiles\n",
    "def addFIndex(json_data, barrels):\n",
    "    lexicon_height, totaldocs, forwardindexlimit = get_metadata()\n",
    "    doc_id = totaldocs\n",
    "    forwardindex = fpb.ForwardIndex()\n",
    "    doc_data = dpb.DocData()\n",
    "    forwardindex_path = \"forwardindex/data/findex_{}.pb\"\n",
    "    docdata_path = \"docdata/docdata_{}.pb\"\n",
    "    currset = get_parsed_set()\n",
    "    start_time=time.time()\n",
    "    count = 0\n",
    "    for eacharticle in json_data:\n",
    "        if eacharticle['url'] not in currset:\n",
    "            currset.add(eacharticle['url'])\n",
    "            forwardindex.docelement.append(parse(eacharticle, doc_id))\n",
    "            doc_data.eachdoc.append(save_docs.parse(eacharticle))\n",
    "            count+=1\n",
    "            doc_id+=1\n",
    "            if doc_id % forwardindexlimit == 0:\n",
    "                end_time = time.time()\n",
    "                print(doc_id, \" - doc_id in\", end_time-start_time, \"seconds\")\n",
    "                file_no = doc_id/forwardindexlimit\n",
    "                with open(forwardindex_path.format(file_no), \"wb\") as f:\n",
    "                    f.write(forwardindex.SerializeToString())\n",
    "                with open(docdata_path.format(file_no), \"wb\") as f:\n",
    "                    f.write(doc_data.SerializeToString())\n",
    "                forwardindex = fpb.ForwardIndex()\n",
    "                doc_data = dpb.DocData()\n",
    "            if count == barrels*forwardindexlimit:\n",
    "                wl.UpdateLexicon()\n",
    "                newlexsize = wl.GetLexiconSize()\n",
    "                save_metadata(newlexsize, doc_id, forwardindexlimit)\n",
    "                set_parsed_set(currset)\n",
    "                print(\"Metadata saved with lexsize = \", newlexsize, \"| total_docs = \", doc_id)\n",
    "                return"
   ]
  },
  {
   "cell_type": "code",
   "execution_count": 14,
   "id": "619b60fa-85cb-48b5-91a9-93ab6336a46d",
   "metadata": {},
   "outputs": [
    {
     "name": "stdout",
     "output_type": "stream",
     "text": [
      "Current size of set:  4194520  bytes\n",
      "105000  - doc_id in 6.898204326629639 seconds\n",
      "110000  - doc_id in 14.053057432174683 seconds\n",
      "115000  - doc_id in 21.48855471611023 seconds\n",
      "120000  - doc_id in 28.71401810646057 seconds\n",
      "125000  - doc_id in 36.479591369628906 seconds\n",
      "Metadata saved with lexsize =  341310 | total_docs =  125000\n"
     ]
    }
   ],
   "source": [
    "addFIndex(json_data, 5)"
   ]
  },
  {
   "cell_type": "code",
   "execution_count": 48,
   "id": "d89283f5-9bca-4381-bb7d-2ec0454e3cb0",
   "metadata": {},
   "outputs": [
    {
     "data": {
      "text/plain": [
       "250829"
      ]
     },
     "execution_count": 48,
     "metadata": {},
     "output_type": "execute_result"
    }
   ],
   "source": [
    "wl.GetLexiconSize()"
   ]
  },
  {
   "cell_type": "code",
   "execution_count": 8,
   "id": "ed443228-9359-4c5f-80c7-ad83f3cd9268",
   "metadata": {},
   "outputs": [
    {
     "name": "stdout",
     "output_type": "stream",
     "text": [
      "Current size of set:  4194520  bytes\n"
     ]
    }
   ],
   "source": [
    "currset = get_parsed_set()"
   ]
  },
  {
   "cell_type": "code",
   "execution_count": 9,
   "id": "3e6d3f97-37ff-41f4-8ac6-e37af4fc9614",
   "metadata": {},
   "outputs": [
    {
     "data": {
      "text/plain": [
       "115000"
      ]
     },
     "execution_count": 9,
     "metadata": {},
     "output_type": "execute_result"
    }
   ],
   "source": [
    "len(list(currset))"
   ]
  },
  {
   "cell_type": "code",
   "execution_count": 11,
   "id": "ba8c2a6e-a09c-4c0b-9be5-db34b38eaf6b",
   "metadata": {},
   "outputs": [
    {
     "data": {
      "text/plain": [
       "20786460"
      ]
     },
     "execution_count": 11,
     "metadata": {},
     "output_type": "execute_result"
    }
   ],
   "source": [
    "forwardindex = fpb.ForwardIndex()\n",
    "with open(\"forwardindex/data/findex_1.0.pb\", \"rb\") as f:\n",
    "    filecontent = f.read()\n",
    "forwardindex.ParseFromString(filecontent)"
   ]
  },
  {
   "cell_type": "code",
   "execution_count": 15,
   "id": "e69eefc9-af20-4e7e-9365-2006ba8162f3",
   "metadata": {},
   "outputs": [
    {
     "data": {
      "text/plain": [
       "5000"
      ]
     },
     "execution_count": 15,
     "metadata": {},
     "output_type": "execute_result"
    }
   ],
   "source": [
    "len(forwardindex.docelement)"
   ]
  },
  {
   "cell_type": "code",
   "execution_count": null,
   "id": "2821957c-36ea-4295-b103-0fc6444d2ec4",
   "metadata": {},
   "outputs": [],
   "source": []
  }
 ],
 "metadata": {
  "kernelspec": {
   "display_name": "Python 3 (ipykernel)",
   "language": "python",
   "name": "python3"
  },
  "language_info": {
   "codemirror_mode": {
    "name": "ipython",
    "version": 3
   },
   "file_extension": ".py",
   "mimetype": "text/x-python",
   "name": "python",
   "nbconvert_exporter": "python",
   "pygments_lexer": "ipython3",
   "version": "3.10.12"
  }
 },
 "nbformat": 4,
 "nbformat_minor": 5
}
