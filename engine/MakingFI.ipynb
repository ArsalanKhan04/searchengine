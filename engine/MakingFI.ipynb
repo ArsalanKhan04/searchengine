{
 "cells": [
  {
   "cell_type": "markdown",
   "id": "5928971c-dae7-44d8-832b-50f38d1515fc",
   "metadata": {},
   "source": [
    "## We will implement a new forward index and save them in barrels"
   ]
  },
  {
   "cell_type": "code",
   "execution_count": 1,
   "id": "5241bbe7-4525-4074-8b7f-1482e09ed666",
   "metadata": {},
   "outputs": [
    {
     "name": "stderr",
     "output_type": "stream",
     "text": [
      "/usr/lib/python3/dist-packages/scipy/__init__.py:146: UserWarning: A NumPy version >=1.17.3 and <1.25.0 is required for this version of SciPy (detected version 1.26.2\n",
      "  warnings.warn(f\"A NumPy version >={np_minversion} and <{np_maxversion}\"\n"
     ]
    }
   ],
   "source": [
    "import docdata.protobufs.doc_file_pb2 as dpb # Importing docdata protobuf data\n",
    "import forwardindex.protobufs.forwardindex_file_pb2 as fpb # Importing forwardindex protobuf data\n",
    "from metadata.metadatafuncs import get_metadata, save_metadata # Getting the metadata\n",
    "from wordlexicon.trie import Trie, TrieNode\n",
    "import wordlexicon.wordlexicon as wl # Importing wordlexicon\n",
    "import os # Importing os to get directory data of each os file\n",
    "from forwardindex.parse_forward import parse # Getting each document element from here\n",
    "from docdata import save_docs # Importing doc_data to save document data\n",
    "from forwardindex.getjson import get_jsondata # Getting the json data\n",
    "import time\n",
    "import sys\n",
    "import pickle\n",
    "from forwardindex.parsed_items.parsed import get_parsed_set, set_parsed_set"
   ]
  },
  {
   "cell_type": "markdown",
   "id": "efb2ea84-5370-4f6a-851b-6ec11a52560e",
   "metadata": {},
   "source": [
    "## We will implement both docdata and forwardindex here"
   ]
  },
  {
   "cell_type": "code",
   "execution_count": 2,
   "id": "1700b07f-f46e-4ede-ba11-1393c8871c89",
   "metadata": {},
   "outputs": [
    {
     "data": {
      "text/plain": [
       "['thesun.json',\n",
       " 'newsbusters.json',\n",
       " 'usnews.json',\n",
       " 'cnn.json',\n",
       " 'yahoonews.json',\n",
       " 'theindependent.json',\n",
       " 'theguardianuk.json',\n",
       " 'thenewyorktimes.json']"
      ]
     },
     "execution_count": 2,
     "metadata": {},
     "output_type": "execute_result"
    }
   ],
   "source": [
    "os.listdir(\"forwardindex/JSONFILES/dir\")"
   ]
  },
  {
   "cell_type": "code",
   "execution_count": null,
   "id": "265f05ed-1fa8-4202-b8e2-3a24531a580c",
   "metadata": {},
   "outputs": [],
   "source": []
  },
  {
   "cell_type": "code",
   "execution_count": 16,
   "id": "9cdf58c4-79bc-4a7a-9fff-047c86080458",
   "metadata": {},
   "outputs": [
    {
     "name": "stdout",
     "output_type": "stream",
     "text": [
      "71109\n"
     ]
    }
   ],
   "source": [
    "json_data = get_jsondata(\"thesun.json\")"
   ]
  },
  {
   "cell_type": "code",
   "execution_count": 17,
   "id": "3ea2c764-7be7-4044-9693-fb8ebb6a6161",
   "metadata": {},
   "outputs": [
    {
     "data": {
      "text/plain": [
       "[{'id': 'thesun--2022-01-01--Fearne Cotton and Jake Humphrey reveal ‘aggressive’ off-screen tension at CBBC',\n",
       "  'date': '2022-01-01',\n",
       "  'source': 'thesun',\n",
       "  'title': 'Fearne Cotton and Jake Humphrey reveal ‘aggressive’ off-screen tension at CBBC',\n",
       "  'content': \"They claimed that , while families saw only smiley faces , tears flowed off screen as egos clashed .\\nFearne , on the channel from 2001 before fronting Top of the Pops , said it left her “ very unhappy ” .\\nFormula One host Jake , 43 , another children ’ s TV veteran , said : “ CBBC was probably the most competitive and aggressive and sort of catty place .\\n“ Everyone was young .\\nEverybody wanted to be the next big thing.\\n” He asked Fearne , 40 , on a podcast : “ Have you @ @ @ @ @ @ @ many tears ?\\n” She replied : “ I used to stay out of it .\\nIt was too scary for me.\\n” Jake , 43 , presented CBBC 's BAMZOOKi , Against All Odds , and Rule The School , as well as hosting its coverage of Fame Academy with now This Morning star Holly Willoughby .\\nFearne joined around the same time in 2001 and presented children 's science show Eureka TV , Finger Tips with Stephen Mulhern , Smile , and Only in America alongside her good friend Reggie Yates @\",\n",
       "  'author': 'Timothy Sigsworth',\n",
       "  'url': 'https://www.thesun.co.uk/tv/17192029/cbbc-fearne-cotton-jake-humphrey/',\n",
       "  'published': 'Sat, 01 Jan 2022 00:21:15 +0000',\n",
       "  'published_utc': 1641014475,\n",
       "  'collection_utc': 1640996730},\n",
       " {'id': 'thesun--2022-01-01--Free transfers for 2022 include Pogba, Mbappe, Bale and Modric as 539 players enter final six months',\n",
       "  'date': '2022-01-01',\n",
       "  'source': 'thesun',\n",
       "  'title': 'Free transfers for 2022 include Pogba, Mbappe, Bale and Modric as 539 players enter final six months of current deals',\n",
       "  'content': \"SOME of football ’ s biggest names can join which ever club they want – and there is not a thing their current sides can do to stop them .\\nKylian Mbappe , Paul Pogba and Gareth Bale head the superstar list of players entering the last six months of their contracts on January 1 , leaving them free to sign pre-contract agreements elsewhere .\\nThey would NOT move to their new club until the summer , but there would be no transfer fee .\\nAn astonishing 539 players from Europe 's top five leagues are now in the last @ @ @ @ @ @ @ meaning they can agree free transfers abroad .\\nPlayers moving for nothing is not something new , but few years have seen such a stellar cast of talent who are counting down the days until they become free agents at the end of the season .\\nWhich leaves some of the biggest clubs desperately trying to wrap up contract talks or hawking the players around in the hope of at least getting a small fee for assets they will lose without a fee in the summer .\\nEngland ’ s number three keeper @ @ @ @ @ @ @ Premier League having chosen to run down his contract at the Hawthorns .\\nTottenham and West Ham are among those keen to land the stopper .\\nThe veteran French keeper will mark his tenth year in North London in 2022 but neither club or player have decided if he will stay on for longer .\\nLloris has interest from several European clubs .\\nFREE BETS : GET OVER £2,000 IN NEW CUSTOMER DEALS The Champions League winner finally established himself over the last 18 months but the club have not come up with @ @ @ @ @ @ @ in the game .\\nBoth sides currently in a stand-off , the Blues are hoping a change of agents by the player may break the deadlock .\\nEmerged has an inspirational figure at Stamford Bridge , but has a major offer on the table from Real Madrid as well as interest from Bayern Munich and feeling at Chelsea is he wants out having rejected contract offers .\\nVeteran defender may be 37 now but shows his class every time he plays .\\nHe seems settled in West London but the fact no new @ @ @ @ @ @ @ fans .\\nA big target of Newcastle as they seek to avoid the drop , but Burnley have to decide if £10million now is better than the gamble of losing over £100m if they themselves get relegated .\\nAn obvious choice for clubs looking to bring a rugged Premier League defender .\\nIn and out the side under Thomas Tuchel , he is the least important for Chelsea to tie down to a new deal with emergence of Reece James .\\nStill has Barcelona interested in him though .\\nUnited stand to be @ @ @ @ @ @ @ sign Frenchman but after talks over a new deal reached stalement , agent Mino Raiola is touting him round .\\nDivisive figure at Old Trafford , but PSG and Juventus would love him on a free in the summer and United look destined to give up battle to keep him .\\nImpressive young defensive midfielder watched by some of the biggest clubs in Europe , including United and Chelsea .\\nOne of the best free agents around , Newcastle may try to offer big money to land him in January as others wait @ @ @ @ @ @ @ stage at 32 , but the midfielder has been at top level for club and Belgian for years and still has a good three years left in the tank .\\nIvory Coast star has long been highly regarded and has told Milan he wants out .\\nTottenham lead the race for his signature in a deal that could be done next month ahead of the summer .\\nClass remains though the ability to get round the pitch may not be the same .\\nFormer world player of the year would still be a @ @ @ @ @ @ @ extends his career .\\nOnce one of the best in the world , the last few years have been ruined by injury .\\nFew takers could come close to matching his £650,000-a-week wages and the big decision for the Welshman is to play on or retire at the age of 32 .\\nOne of biggest stars in world football , has so far rejected six new contract offers from PSG and has heart set on Real Madrid .\\nPSG rejected £200m offer from Real last summer – will go for mere compensation next @ @ @ @ @ @ @ in Janaury .\\n⚽ Read our Transfer News Live blog for the very latest rumours , gossip and done deals A target for Manchester United and Tottenham in the past , his days at Juve finally look numbered .\\nArgentine has talent to burn but has not reached heights expected when he burst onto the scene as a youngsters .\\nLinked with virtually every club in Europe , French ace has talent to burn but is constantly let down by his body .\\nStill won ’ t be short of offers , a @ @ @ @ @ @ @ a £135m footballer for nothing .\\nOne of Italy ’ s Euro 2020 heroes has offers from across Europe but also the MLS .\\nNapoli have failed in repeated attempts to tie him down to a new deal .\\nAs committed a forward as they come , and at 28 is in the peak of his career .\\nTorino may want to cash in next month to at least get some money for the European champion .\\nIn a state of limbo at Emirates having started season expecting it to be last but @ @ @ @ @ @ @ a young team .\\nGunners have to make a decision quickly or striker will walk out door and cause more uncertainty in Mikel Arteta ’ s dressing room .\\nBrilliant at West Ham on loan last season but returned to be a forgotten man at Old Trafford .\\nDown to him now whether he wants out mid-season to keep World Cup dreams alive , or wait until summer where he will have choice of several bigger contracts .\\nEven Jurgen Klopp can not believe Belgian has stayed at Anfield so long .\\nTop @ @ @ @ @ @ @ would sell in January if the right offer came in – West Ham have him in their sights .\",\n",
       "  'author': 'Duncan Wright',\n",
       "  'url': 'https://www.thesun.co.uk/sport/17158878/free-transfers-pogba-mbappe-bale-rudiger-january-window/',\n",
       "  'published': 'Sat, 01 Jan 2022 00:18:00 +0000',\n",
       "  'published_utc': 1641014280,\n",
       "  'collection_utc': 1640996731},\n",
       " {'id': 'thesun--2022-01-01--Amanda Holden, Myleene Klass and Rita Ora lead glam celebs who ditched wet Britain for sunkissed New',\n",
       "  'date': '2022-01-01',\n",
       "  'source': 'thesun',\n",
       "  'title': 'Amanda Holden, Myleene Klass and Rita Ora lead glam celebs who ditched wet Britain for sunkissed New Year’s celebrations',\n",
       "  'content': 'IT ’ S New Year ’ s Leave – celebs ’ annual escape to the sun .\\nAs Big Ben rang in 2022 to drizzle here , the rich and famous celebrated on sun-kissed beaches .\\nCaribbean paradise St Barts resembled a superyacht parking lot , while the Maldives heaved with telly stars and former footballers as the Indian Ocean lapped at their ankles .\\nAmong them were Myleene Klass and Alex Scott , both showing off their swimwear .\\nAlso joining the exodus of famous faces from our shores was Britain ’ s Got Talent judge Amanda Holden .\\n@ @ @ @ @ @ @ the Caribbean island of Antigua .\\nOffering a glimpse of her family life , Amanda posted on Instagram snaps of her daughter Lexi as they relaxed in a swimming pool .\\nFrom those azure shores to exotic locales as far-flung as Mexico and Australia , Amy Jones reveals how the stars saw in the New Year .\\nWe ’ re not jealous at all .\\n.\\n.\\nIT was more the merrier in the dreamy Maldives as Myleene Klass , 43 , posed in the sea , Towie pals Ferne McCann and Billie @ @ @ @ @ @ @ most of the stunning beaches and TV ’ s Alex Scott , 37 , said on Insta she was “ getting my glow back ” .\\nACTRESS Michelle Keegan and hubby Mark Wright , both 34 , were among those who opted for Mexico .\\nWhile the Our Girl and Brassic star sunned her admirable pins at sea , presenter Mark took to Instagram to share photos of their matching pina colada cocktails .\\nRITA ORA is living it up Down Under .\\nThe singer , 31 , hit the beach then shared @ @ @ @ @ @ @ .\\nShe captioned the pictures : “ NYE – from me to you.\\n” Rita , who is dating Kiwi film director Taika Waititi , 46 , hit Sydney in early December .\\nPOP star Dua Lipa , 26 , sunned herself after singing at Wednesday night ’ s LuisaViaRoma Unicef gala .\\nAlso on the Caribbean island is Made In Chelsea ’ s Kimberley Garner , 30 , who showcased her swimwear range in this bright yellow number .\\nAMANDA HOLDEN , 50 , and her family are enjoying quality time together @ @ @ @ @ @ @ .\\nWhile most of us were still in our PJs on Boxing Day , she waded into the sea with a glass of fizz , then posted snaps on Insta with her daughter Lexi , 15 .\\nLOVE Islander Montana Brown , 26 , is certainly no stranger to winter sun .\\nShe saw in the New Year in Barbados for the second year in a row – this time joined by her boyfriend , London estate agent Mark O ’ Connor .',\n",
       "  'author': 'Adam Sonin',\n",
       "  'url': 'https://www.thesun.co.uk/tvandshowbiz/17191415/celebs-new-year-sunkissed-celebrations/',\n",
       "  'published': 'Sat, 01 Jan 2022 00:16:51 +0000',\n",
       "  'published_utc': 1641014211,\n",
       "  'collection_utc': 1640996734},\n",
       " {'id': 'thesun--2022-01-01--Gran lets badgers and foxes lick her pans clean overnight to save on washing up',\n",
       "  'date': '2022-01-01',\n",
       "  'source': 'thesun',\n",
       "  'title': 'Gran lets badgers and foxes lick her pans clean overnight to save on washing up',\n",
       "  'content': 'A GRAN is removing stubborn stains from her dirty pots and pans by letting foxes and badgers lick them clean @ @ @ @ @ 73 , says she was fed up with struggling to keep the cookware shiny until @ @ @ @ @ .\\nIt came to her after she left some old pans out in her garden @ @ @ @ @ looked thanks to the visits from woodland creatures .\\nGran-of-five Hilary , from Bath , @ @ @ @ @ come back in pristine condition.\\n” She reuses the kitchen kit every time family visit @ @ @ @ @ her three sons are happy eating from them after a quick rinse with soap .\\n@ @ @ @ @ “ Tougher stains sometimes take a few nights to come out — but it beats @ @ @ @ @ .\\n”',\n",
       "  'author': 'Dan Coombs',\n",
       "  'url': 'https://www.thesun.co.uk/news/17192052/gran-lets-badgers-lick-her-pans/',\n",
       "  'published': 'Sat, 01 Jan 2022 00:14:20 +0000',\n",
       "  'published_utc': 1641014060,\n",
       "  'collection_utc': 1640996735},\n",
       " {'id': 'thesun--2022-01-01--2021 was my year for sex & dating – now I’m done with one-night stands & want a VERY different type ',\n",
       "  'date': '2022-01-01',\n",
       "  'source': 'thesun',\n",
       "  'title': '2021 was my year for sex & dating – now I’m done with one-night stands & want a VERY different type of man',\n",
       "  'content': \"IF you told me this time last year we ’ d still be in this situation , I would have laughed – then probably cried .\\nI recall many moons ago we all thought the pandemic might blow over in a few weeks .\\nWishful think\\xading .\\nIt is the time of year for wishful thinking , isn ’ t it ?\\nI ’ ve never been one for resolutions .\\nAlways found them silly , vacuous , pretentious and nonsensical .\\nBut surely , God willing , surely 2022 has to be a year that we can all look @ @ @ @ @ @ @ and hope after the shocking past 22 months we ’ ve had .\\nHope can be amazing .\\nIt ’ s often what keeps us going .\\nAnd it ’ s all we have , right ?\\nThere were some big changes in my personal life in the past year .\\nI made some big shifts .\\nThe biggest was dipping my toe into the turbulent sea of dating .\\nNay , I may have gone in over my shoulders .\\nIt was unintentional and if it hadn ’ t been for lockdown @ @ @ @ @ @ @ .\\nIt began as a distraction and soon became a fascination .\\nStuck at home with kids , not permitted to go anywhere , it was nice to strike up conversations with people , albeit virtually .\\nTurns out some of them were real and some considerably less so .\\nBut it was an interesting learning curve .\\nI was ready to mingle .\\nI had a newfound freedom and , with my children being a bit older , a sense of independence .\\nIt energised me and catapulted me into a world @ @ @ @ @ @ @ having sex .\\nI felt like I was born again .\\nI had a lot of great times but there were also some soul-destroying moments which left me feeling empty and often sad .\\nThere were men who initially showed enthusiasm , positivity and willingness , only for it to be deflated like a giant balloon due to their fears , anxieties or — who knows ?\\n— panic .\\nSince my divorce three and a half years ago , I ’ d had no appetite for meeting someone .\\nI was not @ @ @ @ @ @ @ ’ ve been in one for a lengthy period , you crave space , time on your own , lack of commitment , freedom , a life devoid of boundaries and restrictions .\\nAn opportunity to breathe and spread your wings .\\nTo be fair , for much of my life I ’ ve been in long-term relationships , one after the other with only brief breaks in between but barely enough time to work out what it is you really need and want .\\nWhat you want is often very different from @ @ @ @ @ @ @ always been a relationship person .\\nI ’ ve loved the connection and the commitment .\\nI ’ ve always wanted to belong to someone .\\nTo know there is someone who counts on me , someone I can care for .\\nIf you have children , which I ’ ve had for the past 27 years , you ’ re constantly caring for and nurturing others .\\nYou ’ re all too often bottom of the list because everyone else is a priority — and I think I always liked that .\\n@ @ @ @ @ @ @ DNA .\\nI had never really known anything else and would have felt lost if I didn ’ t have someone else to care for .\\nPerhaps that is why my commitment to a relationship was always so fervent .\\nIt was like a fire burning inside me .\\nAdded to that was the eternal romantic in me constantly searching for The One .\\nI believed in monogamy and had it in my head we all ought to be with someone .\\nI can ’ t explain where this came from because I @ @ @ @ @ @ @ , so I never had a clear vision of a nuclear family .\\nWith the advent of my third divorce , and the turbulence brought on by the devastating menopause , my desires and wishes changed .\\nThis coincided with a pandemic , lockdowns and Project Dating .\\nFinally , after three years of being single , I was dating .\\nI had a couple of encounters where I could feel my heart race , my face flush with the onset of promise and affection , and a sensation I might be heading @ @ @ @ @ @ @ those couple of “ collisions ” that have finally made me realise what I ’ m hoping for in 2022 .\\nI don ’ t want to rule out any more brief encounters .\\nAfter all , we all know meeting someone special is a numbers game .\\nIt ’ s crucial you don ’ t put all your eggs in one basket .\\nWhat I ’ ve concluded is that sex and fun is .\\n.\\n.\\nfun .\\nIt ’ s liberating , exciting and confidence-boosting .\\nBut it is not @ @ @ @ @ @ @ year .\\nI ’ m largely done with one-offs and rendezvous of brevity .\\nIt was good while it lasted and it helped re-engage me with members of the opposite sex .\\nIt was enlightening .\\nBut I want more .\\nFear not , this bird isn ’ t searching for another Mr Right .\\nShe isn ’ t looking to settle down yet again .\\nShe ’ s not looking for something conventional .\\nI want something I never thought would be very “ me ” .\\nI ’ m hoping I @ @ @ @ @ @ @ about myself and others this past year to fashion myself some kind of relationship not bound by normal custom .\\nI am a fiercely independent woman and I do not need a man .\\nI am happy in my own company , thank you .\\nI ’ m not needy and I don ’ t chase .\\nWhat I hope for is someone in my life willing to appreciate and respect me for who I am .\\nSomeone honest and dedicated to some form of “ us ” — but an “ us @ @ @ @ @ @ @ or in each other ’ s pocket .\\nI don ’ t need someone to take my children on .\\nI don ’ t need help changing lightbulbs .\\nWhat I would like is to be loved and cherished while doing all the fun things life can unfold .\\nI want laughter and good times without the argument over who is loading the dishwasher tonight .\\nI want trips away .\\nI want a love affair that will last only for as long as it is meant to .\\nI am not searching @ @ @ @ @ @ @ But I sure as hell will be ready when it arrives .\\nMy intention is not to march into 2022 , making it my year and raising expectations .\\nI ’ m hopeful .\\nI shall walk in quietly — but a little assumingly .\\nNo angel , but she 's my hero ONE of the most captivating dramas I watched last week was the BBC ’ s A Very British Scandal , a dramatisation of the society story surrounding the divorce between the Duke and Duchess of Argyll in 1963 .\\nSublime @ @ @ @ @ @ @ , but an apt telling of a true story where a woman was publicly shamed for , fundamentally , being “ highly sexed ” .\\nThe duchess , Margaret Campbell , had many lovers .\\nShe enjoyed sex and , in her own opinion , she was very good at it .\\nAnd regardless of her husband ’ s numerous infidelities and cruel behaviour , it was she who was discredited , humiliated and ridiculed for her love of intercourse and intimacy .\\nI would like to think things have changed over the @ @ @ @ @ @ @ extent they have .\\nWe are more willing to discuss the fact that women can and have the right to enjoy sex as a recreational pastime .\\nBut essentially much of society still finds it a somewhat uncomfortable concept .\\nWe are definitely heading in the right direction and hopefully the next generation of women can feel more at ease – like I certainly do – about expressing their desires and passions without feeling shame or exclusion .\\nSo , I have found myself a new heroine in the former Duchess of Argyll @ @ @ @ @ @ @ social outcast in 1993 .\\nShe may not have been an angel , but what a trailblazer for owning her sexuality at a time when being sexually liberated was a cause for stigma and scandal .\\nTHERE can ’ t be many whose Christmastime was untouched by flaming Omicron .\\nA member of my family , albeit one who doesn ’ t live at home any more , contracted this deeply frustrating variant , which meant said person would not be out of isolation until Boxing Day .\\nThere were tears all round @ @ @ @ @ @ @ an end .\\n.\\n.\\nuntil we had the genius idea of moving the Christmas plans around a bit .\\nAnd I have to confess it has been an enlightening festive period , if for that alone .\\nWe ( meaning “ I ” because , quite frankly , I am the boss of Chrimbo ) moved Christmas Day to Boxing Day , which meant something glorious happened .\\nAfter a busy , fraught Eve , I then had a day of doing sweet bugger-all on the actual day .\\nInstead of having @ @ @ @ @ @ @ hungover , to perform yet another catering miracle of turkey and trimmings , I got to slob on the sofa in my comfies , watching films and eating leftovers .\\nNow , I ’ m a stickler for tradition .\\nBut this change meant I actually enjoyed Christmas Day for the first time in a long time because I wasn ’ t run ragged .\\nIt also meant I could look forward to the following day without feeling like I ’ d just done an Iron Man event .\\nSometimes man plans and @ @ @ @ @ @ @ be made .\\nAnd I ’ m quite excited that a new tradition may have been born .\\nNumber 's up for feeling your age FIFTY Shades star Dakota Johnson , 32 , said in a recent interview that she feels both 26 and 48 , because she ’ s had “ a lot of life in her life ” .\\nBy this , she implies that she lived a lot in her younger years and therefore feels “ older ” .\\nI hear her .\\nAlthough , obvs , I ’ d @ @ @ @ @ @ @ young bird myself who is about to turn the corner on 55 this year .\\nI ’ ve always struggled with the concept of age .\\nI had to grow up very young due to family circumstances .\\nI lived with a dad who often forgot he had a daughter and was thus left to my own devices to drag myself up .\\nThen , of course , I settled down really young , married at 23 and had the responsibility of both a family life and a successful career , which meant @ @ @ @ @ @ @ normal “ stuff ” young people do .\\nI simply had too much responsibility on my young , tender shoulders .\\nIn short , I ’ ve lived my life back to front , because nowadays you ’ ll often find me hanging around with younger people .\\nI ’ m electrified , motivated and invigorated by their energy .\\nSo no , I don ’ t feel 54 .\\nI don ’ t know what 54 actually means .\\nMy head is now in the place it should have been when I @ @ @ @ @ @ @ that , my love of rum invariably means I wake up the morning after , look in the mirror and see a 74-year-old .\\nBut such is life .\",\n",
       "  'author': 'Timothy Sigsworth',\n",
       "  'url': 'https://www.thesun.co.uk/news/17190572/ulrika-jonsson-dating-christmas-2022/',\n",
       "  'published': 'Sat, 01 Jan 2022 00:09:07 +0000',\n",
       "  'published_utc': 1641013747,\n",
       "  'collection_utc': 1640996737},\n",
       " {'id': 'thesun--2022-01-01--Woman in her 30s killed and man left seriously injured in horror New Year’s Eve crash',\n",
       "  'date': '2022-01-01',\n",
       "  'source': 'thesun',\n",
       "  'title': 'Woman in her 30s killed and man left seriously injured in horror New Year’s Eve crash',\n",
       "  'content': 'A WOMAN in her thirties was killed and a man in his twenties was left with serious injuries in a @ @ @ @ @ crash .\\nThe driver of one car involved in the smash in Marlborough , Wiltshire @ @ @ @ @ at the scene .\\nThe driver of the other car , a man in his @ @ @ @ @ to hospital to be treated for potentially life-changing injuries .\\n“ The families of those @ @ @ @ @ been informed and are being supported by family liaison officers ” , a Wiltshire Police @ @ @ @ @ “ Our thoughts are with them at this incredibly difficult time .\\nWe would ask @ @ @ @ @ .\\n“ Emergency services are still at the scene and the road is currently closed @ @ @ @ @ services were on the scene on the B4192 between Whittonditch and Knighton at around 3.30pm @ @ @ @ @ appealing for anyone who may have witnessed the incident or who may have captured dash @ @ @ @ @ on 101 quoting log 189 of today , December 31 .\\n”',\n",
       "  'author': 'Adriana Elgueta',\n",
       "  'url': 'https://www.thesun.co.uk/news/17192101/woman-dead-in-horror-nye-crash/',\n",
       "  'published': 'Sat, 01 Jan 2022 00:08:16 +0000',\n",
       "  'published_utc': 1641013696,\n",
       "  'collection_utc': 1640996740},\n",
       " {'id': 'thesun--2022-01-01--More than 70 Royal Marines sacked for taking drugs in last four years',\n",
       "  'date': '2022-01-01',\n",
       "  'source': 'thesun',\n",
       "  'title': 'More than 70 Royal Marines sacked for taking drugs in last four years',\n",
       "  'content': 'DOZENS of Royal Marines have been sacked for taking drugs , defence bosses have revealed .\\nStatistics obtained by The Sun show 73 of Britain ’ s toughest troops have been discharged from the corps in the past four years .\\nThe commandos have some of the most demanding training among the UK armed forces and deploy across the globe .\\nMaj Gen Julian Thompson , 87 , who led 3 Commando Brigade in the 1982 Falklands War , told The Sun : “ Anyone who fails the tests should be kicked out — it ’ s as simple as @ @ @ @ @ @ @ last August ’ s evacuation flights from Kabul airport in Afghanistan as part of Operation Pitting .\\nNew recruits have to pass arduous tests that culminate in a gruelling yomp across Dartmoor .\\nA defence source added : “ These are some of the toughest men in the British military .\\n“ They undergo some of the most arduous training anywhere in the world .\\nThe fact that some of them should take drugs is quite frankly shocking.\\n” It comes as official figures suggest drug use is rising in the British military @ @ @ @ @ @ @ were dismissed for failing drug tests , up from 580 in 2017 .\\nLast February , ten soldiers from the Royal Horse Artillery were kicked out after a drug party at their barracks .\\nThe Royal Navy said : “ The Naval Service has a zero tolerance drugs policy .\\n”',\n",
       "  'author': 'james.somper@the-sun.co.uk',\n",
       "  'url': 'https://www.thesun.co.uk/news/17191950/royal-marines-commandos-drugs/',\n",
       "  'published': 'Sat, 01 Jan 2022 00:06:37 +0000',\n",
       "  'published_utc': 1641013597,\n",
       "  'collection_utc': 1640996741},\n",
       " {'id': 'thesun--2022-01-01--Prince Andrew news – Queen Elizabeth’s son must prove he CAN’T SWEAT at sex abuse trial, accuser Vir',\n",
       "  'date': '2022-01-01',\n",
       "  'source': 'thesun',\n",
       "  'title': 'Prince Andrew news – Queen Elizabeth’s son must prove he CAN’T SWEAT at sex abuse trial, accuser Virginia Giuffre claims',\n",
       "  'content': \"PRINCE Andrew may have to PROVE he ca n't sweat at an underage sex abuse trial , his accuser 's @ @ @ @ @ Elizabeth 's son will be asked to provide proper evidence of “ his alleged inability @ @ @ @ @ names of anyone he met at a Pizza Express in Woking by lawyers for Virginia @ @ @ @ @ of sexual assault .\\nAhead of the civil trial in New York , lawyers also @ @ @ @ @ to Prince Andrew 's “ travel to or from .\\n.\\n.\\nthe Tramp nightclub @ @ @ @ @ received from Ghislaine Maxwell and Jeffrey Epstein , The Times reported .\\nThe news comes @ @ @ @ @ lawyer representing Epstein 's victims , said Maxwell ’ s conviction should leave Prince Andrew @ @ @ @ @ ” .\\nRead our Royal Family live blog for the latest news and updates ...\",\n",
       "  'author': 'Milica Cosic',\n",
       "  'url': 'https://www.thesun.co.uk/news/16894789/prince-andrew-news-latest-queen-elizabeth-sweating-ghislaine-maxwell/',\n",
       "  'published': 'Sat, 01 Jan 2022 00:01:56 +0000',\n",
       "  'published_utc': 1641013316,\n",
       "  'collection_utc': 1640996743},\n",
       " {'id': 'thesun--2022-01-01--UK weather forecast: Met Office warns SNOWBOMB to smash into Britain with freezing -11C chill & Atla',\n",
       "  'date': '2022-01-01',\n",
       "  'source': 'thesun',\n",
       "  'title': 'UK weather forecast: Met Office warns SNOWBOMB to smash into Britain with freezing -11C chill & Atlantic storm NEXT WEEK',\n",
       "  'content': \"THIS New Year 's weekend is officially the mildest on record - but Brits better make the most of it @ @ @ @ @ sweep in from NEXT week .\\nThere will be warm air sweeping in from the @ @ @ @ @ northerly winds which are typical for this time of year , say forecasters .\\nThe @ @ @ @ @ for the highest temperature on New Year 's Eve in the UK - 14.8C at @ @ @ @ @ in 2011 - could even be broken .\\nWhat a way to start the New @ @ @ @ @ may be too soon to put away the winter jackets as freezing temperatures and snow @ @ @ @ @ January , as a 'SNOWBOMB ' will hit Britain from as early as next MONDAY @ @ @ @ @ .\\nWinter will bite back in the weeks to come after what 's likely to @ @ @ @ @ 's Eve on record tomorrow .\\nRead our weather live blog for the latest news @ @\",\n",
       "  'author': 'Joseph Gamp',\n",
       "  'url': 'https://www.thesun.co.uk/news/17024569/uk-weather-forecast-snow-met-office-latest-london/',\n",
       "  'published': 'Sat, 01 Jan 2022 00:01:41 +0000',\n",
       "  'published_utc': 1641013301,\n",
       "  'collection_utc': 1640996745},\n",
       " {'id': 'thesun--2022-01-01--Coronation Street spoilers – Major crisis on the cobbles for Adam Barlow & Sarah Platt; plus Eastend',\n",
       "  'date': '2022-01-01',\n",
       "  'source': 'thesun',\n",
       "  'title': 'Coronation Street spoilers – Major crisis on the cobbles for Adam Barlow & Sarah Platt; plus Eastenders & Emmerdale news',\n",
       "  'content': \"CORONATION Street 's Adam Barlow struggles as his ex Lydia meddles in his marriage to Sarah Platt .\\nThe solicitor @ @ @ @ @ in the ITV soap - was left shocked when his former flame rocked up to @ @ @ @ @ as a shock to the PA when she found out that her new pal and @ @ @ @ @ item during their university days .\\nIt becomes apparent that Adam ca n't cope with @ @ @ @ @ a go at Lydia for talking about him behind his back to Sarah .\\nRead @ @ @ @ @ the latest news and gossip ...\",\n",
       "  'author': 'Milica Cosic',\n",
       "  'url': 'https://www.thesun.co.uk/tv/17025124/coronation-street-spoilers-eastenders-emmerdale-news-cast-adam-sarah/',\n",
       "  'published': 'Sat, 01 Jan 2022 00:01:29 +0000',\n",
       "  'published_utc': 1641013289,\n",
       "  'collection_utc': 1640996747}]"
      ]
     },
     "execution_count": 17,
     "metadata": {},
     "output_type": "execute_result"
    }
   ],
   "source": [
    "json_data[:10]"
   ]
  },
  {
   "cell_type": "code",
   "execution_count": 9,
   "id": "d4c851a2-10ab-4e00-87d4-d2e63ddfe782",
   "metadata": {},
   "outputs": [
    {
     "name": "stdout",
     "output_type": "stream",
     "text": [
      "239077\n",
      "5000\n"
     ]
    }
   ],
   "source": [
    "# set_parsed_set(set())\n",
    "lexicon_height, totaldocs, forwardindexlimit = get_metadata()\n",
    "# save_metadata(lexicon_height, 0, forwardindexlimit)\n",
    "print(lexicon_height)\n",
    "print(forwardindexlimit)"
   ]
  },
  {
   "cell_type": "code",
   "execution_count": 11,
   "id": "8717d3ae-cf80-4115-8ff0-d3a8311561b0",
   "metadata": {},
   "outputs": [],
   "source": [
    "# This function will basically add the forward index from jsonfiles\n",
    "def addFIndex(json_data, barrels):\n",
    "    lexicon_height, totaldocs, forwardindexlimit = get_metadata()\n",
    "    doc_id = totaldocs\n",
    "    forwardindex = fpb.ForwardIndex()\n",
    "    doc_data = dpb.DocData()\n",
    "    forwardindex_path = \"forwardindex/data/findex_{}.pb\"\n",
    "    docdata_path = \"docdata/docdata_{}.pb\"\n",
    "    currset = get_parsed_set()\n",
    "    start_time=time.time()\n",
    "    count = 0\n",
    "    for eacharticle in json_data:\n",
    "        if eacharticle['url'] not in currset:\n",
    "            currset.add(eacharticle['url'])\n",
    "            forwardindex.docelement.append(parse(eacharticle, doc_id))\n",
    "            doc_data.eachdoc.append(save_docs.parse(eacharticle))\n",
    "            count+=1\n",
    "            doc_id+=1\n",
    "            if doc_id % forwardindexlimit == 0:\n",
    "                end_time = time.time()\n",
    "                print(doc_id, \" - doc_id in\", end_time-start_time, \"seconds\")\n",
    "                file_no = doc_id/forwardindexlimit\n",
    "                with open(forwardindex_path.format(file_no), \"wb\") as f:\n",
    "                    f.write(forwardindex.SerializeToString())\n",
    "                with open(docdata_path.format(file_no), \"wb\") as f:\n",
    "                    f.write(doc_data.SerializeToString())\n",
    "                forwardindex = fpb.ForwardIndex()\n",
    "                doc_data = dpb.DocData()\n",
    "            if count == barrels*forwardindexlimit:\n",
    "                wl.UpdateLexicon()\n",
    "                newlexsize = wl.GetLexiconSize()\n",
    "                save_metadata(newlexsize, doc_id, forwardindexlimit)\n",
    "                set_parsed_set(currset)\n",
    "                print(\"Metadata saved with lexsize = \", newlexsize, \"| total_docs = \", doc_id)\n",
    "                return"
   ]
  },
  {
   "cell_type": "code",
   "execution_count": 14,
   "id": "619b60fa-85cb-48b5-91a9-93ab6336a46d",
   "metadata": {},
   "outputs": [
    {
     "name": "stdout",
     "output_type": "stream",
     "text": [
      "Current size of set:  4194520  bytes\n",
      "105000  - doc_id in 6.898204326629639 seconds\n",
      "110000  - doc_id in 14.053057432174683 seconds\n",
      "115000  - doc_id in 21.48855471611023 seconds\n",
      "120000  - doc_id in 28.71401810646057 seconds\n",
      "125000  - doc_id in 36.479591369628906 seconds\n",
      "Metadata saved with lexsize =  341310 | total_docs =  125000\n"
     ]
    }
   ],
   "source": [
    "addFIndex(json_data, 5)"
   ]
  },
  {
   "cell_type": "code",
   "execution_count": 48,
   "id": "d89283f5-9bca-4381-bb7d-2ec0454e3cb0",
   "metadata": {},
   "outputs": [
    {
     "data": {
      "text/plain": [
       "250829"
      ]
     },
     "execution_count": 48,
     "metadata": {},
     "output_type": "execute_result"
    }
   ],
   "source": [
    "wl.GetLexiconSize()"
   ]
  },
  {
   "cell_type": "code",
   "execution_count": 8,
   "id": "ed443228-9359-4c5f-80c7-ad83f3cd9268",
   "metadata": {},
   "outputs": [
    {
     "name": "stdout",
     "output_type": "stream",
     "text": [
      "Current size of set:  4194520  bytes\n"
     ]
    }
   ],
   "source": [
    "currset = get_parsed_set()"
   ]
  },
  {
   "cell_type": "code",
   "execution_count": 9,
   "id": "3e6d3f97-37ff-41f4-8ac6-e37af4fc9614",
   "metadata": {},
   "outputs": [
    {
     "data": {
      "text/plain": [
       "115000"
      ]
     },
     "execution_count": 9,
     "metadata": {},
     "output_type": "execute_result"
    }
   ],
   "source": [
    "len(list(currset))"
   ]
  },
  {
   "cell_type": "code",
   "execution_count": 11,
   "id": "ba8c2a6e-a09c-4c0b-9be5-db34b38eaf6b",
   "metadata": {},
   "outputs": [
    {
     "data": {
      "text/plain": [
       "20786460"
      ]
     },
     "execution_count": 11,
     "metadata": {},
     "output_type": "execute_result"
    }
   ],
   "source": [
    "forwardindex = fpb.ForwardIndex()\n",
    "with open(\"forwardindex/data/findex_1.0.pb\", \"rb\") as f:\n",
    "    filecontent = f.read()\n",
    "forwardindex.ParseFromString(filecontent)"
   ]
  },
  {
   "cell_type": "code",
   "execution_count": 15,
   "id": "e69eefc9-af20-4e7e-9365-2006ba8162f3",
   "metadata": {},
   "outputs": [
    {
     "data": {
      "text/plain": [
       "5000"
      ]
     },
     "execution_count": 15,
     "metadata": {},
     "output_type": "execute_result"
    }
   ],
   "source": [
    "len(forwardindex.docelement)"
   ]
  },
  {
   "cell_type": "code",
   "execution_count": null,
   "id": "2821957c-36ea-4295-b103-0fc6444d2ec4",
   "metadata": {},
   "outputs": [],
   "source": []
  }
 ],
 "metadata": {
  "kernelspec": {
   "display_name": "Python 3 (ipykernel)",
   "language": "python",
   "name": "python3"
  },
  "language_info": {
   "codemirror_mode": {
    "name": "ipython",
    "version": 3
   },
   "file_extension": ".py",
   "mimetype": "text/x-python",
   "name": "python",
   "nbconvert_exporter": "python",
   "pygments_lexer": "ipython3",
   "version": "3.10.12"
  }
 },
 "nbformat": 4,
 "nbformat_minor": 5
}
