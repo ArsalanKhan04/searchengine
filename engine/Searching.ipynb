{
 "cells": [
  {
   "cell_type": "markdown",
   "id": "ebdff0e8-0634-4dba-aa63-31d67514bda9",
   "metadata": {},
   "source": [
    "## Implementing search\n",
    "\n",
    "We have to implement the search now, in order to do so we have to keep some things in mind:\n",
    "\n",
    "- From each inverted index, there will be a row of doc_ids received, for each doc_id, we need to gather the document information we have to display\n",
    "- We also need to employ a ranking algorithm, that can process both single word and multiple word queries\n",
    "- "
   ]
  },
  {
   "cell_type": "code",
   "execution_count": null,
   "id": "7a0180ba-69c0-483e-b817-78ad00d180d5",
   "metadata": {},
   "outputs": [],
   "source": []
  },
  {
   "cell_type": "code",
   "execution_count": 1,
   "id": "54b581ec-8661-4d71-96af-c164f256ad91",
   "metadata": {},
   "outputs": [],
   "source": [
    "from searching import search\n",
    "from docdata.getdocdata.getjson import get_docdata"
   ]
  },
  {
   "cell_type": "markdown",
   "id": "21827bdb-de6f-41b3-9387-21ac9a6668dc",
   "metadata": {},
   "source": [
    "### We will start by checking if we can retrieve the docdata from its doc_id"
   ]
  },
  {
   "cell_type": "code",
   "execution_count": 12,
   "id": "e45bf17a-8724-40fa-8d9b-54546210d8a7",
   "metadata": {},
   "outputs": [
    {
     "name": "stdout",
     "output_type": "stream",
     "text": [
      "CPU times: user 13 µs, sys: 3 µs, total: 16 µs\n",
      "Wall time: 17.9 µs\n"
     ]
    },
    {
     "data": {
      "text/plain": [
       "{'url': 'https://www.thesun.co.uk/sport/18399667/tobin-heath-released-arsenal-contract/',\n",
       " 'title': 'Tobin Heath’s Arsenal spell ends with USA ace released early from contract by mutual consent following injury',\n",
       " 'date': '2022-04-28',\n",
       " 'chars500': 'TOBIN HEATH ’ s Arsenal stint has come to an end with the forward leaving the club by mutual agreement following a hamstring injury .\\nThe USA forward has been contending with a minor problem which has ruled her out of the Gunners ’ last three games of the season .\\nHeath ’ s one-year contract was due to expire at the end of the 2021-22 term .\\nHowever , hamstring issues have put the player , 33 , out of contention for Arsenal ’ s games against Aston Villa , Tottenham and West Ham .\\nThe club are ta',\n",
       " 'author': 'Sandra Brobbey'}"
      ]
     },
     "execution_count": 12,
     "metadata": {},
     "output_type": "execute_result"
    }
   ],
   "source": [
    "%%time\n",
    "get_docdata(21321)"
   ]
  },
  {
   "cell_type": "markdown",
   "id": "2a1ed4a4-ce8a-40fc-a680-b2febea2adbc",
   "metadata": {},
   "source": [
    "### Implemented this pretty well"
   ]
  },
  {
   "cell_type": "code",
   "execution_count": null,
   "id": "493dde0d-ef9c-4378-9972-10ee244e088d",
   "metadata": {},
   "outputs": [],
   "source": []
  }
 ],
 "metadata": {
  "kernelspec": {
   "display_name": "Python 3 (ipykernel)",
   "language": "python",
   "name": "python3"
  },
  "language_info": {
   "codemirror_mode": {
    "name": "ipython",
    "version": 3
   },
   "file_extension": ".py",
   "mimetype": "text/x-python",
   "name": "python",
   "nbconvert_exporter": "python",
   "pygments_lexer": "ipython3",
   "version": "3.10.12"
  }
 },
 "nbformat": 4,
 "nbformat_minor": 5
}
