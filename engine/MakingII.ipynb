{
 "cells": [
  {
   "cell_type": "code",
   "execution_count": 1,
   "id": "ac8beb12-5200-47de-8ce5-3cf042677afd",
   "metadata": {},
   "outputs": [],
   "source": [
    "from invertedindex import invDS\n",
    "from forwardindex.protobufs import forwardindex_file_pb2\n",
    "from invertedindex.parsing import parse\n",
    "from metadata.metadatafuncs import get_metadata"
   ]
  },
  {
   "cell_type": "code",
   "execution_count": 3,
   "id": "805a1a02-9e69-4845-a8f5-da25119f743f",
   "metadata": {},
   "outputs": [
    {
     "name": "stdout",
     "output_type": "stream",
     "text": [
      "115000\n"
     ]
    }
   ],
   "source": [
    "lexiconheight, totaldocs, forwardindexlimit = get_metadata()\n",
    "print(totaldocs)"
   ]
  },
  {
   "cell_type": "code",
   "execution_count": null,
   "id": "d6ef2105-ab77-4ad5-9bf1-cd951febcf80",
   "metadata": {},
   "outputs": [],
   "source": []
  }
 ],
 "metadata": {
  "kernelspec": {
   "display_name": "Python 3 (ipykernel)",
   "language": "python",
   "name": "python3"
  },
  "language_info": {
   "codemirror_mode": {
    "name": "ipython",
    "version": 3
   },
   "file_extension": ".py",
   "mimetype": "text/x-python",
   "name": "python",
   "nbconvert_exporter": "python",
   "pygments_lexer": "ipython3",
   "version": "3.10.12"
  }
 },
 "nbformat": 4,
 "nbformat_minor": 5
}
