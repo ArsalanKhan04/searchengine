{
 "cells": [
  {
   "cell_type": "markdown",
   "id": "43f8c59e-abf7-4304-9d0e-cf86dae257cb",
   "metadata": {},
   "source": [
    "## Issues with the previous word lexicon\n",
    "\n",
    "**Too slow**\n",
    "- The previous word lexicon is a python list using the \"index\" function to locate words, hence very inefficient when it comes to locating each word, being a lot worse when having to do it multiple times in order to cater to adjectives, verbs, nouns and adverbs.\n",
    "- In order to have better implementation, we will be using both hash tables and tries, and check their memory consumption as well"
   ]
  },
  {
   "cell_type": "markdown",
   "id": "b0e0ec97-7315-4a9c-a3ef-a6c3b14157a2",
   "metadata": {},
   "source": [
    "#### Checking the previous implementation:"
   ]
  },
  {
   "cell_type": "code",
   "execution_count": 1,
   "id": "ee0f9359-2439-49d1-ab7f-edce70492034",
   "metadata": {},
   "outputs": [
    {
     "name": "stderr",
     "output_type": "stream",
     "text": [
      "/usr/lib/python3/dist-packages/scipy/__init__.py:146: UserWarning: A NumPy version >=1.17.3 and <1.25.0 is required for this version of SciPy (detected version 1.26.2\n",
      "  warnings.warn(f\"A NumPy version >={np_minversion} and <{np_maxversion}\"\n"
     ]
    }
   ],
   "source": [
    "from previousimplementation import wordlexicon as oldWL\n",
    "import time\n",
    "import sys"
   ]
  },
  {
   "cell_type": "code",
   "execution_count": 2,
   "id": "378e6f5b-75af-4dc2-8469-f75990c9253c",
   "metadata": {},
   "outputs": [],
   "source": [
    "def get_time(func, *args):\n",
    "    start_time = time.time()\n",
    "    func(*args)\n",
    "    end_time = time.time()\n",
    "    print(f\"Process took: {(end_time-start_time)*1000} ms\")"
   ]
  },
  {
   "cell_type": "code",
   "execution_count": 3,
   "id": "9969b28c-4dfb-4fc1-8c44-83696d6bc35b",
   "metadata": {},
   "outputs": [
    {
     "name": "stdout",
     "output_type": "stream",
     "text": [
      "hello\n",
      "Process took: 0.019073486328125 ms\n"
     ]
    }
   ],
   "source": [
    "get_time(print, \"hello\")"
   ]
  },
  {
   "cell_type": "code",
   "execution_count": 4,
   "id": "846ac749-d633-44f2-85f8-335a068850a4",
   "metadata": {},
   "outputs": [],
   "source": [
    "lexicon_list = oldWL.lexicon_list"
   ]
  },
  {
   "cell_type": "code",
   "execution_count": 5,
   "id": "7804bff3-8d79-4553-8664-0e641d0f9db8",
   "metadata": {},
   "outputs": [
    {
     "name": "stdout",
     "output_type": "stream",
     "text": [
      "['that', 'an', 'most', 'don', 'now', 'with', 'where', 'yourselves', 'how', 'few']\n",
      "['crested', 'openhanded', 'pursy', 'pulley', 'unbelt', 'dismantle', 'idolater', 'immunocompetence', 'iconolatry', 'disappoint']\n",
      "['microprobe', 'elaliite', 'elkinstantonite', 'tschauner', 'phosphides', 'gey', 'wdbj', 'whiteboyd', 'bechtel', 'skloot']\n",
      "240956\n"
     ]
    }
   ],
   "source": [
    "print(lexicon_list[:10])\n",
    "print(lexicon_list[400:410])\n",
    "print(lexicon_list[240000:240010])\n",
    "print(len(lexicon_list))"
   ]
  },
  {
   "cell_type": "code",
   "execution_count": 6,
   "id": "4236e90d-2d80-4590-8ff1-480644e03b9e",
   "metadata": {},
   "outputs": [
    {
     "name": "stdout",
     "output_type": "stream",
     "text": [
      "Process took: 2.5370121002197266 ms\n",
      "Process took: 0.5304813385009766 ms\n",
      "Process took: 0.0016689300537109375 ms\n"
     ]
    }
   ],
   "source": [
    "for word in [\"microprobe\", \"thought\", \"some\"]:\n",
    "    get_time(lexicon_list.index, word)"
   ]
  },
  {
   "cell_type": "markdown",
   "id": "16fd35b7-72af-4861-bcf8-66e955eb6211",
   "metadata": {},
   "source": [
    "**Clearly a linear time can be noticed from over here**"
   ]
  },
  {
   "cell_type": "code",
   "execution_count": 7,
   "id": "72581fad-59a1-449c-8e8f-73d16da75614",
   "metadata": {},
   "outputs": [],
   "source": [
    "from nltk.stem import WordNetLemmatizer\n",
    "lemmatizer = WordNetLemmatizer()"
   ]
  },
  {
   "cell_type": "code",
   "execution_count": 8,
   "id": "76365355-05e0-4260-b1cb-3821bbdf3226",
   "metadata": {},
   "outputs": [
    {
     "name": "stdout",
     "output_type": "stream",
     "text": [
      "Checking time constraint with word: thought and type: v\n",
      "Checking time constraint with word: thought and type: n\n",
      "Checking time constraint with word: thought and type: r\n",
      "Checking time constraint with word: thought and type: a\n",
      "Checking time constraint with word: think and type: v\n",
      "Checking time constraint with word: think and type: n\n",
      "Checking time constraint with word: think and type: r\n",
      "Checking time constraint with word: think and type: a\n"
     ]
    }
   ],
   "source": [
    "for word in [\"thought\", \"think\"]:\n",
    "    for type in [\"v\", \"n\", \"r\", \"a\"]:\n",
    "        print(f\"Checking time constraint with word: {word} and type: {type}\")\n",
    "        lemmatizer.lemmatize(word, type)"
   ]
  },
  {
   "cell_type": "markdown",
   "id": "a8ad6ee4-fb25-476c-9494-a5c860465b32",
   "metadata": {},
   "source": [
    "The lemmatizer does not take a lot of time, hence we can use it in our wordlexicon"
   ]
  },
  {
   "cell_type": "code",
   "execution_count": 9,
   "id": "cea07b43-b0b2-428c-a02e-6f07c2f7fac3",
   "metadata": {},
   "outputs": [],
   "source": [
    "lexicon_pb = oldWL.lexicon"
   ]
  },
  {
   "cell_type": "code",
   "execution_count": 10,
   "id": "43593b40-7310-48a4-aa7f-d121710db40d",
   "metadata": {
    "scrolled": true
   },
   "outputs": [
    {
     "name": "stdout",
     "output_type": "stream",
     "text": [
      "1927704\n",
      "80\n"
     ]
    }
   ],
   "source": [
    "print(sys.getsizeof(lexicon_list))\n",
    "print(sys.getsizeof(lexicon_pb))"
   ]
  },
  {
   "cell_type": "markdown",
   "id": "8e99adfa-7785-49cc-a7b7-f18762758b20",
   "metadata": {},
   "source": [
    "A python lexicon list takes about 2 MBs in memory "
   ]
  },
  {
   "cell_type": "markdown",
   "id": "a591c60a-53bc-4f7a-b8fa-6e4c91bcde9d",
   "metadata": {},
   "source": [
    "**Hence, currently memory is not an issue, but time efficiency is**\n",
    "\n",
    "We will implement two data structures to deal with this: \n",
    "- Hash Tables\n",
    "- A Trie"
   ]
  },
  {
   "cell_type": "code",
   "execution_count": 11,
   "id": "951ca5b8-01e6-4d70-b6c8-494389d88974",
   "metadata": {},
   "outputs": [],
   "source": [
    "class TrieNode:\n",
    "    def __init__(self):\n",
    "        self.children = {}\n",
    "        self.is_end_of_word = False\n",
    "        self.index = -1\n",
    "\n",
    "class Trie:\n",
    "    def __init__(self):\n",
    "        self.root = TrieNode()\n",
    "        self.size = 0\n",
    "\n",
    "    def insert(self, word, index):\n",
    "        node = self.root\n",
    "        for char in word:\n",
    "            if char not in node.children:\n",
    "                node.children[char] = TrieNode()\n",
    "            node = node.children[char]\n",
    "        node.is_end_of_word = True\n",
    "        node.index=index\n",
    "        self.size+=1\n",
    "\n",
    "    def get_index(self, word):\n",
    "        node = self.root\n",
    "        for char in word:\n",
    "            if char not in node.children:\n",
    "                return -1\n",
    "            node = node.children[char]\n",
    "        return node.index"
   ]
  },
  {
   "cell_type": "code",
   "execution_count": 12,
   "id": "ad00ce4a-a3c6-41cf-9cc2-78199f1c40ea",
   "metadata": {},
   "outputs": [],
   "source": [
    "demoTrie = Trie()"
   ]
  },
  {
   "cell_type": "code",
   "execution_count": 13,
   "id": "6e629ef9-608d-4732-b85c-e4a3cd0d9eaa",
   "metadata": {},
   "outputs": [
    {
     "data": {
      "text/plain": [
       "3"
      ]
     },
     "execution_count": 13,
     "metadata": {},
     "output_type": "execute_result"
    }
   ],
   "source": [
    "demoTrie.insert(\"word\", 3)\n",
    "demoTrie.insert(\"wording\", 4)\n",
    "demoTrie.get_index(\"word\")"
   ]
  },
  {
   "cell_type": "code",
   "execution_count": 20,
   "id": "1ca9ba91-04ab-4acb-a131-331693426054",
   "metadata": {},
   "outputs": [],
   "source": [
    "\n",
    "punc = '''!()-[]{};:'\"\\,<>./?@#$%^&*_~'''"
   ]
  },
  {
   "cell_type": "code",
   "execution_count": 14,
   "id": "0f9c2318-6fce-427e-a080-2f4263c4611e",
   "metadata": {},
   "outputs": [],
   "source": [
    "lexiconTrie = Trie()\n",
    "for index, word in enumerate(lexicon_list):\n",
    "    lexiconTrie.insert(word, index)"
   ]
  },
  {
   "cell_type": "code",
   "execution_count": 15,
   "id": "a3b5b7c9-6795-4615-b868-cb20c7310a3e",
   "metadata": {},
   "outputs": [
    {
     "name": "stdout",
     "output_type": "stream",
     "text": [
      "Process took: 2.8772354125976562 ms\n",
      "Process took: 0.8378028869628906 ms\n",
      "Process took: 0.0019073486328125 ms\n"
     ]
    }
   ],
   "source": [
    "for word in [\"microprobe\", \"thought\", \"some\"]:\n",
    "    get_time(lexicon_list.index, word)"
   ]
  },
  {
   "cell_type": "code",
   "execution_count": 21,
   "id": "8fcc90cc-a2bb-484a-b84e-855b877c4393",
   "metadata": {},
   "outputs": [
    {
     "data": {
      "text/plain": [
       "'!\"#$%&\\'()*+,-./:;<=>?@[\\\\]^_`{|}~'"
      ]
     },
     "execution_count": 21,
     "metadata": {},
     "output_type": "execute_result"
    }
   ],
   "source": [
    "import string\n",
    "string.punctuation"
   ]
  },
  {
   "cell_type": "code",
   "execution_count": 23,
   "id": "432b0d95-c581-4ef1-8d94-8dd8d403670f",
   "metadata": {},
   "outputs": [
    {
     "data": {
      "text/plain": [
       "'microprobe'"
      ]
     },
     "execution_count": 23,
     "metadata": {},
     "output_type": "execute_result"
    }
   ],
   "source": [
    "\"microp*robe\".translate(str.maketrans('', '', string.punctuation))"
   ]
  },
  {
   "cell_type": "code",
   "execution_count": 27,
   "id": "eb343b3a-6149-439b-a866-5c31465320d7",
   "metadata": {},
   "outputs": [],
   "source": [
    "removed_punctuations = [word.translate(str.maketrans('', '', string.punctuation)) for word in lexicon_list]"
   ]
  },
  {
   "cell_type": "code",
   "execution_count": 28,
   "id": "a211619c-befa-4aa1-8570-e2d86d7e1bad",
   "metadata": {},
   "outputs": [
    {
     "data": {
      "text/plain": [
       "240956"
      ]
     },
     "execution_count": 28,
     "metadata": {},
     "output_type": "execute_result"
    }
   ],
   "source": [
    "len(removed_punctuations)"
   ]
  },
  {
   "cell_type": "code",
   "execution_count": 29,
   "id": "34b17553-bff0-488a-ae0a-953a1b337e28",
   "metadata": {},
   "outputs": [
    {
     "data": {
      "text/plain": [
       "236102"
      ]
     },
     "execution_count": 29,
     "metadata": {},
     "output_type": "execute_result"
    }
   ],
   "source": [
    "len(list(set(removed_punctuations)))"
   ]
  },
  {
   "cell_type": "code",
   "execution_count": 16,
   "id": "72dcfc79-32f8-4d8e-9533-427649891066",
   "metadata": {},
   "outputs": [
    {
     "name": "stdout",
     "output_type": "stream",
     "text": [
      "Process took: 0.00667572021484375 ms\n",
      "Process took: 0.00286102294921875 ms\n",
      "Process took: 0.0019073486328125 ms\n"
     ]
    }
   ],
   "source": [
    "for word in [\"microprobe\", \"thought\", \"some\"]:\n",
    "    get_time(lexiconTrie.get_index, word)"
   ]
  },
  {
   "cell_type": "markdown",
   "id": "c82effce-353c-4e85-93b0-095611954974",
   "metadata": {},
   "source": [
    "**Huge huge win :)**"
   ]
  },
  {
   "cell_type": "code",
   "execution_count": 17,
   "id": "a30f09db-86f3-44c2-808e-9b1dd27d7e5c",
   "metadata": {},
   "outputs": [
    {
     "data": {
      "text/plain": [
       "48"
      ]
     },
     "execution_count": 17,
     "metadata": {},
     "output_type": "execute_result"
    }
   ],
   "source": [
    "sys.getsizeof(lexiconTrie)"
   ]
  },
  {
   "cell_type": "code",
   "execution_count": null,
   "id": "cd344e2c-6345-4ad5-937e-b7f8d0783d3e",
   "metadata": {},
   "outputs": [],
   "source": []
  },
  {
   "cell_type": "code",
   "execution_count": 18,
   "id": "179330e3-e7b5-42ab-a0bb-9780ae0a2f11",
   "metadata": {},
   "outputs": [],
   "source": [
    "import pickle"
   ]
  },
  {
   "cell_type": "code",
   "execution_count": 19,
   "id": "700f9cc4-eb53-46c0-9b20-132be58d4d7f",
   "metadata": {},
   "outputs": [],
   "source": [
    "with open(\"lexiconTrie.pkl\", \"wb\") as file:\n",
    "    pickle.dump(lexiconTrie, file)"
   ]
  },
  {
   "cell_type": "markdown",
   "id": "0153dea6-e007-4f49-bc83-623d3e0cceb0",
   "metadata": {},
   "source": [
    "**It is 30Mbs now**"
   ]
  },
  {
   "cell_type": "markdown",
   "id": "acfae766-d7d2-4691-8a50-9d9d55c92e74",
   "metadata": {},
   "source": [
    "We will skip making the hashfunction coz boo"
   ]
  },
  {
   "cell_type": "markdown",
   "id": "9b5459a6-1ef0-408c-8c07-f3cd7236062d",
   "metadata": {},
   "source": [
    "### Making a function to lemmatize each word and get the word ID afterwards\n",
    "We will copy the previous function"
   ]
  },
  {
   "cell_type": "code",
   "execution_count": 76,
   "id": "be2371d5-e156-4a47-ab91-a218efc2773f",
   "metadata": {},
   "outputs": [
    {
     "name": "stdout",
     "output_type": "stream",
     "text": [
      "CPU times: user 4.59 s, sys: 26.2 ms, total: 4.62 s\n",
      "Wall time: 4.58 s\n"
     ]
    }
   ],
   "source": [
    "%%time\n",
    "with open(\"lexiconTrie.pkl\", \"rb\") as file:\n",
    "    lexTrie = pickle.load(file)"
   ]
  },
  {
   "cell_type": "code",
   "execution_count": 81,
   "id": "60ca1f8b-7a19-4de5-b56c-98c7feed4d29",
   "metadata": {},
   "outputs": [
    {
     "name": "stdout",
     "output_type": "stream",
     "text": [
      "CPU times: user 253 ms, sys: 0 ns, total: 253 ms\n",
      "Wall time: 252 ms\n"
     ]
    }
   ],
   "source": [
    "%%time\n",
    "for i in range(1000000):\n",
    "    lexTrie.get_index(\"check\")"
   ]
  },
  {
   "cell_type": "code",
   "execution_count": 1,
   "id": "e35baf34-ff8c-47fa-abbf-d465c6b2e81c",
   "metadata": {},
   "outputs": [],
   "source": [
    "from trie import Trie, TrieNode"
   ]
  },
  {
   "cell_type": "code",
   "execution_count": 2,
   "id": "46cff339-1d8d-4b14-997b-8b6342fc75d0",
   "metadata": {},
   "outputs": [
    {
     "name": "stderr",
     "output_type": "stream",
     "text": [
      "/usr/lib/python3/dist-packages/scipy/__init__.py:146: UserWarning: A NumPy version >=1.17.3 and <1.25.0 is required for this version of SciPy (detected version 1.26.2\n",
      "  warnings.warn(f\"A NumPy version >={np_minversion} and <{np_maxversion}\"\n"
     ]
    },
    {
     "name": "stdout",
     "output_type": "stream",
     "text": [
      "CPU times: user 2.63 s, sys: 1.87 s, total: 4.5 s\n",
      "Wall time: 2.4 s\n"
     ]
    }
   ],
   "source": [
    "%%time\n",
    "from wordlexicon import GetLexiconSize, return_wordID"
   ]
  },
  {
   "cell_type": "code",
   "execution_count": 6,
   "id": "86c0dd94-98ea-4df4-8b52-f907f30d936f",
   "metadata": {},
   "outputs": [
    {
     "name": "stdout",
     "output_type": "stream",
     "text": [
      "Process took: 0.010728836059570312 ms\n"
     ]
    }
   ],
   "source": [
    "get_time(return_wordID, \"runner\")"
   ]
  },
  {
   "cell_type": "code",
   "execution_count": 10,
   "id": "5c9ce67b-d38d-40b9-86ae-e97072a91df4",
   "metadata": {},
   "outputs": [
    {
     "name": "stdout",
     "output_type": "stream",
     "text": [
      "172\n",
      "43379\n",
      "48510\n",
      "117019\n",
      "117019\n",
      "24242\n",
      "99721\n",
      "147351\n",
      "CPU times: user 57 µs, sys: 32 µs, total: 89 µs\n",
      "Wall time: 89.9 µs\n"
     ]
    }
   ],
   "source": [
    "%%time\n",
    "for word in [\"each\", \"thing\", \"thought\", \"brothers\", \"brother\", \"good\", \"better\", \"best\"]:\n",
    "    print(return_wordID(word))"
   ]
  },
  {
   "cell_type": "code",
   "execution_count": 8,
   "id": "ffcc685a-d66f-4c91-9b08-beec0b1eafaa",
   "metadata": {
    "scrolled": true
   },
   "outputs": [
    {
     "name": "stdout",
     "output_type": "stream",
     "text": [
      "CPU times: user 19 µs, sys: 10 µs, total: 29 µs\n",
      "Wall time: 31.5 µs\n"
     ]
    },
    {
     "data": {
      "text/plain": [
       "117019"
      ]
     },
     "execution_count": 8,
     "metadata": {},
     "output_type": "execute_result"
    }
   ],
   "source": [
    "%%time\n",
    "return_wordID(\"brothers\")"
   ]
  },
  {
   "cell_type": "code",
   "execution_count": 12,
   "id": "f61b7427-02dc-4970-94d0-70bd6bed7fcd",
   "metadata": {},
   "outputs": [],
   "source": [
    "\n",
    "from nltk.stem import WordNetLemmatizer\n",
    "lemmatizer = WordNetLemmatizer()"
   ]
  },
  {
   "cell_type": "code",
   "execution_count": 14,
   "id": "cc1f46c1-b539-4c21-b3d5-7c98a87f5be9",
   "metadata": {},
   "outputs": [
    {
     "data": {
      "text/plain": [
       "'good'"
      ]
     },
     "execution_count": 14,
     "metadata": {},
     "output_type": "execute_result"
    }
   ],
   "source": [
    "lemmatizer.lemmatize(\"better\", \"a\")"
   ]
  },
  {
   "cell_type": "code",
   "execution_count": null,
   "id": "0ff81341-ca7b-47e0-aa5b-005d4d43ff74",
   "metadata": {},
   "outputs": [],
   "source": []
  }
 ],
 "metadata": {
  "kernelspec": {
   "display_name": "Python 3 (ipykernel)",
   "language": "python",
   "name": "python3"
  },
  "language_info": {
   "codemirror_mode": {
    "name": "ipython",
    "version": 3
   },
   "file_extension": ".py",
   "mimetype": "text/x-python",
   "name": "python",
   "nbconvert_exporter": "python",
   "pygments_lexer": "ipython3",
   "version": "3.10.12"
  }
 },
 "nbformat": 4,
 "nbformat_minor": 5
}
