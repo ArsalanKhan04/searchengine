{
 "cells": [
  {
   "cell_type": "code",
   "execution_count": 24,
   "id": "aac92459-1b01-4f04-a530-70aa21b33588",
   "metadata": {},
   "outputs": [
    {
     "name": "stdout",
     "output_type": "stream",
     "text": [
      "docelement_file_pb2.py    forwardindex_file.proto  SavingForwardIndex.ipynb\n",
      "docelement_file.proto     forwardindex.pb          wordelement_file_pb2.py\n",
      "forwardindex_file_pb2.py  \u001b[0m\u001b[01;34m__pycache__\u001b[0m/             wordelement_file.proto\n"
     ]
    }
   ],
   "source": [
    "%ls"
   ]
  },
  {
   "cell_type": "code",
   "execution_count": 25,
   "id": "d7c2f09b-9462-4483-ada1-4dec0b8b9b39",
   "metadata": {},
   "outputs": [],
   "source": [
    "import docelement_file_pb2 as dpb2\n",
    "import wordelement_file_pb2 as wpb2\n",
    "import forwardindex_file_pb2 as fpb2"
   ]
  },
  {
   "cell_type": "code",
   "execution_count": 19,
   "id": "90cc68fd-932d-426c-a994-39a11c03e4d2",
   "metadata": {},
   "outputs": [],
   "source": [
    "forwardindex = fpb2.ForwardIndex()\n",
    "\n",
    "for j in range(100000):\n",
    "    \n",
    "    docelempb = dpb2.DocElement()\n",
    "    \n",
    "    docelempb.doc_id = j\n",
    "    docelempb.title = \"Checking\"\n",
    "    docelempb.date = \"5/3/2023\"\n",
    "    docelempb.url = \"www.google.com\"\n",
    "    for i in range(4):\n",
    "        wordelempb = wpb2.WordElement()\n",
    "        wordelempb.word_id = i * j\n",
    "        wordelempb.hits = i*2\n",
    "        wordelempb.title = \"google\"\n",
    "        docelempb.wordelement.append(wordelempb)\n",
    "\n",
    "    forwardindex.docelement.append(docelempb)    \n",
    "\n"
   ]
  },
  {
   "cell_type": "code",
   "execution_count": 27,
   "id": "d69b734d-6c9a-495d-bd64-f65e9de4d1c4",
   "metadata": {},
   "outputs": [
    {
     "ename": "AttributeError",
     "evalue": "values",
     "output_type": "error",
     "traceback": [
      "\u001b[0;31m---------------------------------------------------------------------------\u001b[0m",
      "\u001b[0;31mAttributeError\u001b[0m                            Traceback (most recent call last)",
      "\u001b[0;32m/tmp/ipykernel_62380/1892096929.py\u001b[0m in \u001b[0;36m<module>\u001b[0;34m\u001b[0m\n\u001b[0;32m----> 1\u001b[0;31m \u001b[0mforwardindex\u001b[0m\u001b[0;34m.\u001b[0m\u001b[0mvalues\u001b[0m\u001b[0;34m[\u001b[0m\u001b[0;36m0\u001b[0m\u001b[0;34m]\u001b[0m\u001b[0;34m\u001b[0m\u001b[0;34m\u001b[0m\u001b[0m\n\u001b[0m",
      "\u001b[0;31mAttributeError\u001b[0m: values"
     ]
    }
   ],
   "source": [
    "forwardindex.values[0]"
   ]
  },
  {
   "cell_type": "code",
   "execution_count": 21,
   "id": "42828e44-05f2-4982-9bb1-db59b111387b",
   "metadata": {},
   "outputs": [],
   "source": [
    "serialised_data = forwardindex.SerializeToString()"
   ]
  },
  {
   "cell_type": "code",
   "execution_count": 20,
   "id": "173cbf50-aa1c-4dfc-9d80-b5223be5859b",
   "metadata": {},
   "outputs": [
    {
     "data": {
      "text/plain": [
       "9953207"
      ]
     },
     "execution_count": 20,
     "metadata": {},
     "output_type": "execute_result"
    }
   ],
   "source": [
    "forwardindex.ByteSize()"
   ]
  },
  {
   "cell_type": "code",
   "execution_count": 22,
   "id": "99d17ad3-2bf8-4906-ae28-00a289f15e6f",
   "metadata": {},
   "outputs": [],
   "source": [
    "with open(\"forwardindex.pb\", \"wb\") as f:\n",
    "    f.write(serialised_data)"
   ]
  },
  {
   "cell_type": "code",
   "execution_count": null,
   "id": "29e3556b-812a-452f-a4c7-e9574a61acd6",
   "metadata": {},
   "outputs": [],
   "source": []
  },
  {
   "cell_type": "code",
   "execution_count": null,
   "id": "5663a7bf-0dc4-487f-bddf-2dbf710212fd",
   "metadata": {},
   "outputs": [],
   "source": []
  }
 ],
 "metadata": {
  "kernelspec": {
   "display_name": "Python 3 (ipykernel)",
   "language": "python",
   "name": "python3"
  },
  "language_info": {
   "codemirror_mode": {
    "name": "ipython",
    "version": 3
   },
   "file_extension": ".py",
   "mimetype": "text/x-python",
   "name": "python",
   "nbconvert_exporter": "python",
   "pygments_lexer": "ipython3",
   "version": "3.10.12"
  }
 },
 "nbformat": 4,
 "nbformat_minor": 5
}
