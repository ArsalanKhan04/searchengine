{
 "cells": [
  {
   "cell_type": "markdown",
   "id": "e64458a3-627f-4e26-835b-26c0b2878d6c",
   "metadata": {},
   "source": [
    "## Making the Inverted Index\n",
    "\n",
    "Definition:\n",
    "- We have to make an inverted Index\n",
    "- Made through a forward index\n",
    "- We have to implement a formula that can help us get data accordingly\n",
    "- We have to also consider the stopwords (decrease their importance)\n",
    "    - imp = (hits * (2^title)) * (0.1^stopword)\n",
    "- A good way to implement this is to use a linked list."
   ]
  },
  {
   "cell_type": "markdown",
   "id": "373e75f4-5114-4a93-8124-b5467030019f",
   "metadata": {},
   "source": [
    "A demo linked list:\n",
    "\n",
    "(doc_id, 10) -> (doc_id, 8) -> (doc_id, 4) -> (doc_id, 1)\n",
    "\n",
    "when we are adding a new word with node value (doc_id, 6)\n",
    "\n",
    "(doc_id, 10) -> (doc_id, 8) -> (doc_id, 6) -> (doc_id, 4) -> (doc_id, 1)\n",
    "\n",
    "\n",
    "Important factor to consider, make insertion algorithm that inserts on the basis of importance.\n",
    "\n",
    "We have a few options:\n",
    "\n",
    "Option 1: We only store Word_IDs and Doc_IDs\n",
    "To implement this we only need a list of linked_lists of Doc_IDs\n",
    "\n",
    "Option 2: We store Word_IDs with their calculated importance\n",
    "\n",
    "Option 3: We store Word_IDs with their hits and title\n",
    "\n",
    "Option 4: We store Word_IDs with their hits, title and importance"
   ]
  },
  {
   "cell_type": "markdown",
   "id": "74510e5c-8530-4c92-89ac-05f11d8a58fb",
   "metadata": {},
   "source": [
    "Because we will use linkedlists, the following code would be written in cpp scripts"
   ]
  },
  {
   "cell_type": "code",
   "execution_count": null,
   "id": "f7a9cc55-f0b4-4935-a239-ad14a2f1c3f8",
   "metadata": {},
   "outputs": [],
   "source": []
  }
 ],
 "metadata": {
  "kernelspec": {
   "display_name": "Python 3 (ipykernel)",
   "language": "python",
   "name": "python3"
  },
  "language_info": {
   "codemirror_mode": {
    "name": "ipython",
    "version": 3
   },
   "file_extension": ".py",
   "mimetype": "text/x-python",
   "name": "python",
   "nbconvert_exporter": "python",
   "pygments_lexer": "ipython3",
   "version": "3.10.12"
  }
 },
 "nbformat": 4,
 "nbformat_minor": 5
}
