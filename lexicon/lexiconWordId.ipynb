{
 "cells": [
  {
   "cell_type": "code",
   "execution_count": 9,
   "id": "48209991",
   "metadata": {},
   "outputs": [
    {
     "name": "stderr",
     "output_type": "stream",
     "text": [
      "[nltk_data] Downloading package words to\n",
      "[nltk_data]     C:\\Users\\wajiz.pk\\AppData\\Roaming\\nltk_data...\n",
      "[nltk_data]   Package words is already up-to-date!\n"
     ]
    }
   ],
   "source": [
    "#  taking word list from nltk\n",
    "# first we import nltk library \n",
    "import nltk\n",
    "# now the issues arrises every time we run our code\n",
    "# that is different from previous one. \n",
    "# for that reason, we are using pickle library. \n",
    "import pickle\n",
    "# downloading words from nltk\n",
    "nltk.download('words')\n",
    "# first it check either file containing word exists or not. \n",
    "try:\n",
    "    # if yes, it exists then open file in read mode. \n",
    "    with open('word_list.pkl', 'rb') as file:\n",
    "        # and assign it to word list.\n",
    "        # pickle.load==> recontruct data in original form\n",
    "        word_list = pickle.load(file)\n",
    " # if not, then fetch english words from nltk        \n",
    "except FileNotFoundError:\n",
    "    # If the file doesn't exist, download the words and save them\n",
    "    word_list = nltk.corpus.words.words()\n",
    "    with open('word_list.pkl', 'wb') as file:\n",
    "        # pickle.dump==> store in binary form. \n",
    "        pickle.dump(word_list, file) \n",
    "\n",
    "# check the lebgth of word list \n",
    "length_of_wordlist=len(word_list)"
   ]
  },
  {
   "cell_type": "code",
   "execution_count": 10,
   "id": "4b2af845",
   "metadata": {},
   "outputs": [
    {
     "data": {
      "text/plain": [
       "202292"
      ]
     },
     "execution_count": 10,
     "metadata": {},
     "output_type": "execute_result"
    }
   ],
   "source": [
    "# now the length of word list is [236736] stored in var length_of_wordlist\n",
    "# by using function we assign unique wordId to word. \n",
    "\n",
    "def WordID(word):\n",
    "    wordaddress=word_list.index(word) \n",
    "    return wordaddress\n",
    "WordID(\"this\")"
   ]
  },
  {
   "cell_type": "code",
   "execution_count": null,
   "id": "230eafc3",
   "metadata": {},
   "outputs": [],
   "source": []
  }
 ],
 "metadata": {
  "kernelspec": {
   "display_name": "Python 3 (ipykernel)",
   "language": "python",
   "name": "python3"
  },
  "language_info": {
   "codemirror_mode": {
    "name": "ipython",
    "version": 3
   },
   "file_extension": ".py",
   "mimetype": "text/x-python",
   "name": "python",
   "nbconvert_exporter": "python",
   "pygments_lexer": "ipython3",
   "version": "3.9.12"
  }
 },
 "nbformat": 4,
 "nbformat_minor": 5
}
